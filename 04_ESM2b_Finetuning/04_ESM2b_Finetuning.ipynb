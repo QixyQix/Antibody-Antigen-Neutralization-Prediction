{
 "cells": [
  {
   "cell_type": "markdown",
   "id": "3efdf5a3",
   "metadata": {
    "papermill": {
     "duration": 0.005449,
     "end_time": "2023-10-13T16:59:05.335243",
     "exception": false,
     "start_time": "2023-10-13T16:59:05.329794",
     "status": "completed"
    },
    "tags": []
   },
   "source": [
    "# Online analytic for host pathogen protein interactions analysis\n",
    "### Part 4: Finetuning ESM2b model\n",
    "- We will be finetuning the `facebook/esm2_t33_650M_UR50D` protein language model. \n",
    "- The esm2 model is a newer version on the older `facebook/esm1b_t33_650M_UR50S`, which is based on the RoBERTa architecture."
   ]
  },
  {
   "cell_type": "markdown",
   "id": "a8ba6b00",
   "metadata": {
    "papermill": {
     "duration": 0.0045,
     "end_time": "2023-10-13T16:59:05.345559",
     "exception": false,
     "start_time": "2023-10-13T16:59:05.341059",
     "status": "completed"
    },
    "tags": []
   },
   "source": [
    "### Step 0: Installations & Setup\n",
    "Here we install the various libraries needed for our finetuning aspect of the project\n",
    "- We also specify the checkpoint we are using for our model\n",
    "- We will be utilizing the `facebook/esm2_t33_650M_UR50D` checkpoint as it is the most similar to esm1"
   ]
  },
  {
   "cell_type": "code",
   "execution_count": 1,
   "id": "72b9578e",
   "metadata": {
    "execution": {
     "iopub.execute_input": "2023-10-13T16:59:05.356343Z",
     "iopub.status.busy": "2023-10-13T16:59:05.355941Z",
     "iopub.status.idle": "2023-10-13T16:59:16.848086Z",
     "shell.execute_reply": "2023-10-13T16:59:16.846994Z"
    },
    "papermill": {
     "duration": 11.500001,
     "end_time": "2023-10-13T16:59:16.850255",
     "exception": false,
     "start_time": "2023-10-13T16:59:05.350254",
     "status": "completed"
    },
    "tags": []
   },
   "outputs": [
    {
     "name": "stdout",
     "output_type": "stream",
     "text": [
      "Collecting evaluate\r\n",
      "  Downloading evaluate-0.4.1-py3-none-any.whl (84 kB)\r\n",
      "\u001b[2K     \u001b[90m━━━━━━━━━━━━━━━━━━━━━━━━━━━━━━━━━━━━━━━━\u001b[0m \u001b[32m84.1/84.1 kB\u001b[0m \u001b[31m2.4 MB/s\u001b[0m eta \u001b[36m0:00:00\u001b[0m\r\n",
      "\u001b[?25hRequirement already satisfied: datasets>=2.0.0 in /opt/conda/lib/python3.10/site-packages (from evaluate) (2.1.0)\r\n",
      "Requirement already satisfied: numpy>=1.17 in /opt/conda/lib/python3.10/site-packages (from evaluate) (1.23.5)\r\n",
      "Requirement already satisfied: dill in /opt/conda/lib/python3.10/site-packages (from evaluate) (0.3.7)\r\n",
      "Requirement already satisfied: pandas in /opt/conda/lib/python3.10/site-packages (from evaluate) (2.0.2)\r\n",
      "Requirement already satisfied: requests>=2.19.0 in /opt/conda/lib/python3.10/site-packages (from evaluate) (2.31.0)\r\n",
      "Requirement already satisfied: tqdm>=4.62.1 in /opt/conda/lib/python3.10/site-packages (from evaluate) (4.66.1)\r\n",
      "Requirement already satisfied: xxhash in /opt/conda/lib/python3.10/site-packages (from evaluate) (3.3.0)\r\n",
      "Requirement already satisfied: multiprocess in /opt/conda/lib/python3.10/site-packages (from evaluate) (0.70.15)\r\n",
      "Requirement already satisfied: fsspec[http]>=2021.05.0 in /opt/conda/lib/python3.10/site-packages (from evaluate) (2023.9.0)\r\n",
      "Requirement already satisfied: huggingface-hub>=0.7.0 in /opt/conda/lib/python3.10/site-packages (from evaluate) (0.16.4)\r\n",
      "Requirement already satisfied: packaging in /opt/conda/lib/python3.10/site-packages (from evaluate) (21.3)\r\n",
      "Requirement already satisfied: responses<0.19 in /opt/conda/lib/python3.10/site-packages (from evaluate) (0.18.0)\r\n",
      "Requirement already satisfied: pyarrow>=5.0.0 in /opt/conda/lib/python3.10/site-packages (from datasets>=2.0.0->evaluate) (11.0.0)\r\n",
      "Requirement already satisfied: aiohttp in /opt/conda/lib/python3.10/site-packages (from datasets>=2.0.0->evaluate) (3.8.4)\r\n",
      "Requirement already satisfied: filelock in /opt/conda/lib/python3.10/site-packages (from huggingface-hub>=0.7.0->evaluate) (3.12.2)\r\n",
      "Requirement already satisfied: pyyaml>=5.1 in /opt/conda/lib/python3.10/site-packages (from huggingface-hub>=0.7.0->evaluate) (6.0)\r\n",
      "Requirement already satisfied: typing-extensions>=3.7.4.3 in /opt/conda/lib/python3.10/site-packages (from huggingface-hub>=0.7.0->evaluate) (4.6.3)\r\n",
      "Requirement already satisfied: pyparsing!=3.0.5,>=2.0.2 in /opt/conda/lib/python3.10/site-packages (from packaging->evaluate) (3.0.9)\r\n",
      "Requirement already satisfied: charset-normalizer<4,>=2 in /opt/conda/lib/python3.10/site-packages (from requests>=2.19.0->evaluate) (3.1.0)\r\n",
      "Requirement already satisfied: idna<4,>=2.5 in /opt/conda/lib/python3.10/site-packages (from requests>=2.19.0->evaluate) (3.4)\r\n",
      "Requirement already satisfied: urllib3<3,>=1.21.1 in /opt/conda/lib/python3.10/site-packages (from requests>=2.19.0->evaluate) (1.26.15)\r\n",
      "Requirement already satisfied: certifi>=2017.4.17 in /opt/conda/lib/python3.10/site-packages (from requests>=2.19.0->evaluate) (2023.7.22)\r\n",
      "Requirement already satisfied: python-dateutil>=2.8.2 in /opt/conda/lib/python3.10/site-packages (from pandas->evaluate) (2.8.2)\r\n",
      "Requirement already satisfied: pytz>=2020.1 in /opt/conda/lib/python3.10/site-packages (from pandas->evaluate) (2023.3)\r\n",
      "Requirement already satisfied: tzdata>=2022.1 in /opt/conda/lib/python3.10/site-packages (from pandas->evaluate) (2023.3)\r\n",
      "Requirement already satisfied: attrs>=17.3.0 in /opt/conda/lib/python3.10/site-packages (from aiohttp->datasets>=2.0.0->evaluate) (23.1.0)\r\n",
      "Requirement already satisfied: multidict<7.0,>=4.5 in /opt/conda/lib/python3.10/site-packages (from aiohttp->datasets>=2.0.0->evaluate) (6.0.4)\r\n",
      "Requirement already satisfied: async-timeout<5.0,>=4.0.0a3 in /opt/conda/lib/python3.10/site-packages (from aiohttp->datasets>=2.0.0->evaluate) (4.0.2)\r\n",
      "Requirement already satisfied: yarl<2.0,>=1.0 in /opt/conda/lib/python3.10/site-packages (from aiohttp->datasets>=2.0.0->evaluate) (1.9.2)\r\n",
      "Requirement already satisfied: frozenlist>=1.1.1 in /opt/conda/lib/python3.10/site-packages (from aiohttp->datasets>=2.0.0->evaluate) (1.3.3)\r\n",
      "Requirement already satisfied: aiosignal>=1.1.2 in /opt/conda/lib/python3.10/site-packages (from aiohttp->datasets>=2.0.0->evaluate) (1.3.1)\r\n",
      "Requirement already satisfied: six>=1.5 in /opt/conda/lib/python3.10/site-packages (from python-dateutil>=2.8.2->pandas->evaluate) (1.16.0)\r\n",
      "Installing collected packages: evaluate\r\n",
      "Successfully installed evaluate-0.4.1\r\n"
     ]
    }
   ],
   "source": [
    "# # Code to install biopython package; uncomment lines below to install the package if not already installed\n",
    "# import sys\n",
    "# !conda install --yes --prefix {sys.prefix} datasets transformers=4.28.0 torch scipy scikit-learn evaluate\n",
    "# !conda install --yes --prefix {sys.prefix} datasets transformers torch scipy scikit-learn evaluate pytorch-cuda\n",
    "# !conda install --yes --prefix {sys.prefix} pytorch-cuda=11.8 -c pytorch -c nvidia\n",
    "# !pip install datasets transformers torch scikit-learn evaluate\n",
    "!pip install evaluate\n"
   ]
  },
  {
   "cell_type": "code",
   "execution_count": 2,
   "id": "68eb8cec",
   "metadata": {
    "execution": {
     "iopub.execute_input": "2023-10-13T16:59:16.862407Z",
     "iopub.status.busy": "2023-10-13T16:59:16.862122Z",
     "iopub.status.idle": "2023-10-13T16:59:19.827513Z",
     "shell.execute_reply": "2023-10-13T16:59:19.826378Z"
    },
    "papermill": {
     "duration": 2.973549,
     "end_time": "2023-10-13T16:59:19.829370",
     "exception": false,
     "start_time": "2023-10-13T16:59:16.855821",
     "status": "completed"
    },
    "tags": []
   },
   "outputs": [
    {
     "name": "stderr",
     "output_type": "stream",
     "text": [
      "\u001b[34m\u001b[1mwandb\u001b[0m: W&B API key is configured. Use \u001b[1m`wandb login --relogin`\u001b[0m to force relogin\n",
      "\u001b[34m\u001b[1mwandb\u001b[0m: \u001b[33mWARNING\u001b[0m If you're specifying your api key in code, ensure this code is not shared publicly.\n",
      "\u001b[34m\u001b[1mwandb\u001b[0m: \u001b[33mWARNING\u001b[0m Consider setting the WANDB_API_KEY environment variable, or running `wandb login` from the command line.\n",
      "\u001b[34m\u001b[1mwandb\u001b[0m: Appending key for api.wandb.ai to your netrc file: /root/.netrc\n"
     ]
    },
    {
     "data": {
      "text/plain": [
       "True"
      ]
     },
     "execution_count": 2,
     "metadata": {},
     "output_type": "execute_result"
    }
   ],
   "source": [
    "import wandb\n",
    "from kaggle_secrets import UserSecretsClient\n",
    "user_secrets = UserSecretsClient()\n",
    "wandbkey = user_secrets.get_secret(\"wandb-key\")\n",
    "wandb.login(key=wandbkey)"
   ]
  },
  {
   "cell_type": "code",
   "execution_count": 3,
   "id": "b64bea77",
   "metadata": {
    "execution": {
     "iopub.execute_input": "2023-10-13T16:59:19.842102Z",
     "iopub.status.busy": "2023-10-13T16:59:19.841578Z",
     "iopub.status.idle": "2023-10-13T16:59:43.526020Z",
     "shell.execute_reply": "2023-10-13T16:59:43.524971Z"
    },
    "papermill": {
     "duration": 23.69317,
     "end_time": "2023-10-13T16:59:43.528303",
     "exception": false,
     "start_time": "2023-10-13T16:59:19.835133",
     "status": "completed"
    },
    "tags": []
   },
   "outputs": [
    {
     "name": "stderr",
     "output_type": "stream",
     "text": [
      "/opt/conda/lib/python3.10/site-packages/scipy/__init__.py:146: UserWarning: A NumPy version >=1.16.5 and <1.23.0 is required for this version of SciPy (detected version 1.23.5\n",
      "  warnings.warn(f\"A NumPy version >={np_minversion} and <{np_maxversion}\"\n"
     ]
    }
   ],
   "source": [
    "import pandas as pd # pandas package\n",
    "import numpy as np # numpy package\n",
    "import torch\n",
    "import datasets\n",
    "from transformers import AutoTokenizer, AutoModelForSequenceClassification, AdamW, TrainingArguments, Trainer\n",
    "from torch.utils.data import DataLoader, Dataset\n",
    "from sklearn.model_selection import train_test_split\n",
    "from sklearn.metrics import accuracy_score"
   ]
  },
  {
   "cell_type": "code",
   "execution_count": 4,
   "id": "68691bb4",
   "metadata": {
    "execution": {
     "iopub.execute_input": "2023-10-13T16:59:43.546875Z",
     "iopub.status.busy": "2023-10-13T16:59:43.546275Z",
     "iopub.status.idle": "2023-10-13T16:59:43.550848Z",
     "shell.execute_reply": "2023-10-13T16:59:43.549803Z"
    },
    "papermill": {
     "duration": 0.016632,
     "end_time": "2023-10-13T16:59:43.552932",
     "exception": false,
     "start_time": "2023-10-13T16:59:43.536300",
     "status": "completed"
    },
    "tags": []
   },
   "outputs": [],
   "source": [
    "# model_checkpoint = \"facebook/esm2_t33_650M_UR50D\"\n",
    "model_checkpoint = \"facebook/esm2_t12_35M_UR50D\"\n"
   ]
  },
  {
   "cell_type": "code",
   "execution_count": 5,
   "id": "b0de489d",
   "metadata": {
    "execution": {
     "iopub.execute_input": "2023-10-13T16:59:43.566280Z",
     "iopub.status.busy": "2023-10-13T16:59:43.566021Z",
     "iopub.status.idle": "2023-10-13T16:59:43.691023Z",
     "shell.execute_reply": "2023-10-13T16:59:43.689932Z"
    },
    "papermill": {
     "duration": 0.133608,
     "end_time": "2023-10-13T16:59:43.692893",
     "exception": false,
     "start_time": "2023-10-13T16:59:43.559285",
     "status": "completed"
    },
    "tags": []
   },
   "outputs": [
    {
     "data": {
      "text/plain": [
       "True"
      ]
     },
     "execution_count": 5,
     "metadata": {},
     "output_type": "execute_result"
    }
   ],
   "source": [
    "torch.cuda.is_available()"
   ]
  },
  {
   "cell_type": "code",
   "execution_count": 6,
   "id": "819e223a",
   "metadata": {
    "execution": {
     "iopub.execute_input": "2023-10-13T16:59:43.705559Z",
     "iopub.status.busy": "2023-10-13T16:59:43.705285Z",
     "iopub.status.idle": "2023-10-13T16:59:43.709414Z",
     "shell.execute_reply": "2023-10-13T16:59:43.708462Z"
    },
    "papermill": {
     "duration": 0.012415,
     "end_time": "2023-10-13T16:59:43.711134",
     "exception": false,
     "start_time": "2023-10-13T16:59:43.698719",
     "status": "completed"
    },
    "tags": []
   },
   "outputs": [],
   "source": [
    "## Settings\n",
    "# Set to False to run crdh instead\n",
    "using_full_seq = False\n",
    "# Set to false to use balanced dataset instead\n",
    "imbalanced_dataset = False"
   ]
  },
  {
   "cell_type": "markdown",
   "id": "e728e0e1",
   "metadata": {
    "papermill": {
     "duration": 0.005316,
     "end_time": "2023-10-13T16:59:43.721850",
     "exception": false,
     "start_time": "2023-10-13T16:59:43.716534",
     "status": "completed"
    },
    "tags": []
   },
   "source": [
    "### Step 1: Import train & test data\n",
    "We will be importing the dataset that was previously generated by our data cleaning and preparation portion of this project"
   ]
  },
  {
   "cell_type": "code",
   "execution_count": 7,
   "id": "fd84cc4b",
   "metadata": {
    "execution": {
     "iopub.execute_input": "2023-10-13T16:59:43.734554Z",
     "iopub.status.busy": "2023-10-13T16:59:43.733882Z",
     "iopub.status.idle": "2023-10-13T16:59:44.245659Z",
     "shell.execute_reply": "2023-10-13T16:59:44.244267Z"
    },
    "papermill": {
     "duration": 0.520218,
     "end_time": "2023-10-13T16:59:44.247561",
     "exception": false,
     "start_time": "2023-10-13T16:59:43.727343",
     "status": "completed"
    },
    "tags": []
   },
   "outputs": [
    {
     "name": "stdout",
     "output_type": "stream",
     "text": [
      "(31099, 4)\n",
      "(10367, 4)\n"
     ]
    }
   ],
   "source": [
    "if imbalanced_dataset:\n",
    "    train_df = pd.read_csv(\"/kaggle/input/1024-featurized-dataset/1024_dataset_multiclass_featurized(train).csv\")\n",
    "    test_df = pd.read_csv(\"/kaggle/input/1024-featurized-dataset/1024_dataset_multiclass_featurized(test).csv\")\n",
    "else:\n",
    "    train_df = pd.read_csv(\"/kaggle/input/1024-featurized-dataset/1024_dataset_multiclass_featurized_balanced(train).csv\")\n",
    "    test_df = pd.read_csv(\"/kaggle/input/1024-featurized-dataset/1024_dataset_multiclass_featurized_balanced(test).csv\")\n",
    "\n",
    "print(train_df.shape)\n",
    "print(test_df.shape)"
   ]
  },
  {
   "cell_type": "code",
   "execution_count": 8,
   "id": "99a34c88",
   "metadata": {
    "execution": {
     "iopub.execute_input": "2023-10-13T16:59:44.262267Z",
     "iopub.status.busy": "2023-10-13T16:59:44.261460Z",
     "iopub.status.idle": "2023-10-13T16:59:44.275674Z",
     "shell.execute_reply": "2023-10-13T16:59:44.274674Z"
    },
    "papermill": {
     "duration": 0.023262,
     "end_time": "2023-10-13T16:59:44.277492",
     "exception": false,
     "start_time": "2023-10-13T16:59:44.254230",
     "status": "completed"
    },
    "tags": []
   },
   "outputs": [
    {
     "data": {
      "text/plain": [
       "comb_seq_full     object\n",
       "comb_seq_cdr3     object\n",
       "virus_sequence    object\n",
       "label              int64\n",
       "dtype: object"
      ]
     },
     "execution_count": 8,
     "metadata": {},
     "output_type": "execute_result"
    }
   ],
   "source": [
    "train_df.dtypes"
   ]
  },
  {
   "cell_type": "code",
   "execution_count": 9,
   "id": "f87ced0b",
   "metadata": {
    "execution": {
     "iopub.execute_input": "2023-10-13T16:59:44.291074Z",
     "iopub.status.busy": "2023-10-13T16:59:44.290492Z",
     "iopub.status.idle": "2023-10-13T16:59:44.294991Z",
     "shell.execute_reply": "2023-10-13T16:59:44.294132Z"
    },
    "papermill": {
     "duration": 0.013038,
     "end_time": "2023-10-13T16:59:44.296658",
     "exception": false,
     "start_time": "2023-10-13T16:59:44.283620",
     "status": "completed"
    },
    "tags": []
   },
   "outputs": [],
   "source": [
    "# def standardize_df(input_df):\n",
    "#     df = input_df.copy()\n",
    "#     df[\"label\"] = df[\"label\"].astype(int)\n",
    "#     df = df[[\"heavy_chain\",\"light_chain\",\"cdrh3\",\"cdrl3\",\"virus_sequence\",\"label\"]]\n",
    "#     if using_full_seq:\n",
    "#         df[\"comb_seq\"] = df[\"heavy_chain\"]+\"\"+df[\"light_chain\"]\n",
    "#     else:\n",
    "#         df[\"comb_seq\"] = df[\"cdrh3\"]+\"\"+df[\"cdrl3\"]\n",
    "#     return df"
   ]
  },
  {
   "cell_type": "code",
   "execution_count": 10,
   "id": "8ffc1bf8",
   "metadata": {
    "execution": {
     "iopub.execute_input": "2023-10-13T16:59:44.309999Z",
     "iopub.status.busy": "2023-10-13T16:59:44.309583Z",
     "iopub.status.idle": "2023-10-13T16:59:44.314581Z",
     "shell.execute_reply": "2023-10-13T16:59:44.313673Z"
    },
    "papermill": {
     "duration": 0.014209,
     "end_time": "2023-10-13T16:59:44.316462",
     "exception": false,
     "start_time": "2023-10-13T16:59:44.302253",
     "status": "completed"
    },
    "tags": []
   },
   "outputs": [],
   "source": [
    "def standardize_df(input_df):\n",
    "    df = input_df.copy()\n",
    "    df[\"label\"] = df[\"label\"].astype(int)\n",
    "    if using_full_seq:\n",
    "        df[\"comb_seq\"] = df[\"comb_seq_full\"]\n",
    "    else:\n",
    "        df[\"comb_seq\"] = df[\"comb_seq_cdr3\"]\n",
    "    return df"
   ]
  },
  {
   "cell_type": "code",
   "execution_count": 11,
   "id": "c1c151f3",
   "metadata": {
    "execution": {
     "iopub.execute_input": "2023-10-13T16:59:44.329787Z",
     "iopub.status.busy": "2023-10-13T16:59:44.329129Z",
     "iopub.status.idle": "2023-10-13T16:59:44.338848Z",
     "shell.execute_reply": "2023-10-13T16:59:44.338004Z"
    },
    "papermill": {
     "duration": 0.018182,
     "end_time": "2023-10-13T16:59:44.340623",
     "exception": false,
     "start_time": "2023-10-13T16:59:44.322441",
     "status": "completed"
    },
    "tags": []
   },
   "outputs": [],
   "source": [
    "train_df = standardize_df(train_df)\n",
    "test_df = standardize_df(test_df)"
   ]
  },
  {
   "cell_type": "code",
   "execution_count": 12,
   "id": "cee3a81e",
   "metadata": {
    "execution": {
     "iopub.execute_input": "2023-10-13T16:59:44.354011Z",
     "iopub.status.busy": "2023-10-13T16:59:44.353221Z",
     "iopub.status.idle": "2023-10-13T16:59:44.366508Z",
     "shell.execute_reply": "2023-10-13T16:59:44.365667Z"
    },
    "papermill": {
     "duration": 0.0216,
     "end_time": "2023-10-13T16:59:44.368118",
     "exception": false,
     "start_time": "2023-10-13T16:59:44.346518",
     "status": "completed"
    },
    "tags": []
   },
   "outputs": [
    {
     "data": {
      "text/html": [
       "<div>\n",
       "<style scoped>\n",
       "    .dataframe tbody tr th:only-of-type {\n",
       "        vertical-align: middle;\n",
       "    }\n",
       "\n",
       "    .dataframe tbody tr th {\n",
       "        vertical-align: top;\n",
       "    }\n",
       "\n",
       "    .dataframe thead th {\n",
       "        text-align: right;\n",
       "    }\n",
       "</style>\n",
       "<table border=\"1\" class=\"dataframe\">\n",
       "  <thead>\n",
       "    <tr style=\"text-align: right;\">\n",
       "      <th></th>\n",
       "      <th>comb_seq_full</th>\n",
       "      <th>comb_seq_cdr3</th>\n",
       "      <th>virus_sequence</th>\n",
       "      <th>label</th>\n",
       "      <th>comb_seq</th>\n",
       "    </tr>\n",
       "  </thead>\n",
       "  <tbody>\n",
       "    <tr>\n",
       "      <th>0</th>\n",
       "      <td>QVQLQESGPGLVKPSQTLSLTCTVSGGSISSGSYYWSWIRQPVGKG...</td>\n",
       "      <td>ARESSPASIPVRGVIWWFDPAAWDDSLNGSVV</td>\n",
       "      <td>PTESIVRFPNITNLCPFDEVFNATRFASVYAWNRKRISNCVADYSV...</td>\n",
       "      <td>2</td>\n",
       "      <td>ARESSPASIPVRGVIWWFDPAAWDDSLNGSVV</td>\n",
       "    </tr>\n",
       "    <tr>\n",
       "      <th>1</th>\n",
       "      <td>EVQLVESGGGLVQPGGSLRLSCAASGFTFSSYDMHWVRQTPGEGLE...</td>\n",
       "      <td>ARAGYDILTAYLDLQQSYIMPPWT</td>\n",
       "      <td>PNITNLCPFDEVFNATRFASVYAWNRKRISNCVADYSVLYNLAPFF...</td>\n",
       "      <td>1</td>\n",
       "      <td>ARAGYDILTAYLDLQQSYIMPPWT</td>\n",
       "    </tr>\n",
       "    <tr>\n",
       "      <th>2</th>\n",
       "      <td>QVQLVESGGGVVQPGRSLRLSCAASGFTFSSYGMHWVRQAPGKGLE...</td>\n",
       "      <td>AKDMIRGETHFNYYMDVCSYAGSFVV</td>\n",
       "      <td>HHHHHHTNLCPFDEVFNATRFASVYAWNRKRISNCVADYSVLYNFA...</td>\n",
       "      <td>0</td>\n",
       "      <td>AKDMIRGETHFNYYMDVCSYAGSFVV</td>\n",
       "    </tr>\n",
       "    <tr>\n",
       "      <th>3</th>\n",
       "      <td>EVQLVESGGGLVQPGGSLRLSCAASGLTVSSNYMRWVRQAPGKGLE...</td>\n",
       "      <td>ARDLYVFGMDVQQLNSDSST</td>\n",
       "      <td>MGILPSPGMPALLSLVSLLSVLLMGCVAETGTRFPNITNLCPFGEV...</td>\n",
       "      <td>2</td>\n",
       "      <td>ARDLYVFGMDVQQLNSDSST</td>\n",
       "    </tr>\n",
       "    <tr>\n",
       "      <th>4</th>\n",
       "      <td>QITLKESGPTLVKPTQTLTLTCTFYGFSLSTSGVGVGWIRQPPGKA...</td>\n",
       "      <td>AHTMLFEYGDFDYSSYKSSTTSRV</td>\n",
       "      <td>TNLCPFDEVFNATRFASVYAWNRKRISNCVADYSVLYNLAPFFTFK...</td>\n",
       "      <td>1</td>\n",
       "      <td>AHTMLFEYGDFDYSSYKSSTTSRV</td>\n",
       "    </tr>\n",
       "  </tbody>\n",
       "</table>\n",
       "</div>"
      ],
      "text/plain": [
       "                                       comb_seq_full  \\\n",
       "0  QVQLQESGPGLVKPSQTLSLTCTVSGGSISSGSYYWSWIRQPVGKG...   \n",
       "1  EVQLVESGGGLVQPGGSLRLSCAASGFTFSSYDMHWVRQTPGEGLE...   \n",
       "2  QVQLVESGGGVVQPGRSLRLSCAASGFTFSSYGMHWVRQAPGKGLE...   \n",
       "3  EVQLVESGGGLVQPGGSLRLSCAASGLTVSSNYMRWVRQAPGKGLE...   \n",
       "4  QITLKESGPTLVKPTQTLTLTCTFYGFSLSTSGVGVGWIRQPPGKA...   \n",
       "\n",
       "                      comb_seq_cdr3  \\\n",
       "0  ARESSPASIPVRGVIWWFDPAAWDDSLNGSVV   \n",
       "1          ARAGYDILTAYLDLQQSYIMPPWT   \n",
       "2        AKDMIRGETHFNYYMDVCSYAGSFVV   \n",
       "3              ARDLYVFGMDVQQLNSDSST   \n",
       "4          AHTMLFEYGDFDYSSYKSSTTSRV   \n",
       "\n",
       "                                      virus_sequence  label  \\\n",
       "0  PTESIVRFPNITNLCPFDEVFNATRFASVYAWNRKRISNCVADYSV...      2   \n",
       "1  PNITNLCPFDEVFNATRFASVYAWNRKRISNCVADYSVLYNLAPFF...      1   \n",
       "2  HHHHHHTNLCPFDEVFNATRFASVYAWNRKRISNCVADYSVLYNFA...      0   \n",
       "3  MGILPSPGMPALLSLVSLLSVLLMGCVAETGTRFPNITNLCPFGEV...      2   \n",
       "4  TNLCPFDEVFNATRFASVYAWNRKRISNCVADYSVLYNLAPFFTFK...      1   \n",
       "\n",
       "                           comb_seq  \n",
       "0  ARESSPASIPVRGVIWWFDPAAWDDSLNGSVV  \n",
       "1          ARAGYDILTAYLDLQQSYIMPPWT  \n",
       "2        AKDMIRGETHFNYYMDVCSYAGSFVV  \n",
       "3              ARDLYVFGMDVQQLNSDSST  \n",
       "4          AHTMLFEYGDFDYSSYKSSTTSRV  "
      ]
     },
     "execution_count": 12,
     "metadata": {},
     "output_type": "execute_result"
    }
   ],
   "source": [
    "train_df.head()"
   ]
  },
  {
   "cell_type": "code",
   "execution_count": 13,
   "id": "142a5ee3",
   "metadata": {
    "execution": {
     "iopub.execute_input": "2023-10-13T16:59:44.391195Z",
     "iopub.status.busy": "2023-10-13T16:59:44.390952Z",
     "iopub.status.idle": "2023-10-13T16:59:44.400004Z",
     "shell.execute_reply": "2023-10-13T16:59:44.399151Z"
    },
    "papermill": {
     "duration": 0.021876,
     "end_time": "2023-10-13T16:59:44.401852",
     "exception": false,
     "start_time": "2023-10-13T16:59:44.379976",
     "status": "completed"
    },
    "tags": []
   },
   "outputs": [
    {
     "data": {
      "text/html": [
       "<div>\n",
       "<style scoped>\n",
       "    .dataframe tbody tr th:only-of-type {\n",
       "        vertical-align: middle;\n",
       "    }\n",
       "\n",
       "    .dataframe tbody tr th {\n",
       "        vertical-align: top;\n",
       "    }\n",
       "\n",
       "    .dataframe thead th {\n",
       "        text-align: right;\n",
       "    }\n",
       "</style>\n",
       "<table border=\"1\" class=\"dataframe\">\n",
       "  <thead>\n",
       "    <tr style=\"text-align: right;\">\n",
       "      <th></th>\n",
       "      <th>comb_seq_full</th>\n",
       "      <th>comb_seq_cdr3</th>\n",
       "      <th>virus_sequence</th>\n",
       "      <th>label</th>\n",
       "      <th>comb_seq</th>\n",
       "    </tr>\n",
       "  </thead>\n",
       "  <tbody>\n",
       "    <tr>\n",
       "      <th>0</th>\n",
       "      <td>EVQLVESGGGVVQPGGSRRLSCVASGFTFTSYDIHWVRQGTGKSLE...</td>\n",
       "      <td>VRAYPFYDMLTGDTYHYYGLDVQQYGRSPPLT</td>\n",
       "      <td>HHHHHHTNLCPFDEVFNATRFASVYAWNRKRISNCVADYSVLYNFA...</td>\n",
       "      <td>0</td>\n",
       "      <td>VRAYPFYDMLTGDTYHYYGLDVQQYGRSPPLT</td>\n",
       "    </tr>\n",
       "    <tr>\n",
       "      <th>1</th>\n",
       "      <td>QVQLVQSGAEVKKPGSSVKVSCQASGGTFSSYAISWVRQAPGQGLE...</td>\n",
       "      <td>AQRSEMASVQAWDSSTEV</td>\n",
       "      <td>HHHHHHTNLCPFDEVFNATRFASVYAWNRKRISNCVADYSVLYNLA...</td>\n",
       "      <td>2</td>\n",
       "      <td>AQRSEMASVQAWDSSTEV</td>\n",
       "    </tr>\n",
       "    <tr>\n",
       "      <th>2</th>\n",
       "      <td>QVQLVQSGAEVKKPGSSVKVSCKASGGTFSNYALSWVRQAPGQGLE...</td>\n",
       "      <td>ARLDGYSFGHDRYYQDGMDDLQQNIYPRT</td>\n",
       "      <td>PKITNLCPFDEVFNATRFASVYAWNRKRISNCVADYSVLYNLAPFF...</td>\n",
       "      <td>2</td>\n",
       "      <td>ARLDGYSFGHDRYYQDGMDDLQQNIYPRT</td>\n",
       "    </tr>\n",
       "    <tr>\n",
       "      <th>3</th>\n",
       "      <td>QITLKESGPTLVKPTQTLTLTCTFSGFSLSTSGVGVGWIRQPPGKA...</td>\n",
       "      <td>AHKYQLAAFDYCQQYDNLWT</td>\n",
       "      <td>HHHHHHTNLCPFDEVFNATRFASVYAWNRKRISNCVADYSVLYNFA...</td>\n",
       "      <td>2</td>\n",
       "      <td>AHKYQLAAFDYCQQYDNLWT</td>\n",
       "    </tr>\n",
       "    <tr>\n",
       "      <th>4</th>\n",
       "      <td>QGQLVQSGSELQKPGASVRVSCKASGFTLTSYAINWVRQAPGQGLE...</td>\n",
       "      <td>ARVGRYSISWLDDAFDIQQYYSTPLT</td>\n",
       "      <td>PSKPSKRSFIEDLLFNKVTLADAGF</td>\n",
       "      <td>2</td>\n",
       "      <td>ARVGRYSISWLDDAFDIQQYYSTPLT</td>\n",
       "    </tr>\n",
       "  </tbody>\n",
       "</table>\n",
       "</div>"
      ],
      "text/plain": [
       "                                       comb_seq_full  \\\n",
       "0  EVQLVESGGGVVQPGGSRRLSCVASGFTFTSYDIHWVRQGTGKSLE...   \n",
       "1  QVQLVQSGAEVKKPGSSVKVSCQASGGTFSSYAISWVRQAPGQGLE...   \n",
       "2  QVQLVQSGAEVKKPGSSVKVSCKASGGTFSNYALSWVRQAPGQGLE...   \n",
       "3  QITLKESGPTLVKPTQTLTLTCTFSGFSLSTSGVGVGWIRQPPGKA...   \n",
       "4  QGQLVQSGSELQKPGASVRVSCKASGFTLTSYAINWVRQAPGQGLE...   \n",
       "\n",
       "                      comb_seq_cdr3  \\\n",
       "0  VRAYPFYDMLTGDTYHYYGLDVQQYGRSPPLT   \n",
       "1                AQRSEMASVQAWDSSTEV   \n",
       "2     ARLDGYSFGHDRYYQDGMDDLQQNIYPRT   \n",
       "3              AHKYQLAAFDYCQQYDNLWT   \n",
       "4        ARVGRYSISWLDDAFDIQQYYSTPLT   \n",
       "\n",
       "                                      virus_sequence  label  \\\n",
       "0  HHHHHHTNLCPFDEVFNATRFASVYAWNRKRISNCVADYSVLYNFA...      0   \n",
       "1  HHHHHHTNLCPFDEVFNATRFASVYAWNRKRISNCVADYSVLYNLA...      2   \n",
       "2  PKITNLCPFDEVFNATRFASVYAWNRKRISNCVADYSVLYNLAPFF...      2   \n",
       "3  HHHHHHTNLCPFDEVFNATRFASVYAWNRKRISNCVADYSVLYNFA...      2   \n",
       "4                          PSKPSKRSFIEDLLFNKVTLADAGF      2   \n",
       "\n",
       "                           comb_seq  \n",
       "0  VRAYPFYDMLTGDTYHYYGLDVQQYGRSPPLT  \n",
       "1                AQRSEMASVQAWDSSTEV  \n",
       "2     ARLDGYSFGHDRYYQDGMDDLQQNIYPRT  \n",
       "3              AHKYQLAAFDYCQQYDNLWT  \n",
       "4        ARVGRYSISWLDDAFDIQQYYSTPLT  "
      ]
     },
     "execution_count": 13,
     "metadata": {},
     "output_type": "execute_result"
    }
   ],
   "source": [
    "test_df.head()"
   ]
  },
  {
   "cell_type": "markdown",
   "id": "7200235a",
   "metadata": {
    "papermill": {
     "duration": 0.006562,
     "end_time": "2023-10-13T16:59:44.414820",
     "exception": false,
     "start_time": "2023-10-13T16:59:44.408258",
     "status": "completed"
    },
    "tags": []
   },
   "source": [
    "### Step 2: Tokenize inputs"
   ]
  },
  {
   "cell_type": "code",
   "execution_count": 14,
   "id": "ba3ffc74",
   "metadata": {
    "execution": {
     "iopub.execute_input": "2023-10-13T16:59:44.428096Z",
     "iopub.status.busy": "2023-10-13T16:59:44.427812Z",
     "iopub.status.idle": "2023-10-13T16:59:45.037742Z",
     "shell.execute_reply": "2023-10-13T16:59:45.036834Z"
    },
    "papermill": {
     "duration": 0.623208,
     "end_time": "2023-10-13T16:59:45.044172",
     "exception": false,
     "start_time": "2023-10-13T16:59:44.420964",
     "status": "completed"
    },
    "tags": []
   },
   "outputs": [
    {
     "data": {
      "application/vnd.jupyter.widget-view+json": {
       "model_id": "c6a917c0f06541f88c17f50f3b147a9a",
       "version_major": 2,
       "version_minor": 0
      },
      "text/plain": [
       "Downloading (…)okenizer_config.json:   0%|          | 0.00/95.0 [00:00<?, ?B/s]"
      ]
     },
     "metadata": {},
     "output_type": "display_data"
    },
    {
     "data": {
      "application/vnd.jupyter.widget-view+json": {
       "model_id": "93d309fc2884406c99835ce6b6633a9f",
       "version_major": 2,
       "version_minor": 0
      },
      "text/plain": [
       "Downloading (…)solve/main/vocab.txt:   0%|          | 0.00/93.0 [00:00<?, ?B/s]"
      ]
     },
     "metadata": {},
     "output_type": "display_data"
    },
    {
     "data": {
      "application/vnd.jupyter.widget-view+json": {
       "model_id": "63955ebebee04e1fba29699d88389f86",
       "version_major": 2,
       "version_minor": 0
      },
      "text/plain": [
       "Downloading (…)cial_tokens_map.json:   0%|          | 0.00/125 [00:00<?, ?B/s]"
      ]
     },
     "metadata": {},
     "output_type": "display_data"
    }
   ],
   "source": [
    "tokenizer = AutoTokenizer.from_pretrained(model_checkpoint)"
   ]
  },
  {
   "cell_type": "code",
   "execution_count": 15,
   "id": "195f75a0",
   "metadata": {
    "execution": {
     "iopub.execute_input": "2023-10-13T16:59:45.059123Z",
     "iopub.status.busy": "2023-10-13T16:59:45.058276Z",
     "iopub.status.idle": "2023-10-13T16:59:45.063211Z",
     "shell.execute_reply": "2023-10-13T16:59:45.062233Z"
    },
    "papermill": {
     "duration": 0.014341,
     "end_time": "2023-10-13T16:59:45.065362",
     "exception": false,
     "start_time": "2023-10-13T16:59:45.051021",
     "status": "completed"
    },
    "tags": []
   },
   "outputs": [],
   "source": [
    "def preprocess_function(df):\n",
    "    return tokenizer(df[\"comb_seq\"], df[\"virus_sequence\"])"
   ]
  },
  {
   "cell_type": "code",
   "execution_count": 16,
   "id": "162cfee5",
   "metadata": {
    "execution": {
     "iopub.execute_input": "2023-10-13T16:59:45.080106Z",
     "iopub.status.busy": "2023-10-13T16:59:45.079343Z",
     "iopub.status.idle": "2023-10-13T16:59:45.083457Z",
     "shell.execute_reply": "2023-10-13T16:59:45.082655Z"
    },
    "papermill": {
     "duration": 0.013427,
     "end_time": "2023-10-13T16:59:45.085244",
     "exception": false,
     "start_time": "2023-10-13T16:59:45.071817",
     "status": "completed"
    },
    "tags": []
   },
   "outputs": [],
   "source": [
    "# test_dataset = datasets.Dataset.from_pandas(test_df[[\"comb_seq\",\"virus_sequence\",\"label\"]])\n",
    "# test_dataset = test_dataset.map(preprocess_function, batched=True)\n"
   ]
  },
  {
   "cell_type": "code",
   "execution_count": 17,
   "id": "b5fcac15",
   "metadata": {
    "execution": {
     "iopub.execute_input": "2023-10-13T16:59:45.099121Z",
     "iopub.status.busy": "2023-10-13T16:59:45.098353Z",
     "iopub.status.idle": "2023-10-13T17:00:08.141760Z",
     "shell.execute_reply": "2023-10-13T17:00:08.140904Z"
    },
    "papermill": {
     "duration": 23.052003,
     "end_time": "2023-10-13T17:00:08.143512",
     "exception": false,
     "start_time": "2023-10-13T16:59:45.091509",
     "status": "completed"
    },
    "tags": []
   },
   "outputs": [
    {
     "data": {
      "application/vnd.jupyter.widget-view+json": {
       "model_id": "e37087eeb6cd47dab2e2fe57a130f7e0",
       "version_major": 2,
       "version_minor": 0
      },
      "text/plain": [
       "  0%|          | 0/32 [00:00<?, ?ba/s]"
      ]
     },
     "metadata": {},
     "output_type": "display_data"
    },
    {
     "data": {
      "application/vnd.jupyter.widget-view+json": {
       "model_id": "48c765f0874743358ec2b76fb14d090d",
       "version_major": 2,
       "version_minor": 0
      },
      "text/plain": [
       "  0%|          | 0/11 [00:00<?, ?ba/s]"
      ]
     },
     "metadata": {},
     "output_type": "display_data"
    }
   ],
   "source": [
    "train_dataset = datasets.Dataset.from_pandas(train_df[[\"comb_seq\",\"virus_sequence\",\"label\"]])\n",
    "test_dataset = datasets.Dataset.from_pandas(test_df[[\"comb_seq\",\"virus_sequence\",\"label\"]])\n",
    "\n",
    "train_dataset = train_dataset.map(preprocess_function, batched=True)\n",
    "train_dataset = train_dataset.remove_columns([\"comb_seq\",\"virus_sequence\"])\n",
    "train_dataset = train_dataset.rename_column(\"label\",\"labels\")\n",
    "train_dataset.set_format(type=\"torch\")\n",
    "\n",
    "test_dataset = test_dataset.map(preprocess_function, batched=True)\n",
    "test_dataset = test_dataset.remove_columns([\"comb_seq\",\"virus_sequence\"])\n",
    "test_dataset = test_dataset.rename_column(\"label\",\"labels\")\n",
    "test_dataset.set_format(type=\"torch\")"
   ]
  },
  {
   "cell_type": "code",
   "execution_count": 18,
   "id": "999ebf85",
   "metadata": {
    "execution": {
     "iopub.execute_input": "2023-10-13T17:00:08.157954Z",
     "iopub.status.busy": "2023-10-13T17:00:08.157693Z",
     "iopub.status.idle": "2023-10-13T17:00:08.162816Z",
     "shell.execute_reply": "2023-10-13T17:00:08.161978Z"
    },
    "papermill": {
     "duration": 0.014373,
     "end_time": "2023-10-13T17:00:08.164737",
     "exception": false,
     "start_time": "2023-10-13T17:00:08.150364",
     "status": "completed"
    },
    "tags": []
   },
   "outputs": [
    {
     "data": {
      "text/plain": [
       "Dataset({\n",
       "    features: ['labels', 'input_ids', 'attention_mask'],\n",
       "    num_rows: 31099\n",
       "})"
      ]
     },
     "execution_count": 18,
     "metadata": {},
     "output_type": "execute_result"
    }
   ],
   "source": [
    "train_dataset"
   ]
  },
  {
   "cell_type": "code",
   "execution_count": 19,
   "id": "248d3868",
   "metadata": {
    "execution": {
     "iopub.execute_input": "2023-10-13T17:00:08.179288Z",
     "iopub.status.busy": "2023-10-13T17:00:08.178760Z",
     "iopub.status.idle": "2023-10-13T17:00:08.184368Z",
     "shell.execute_reply": "2023-10-13T17:00:08.183518Z"
    },
    "papermill": {
     "duration": 0.014868,
     "end_time": "2023-10-13T17:00:08.186085",
     "exception": false,
     "start_time": "2023-10-13T17:00:08.171217",
     "status": "completed"
    },
    "tags": []
   },
   "outputs": [
    {
     "data": {
      "text/plain": [
       "Dataset({\n",
       "    features: ['labels', 'input_ids', 'attention_mask'],\n",
       "    num_rows: 10367\n",
       "})"
      ]
     },
     "execution_count": 19,
     "metadata": {},
     "output_type": "execute_result"
    }
   ],
   "source": [
    "test_dataset"
   ]
  },
  {
   "cell_type": "markdown",
   "id": "580a8315",
   "metadata": {
    "papermill": {
     "duration": 0.006745,
     "end_time": "2023-10-13T17:00:08.199307",
     "exception": false,
     "start_time": "2023-10-13T17:00:08.192562",
     "status": "completed"
    },
    "tags": []
   },
   "source": [
    "### Step 3: Perform training"
   ]
  },
  {
   "cell_type": "code",
   "execution_count": 20,
   "id": "e27718fc",
   "metadata": {
    "execution": {
     "iopub.execute_input": "2023-10-13T17:00:08.213533Z",
     "iopub.status.busy": "2023-10-13T17:00:08.212819Z",
     "iopub.status.idle": "2023-10-13T17:00:10.087639Z",
     "shell.execute_reply": "2023-10-13T17:00:10.086650Z"
    },
    "papermill": {
     "duration": 1.883908,
     "end_time": "2023-10-13T17:00:10.089652",
     "exception": false,
     "start_time": "2023-10-13T17:00:08.205744",
     "status": "completed"
    },
    "tags": []
   },
   "outputs": [
    {
     "data": {
      "application/vnd.jupyter.widget-view+json": {
       "model_id": "6da36f32ac3842a5b772af3439bb0c85",
       "version_major": 2,
       "version_minor": 0
      },
      "text/plain": [
       "Downloading (…)lve/main/config.json:   0%|          | 0.00/778 [00:00<?, ?B/s]"
      ]
     },
     "metadata": {},
     "output_type": "display_data"
    },
    {
     "data": {
      "application/vnd.jupyter.widget-view+json": {
       "model_id": "340c896de58b42b2abe0f0a7362120cb",
       "version_major": 2,
       "version_minor": 0
      },
      "text/plain": [
       "Downloading model.safetensors:   0%|          | 0.00/136M [00:00<?, ?B/s]"
      ]
     },
     "metadata": {},
     "output_type": "display_data"
    },
    {
     "name": "stderr",
     "output_type": "stream",
     "text": [
      "Some weights of EsmForSequenceClassification were not initialized from the model checkpoint at facebook/esm2_t12_35M_UR50D and are newly initialized: ['classifier.out_proj.weight', 'classifier.out_proj.bias', 'classifier.dense.bias', 'classifier.dense.weight']\n",
      "You should probably TRAIN this model on a down-stream task to be able to use it for predictions and inference.\n"
     ]
    }
   ],
   "source": [
    "# if multiclass_prediction:\n",
    "#     num_labels = 3\n",
    "#     id2Label = {0: \"NOT_NEUTRALISING\", 1: \"WEAK_NEUTRALISATION\", 2: \"NEUTRALISING\"}\n",
    "#     label2Id = {\"NOT_NEUTRALISING\":0,\"WEAK_NEUTRALISATION\":1,\"NEUTRALISING\":2}\n",
    "# else:\n",
    "#     num_labels = 2\n",
    "#     id2Label = {0: \"NOT_NEUTRALISING\", 1: \"NEUTRALISING\"}\n",
    "#     label2Id = {\"NOT_NEUTRALISING\":0,\"NEUTRALISING\":2}\n",
    "num_labels = 3\n",
    "id2Label = {0: \"NOT_NEUTRALISING\", 1: \"WEAK_NEUTRALISATION\", 2: \"NEUTRALISING\"}\n",
    "label2Id = {\"NOT_NEUTRALISING\":0,\"WEAK_NEUTRALISATION\":1,\"NEUTRALISING\":2}\n",
    "model = AutoModelForSequenceClassification.from_pretrained(model_checkpoint, num_labels=num_labels, id2label=id2Label, label2id=label2Id)"
   ]
  },
  {
   "cell_type": "code",
   "execution_count": 21,
   "id": "7c333d4d",
   "metadata": {
    "execution": {
     "iopub.execute_input": "2023-10-13T17:00:10.105051Z",
     "iopub.status.busy": "2023-10-13T17:00:10.104659Z",
     "iopub.status.idle": "2023-10-13T17:00:10.116381Z",
     "shell.execute_reply": "2023-10-13T17:00:10.115650Z"
    },
    "papermill": {
     "duration": 0.021254,
     "end_time": "2023-10-13T17:00:10.118152",
     "exception": false,
     "start_time": "2023-10-13T17:00:10.096898",
     "status": "completed"
    },
    "tags": []
   },
   "outputs": [],
   "source": [
    "model_name = \"neu-pred\"\n",
    "args = TrainingArguments(\n",
    "    output_dir=\"./neu-pred\",\n",
    "    learning_rate=2e-5,\n",
    "    per_device_train_batch_size=8,\n",
    "    per_device_eval_batch_size=8,\n",
    "    num_train_epochs=10,\n",
    "    weight_decay=0.01,\n",
    "    evaluation_strategy=\"epoch\",\n",
    "    save_strategy=\"epoch\",\n",
    "    load_best_model_at_end=True,\n",
    "    metric_for_best_model=\"accuracy\",\n",
    "    logging_dir=\"./logs\",\n",
    ")"
   ]
  },
  {
   "cell_type": "code",
   "execution_count": 22,
   "id": "bc3bc889",
   "metadata": {
    "execution": {
     "iopub.execute_input": "2023-10-13T17:00:10.132740Z",
     "iopub.status.busy": "2023-10-13T17:00:10.132490Z",
     "iopub.status.idle": "2023-10-13T17:00:13.114629Z",
     "shell.execute_reply": "2023-10-13T17:00:13.113738Z"
    },
    "papermill": {
     "duration": 2.991348,
     "end_time": "2023-10-13T17:00:13.116379",
     "exception": false,
     "start_time": "2023-10-13T17:00:10.125031",
     "status": "completed"
    },
    "tags": []
   },
   "outputs": [
    {
     "data": {
      "application/vnd.jupyter.widget-view+json": {
       "model_id": "08c79cf711d94934b9a0a7e10665c3d7",
       "version_major": 2,
       "version_minor": 0
      },
      "text/plain": [
       "Downloading builder script:   0%|          | 0.00/4.20k [00:00<?, ?B/s]"
      ]
     },
     "metadata": {},
     "output_type": "display_data"
    }
   ],
   "source": [
    "from evaluate import load\n",
    "import numpy as np\n",
    "\n",
    "metric = load(\"accuracy\")\n",
    "\n",
    "def compute_metrics(eval_pred):\n",
    "    predictions, labels = eval_pred\n",
    "    predictions = np.argmax(predictions, axis=1)\n",
    "    new_df = pd.DataFrame()\n",
    "    new_df['pred_label'] = predictions\n",
    "    new_df['true_label'] = labels\n",
    "    new_df.to_csv('result_prediction.csv', header=True)\n",
    "    print(\"=============================\")\n",
    "    print(\"Predictions:\")\n",
    "    print(predictions)\n",
    "    print(\"Labels:\")\n",
    "    print(labels)\n",
    "    return metric.compute(predictions=predictions, references=labels)"
   ]
  },
  {
   "cell_type": "code",
   "execution_count": 23,
   "id": "e9fb9c5c",
   "metadata": {
    "execution": {
     "iopub.execute_input": "2023-10-13T17:00:13.181126Z",
     "iopub.status.busy": "2023-10-13T17:00:13.180774Z",
     "iopub.status.idle": "2023-10-13T17:00:13.187539Z",
     "shell.execute_reply": "2023-10-13T17:00:13.186654Z"
    },
    "papermill": {
     "duration": 0.02273,
     "end_time": "2023-10-13T17:00:13.190352",
     "exception": false,
     "start_time": "2023-10-13T17:00:13.167622",
     "status": "completed"
    },
    "tags": []
   },
   "outputs": [
    {
     "data": {
      "text/plain": [
       "Dataset({\n",
       "    features: ['labels', 'input_ids', 'attention_mask'],\n",
       "    num_rows: 31099\n",
       "})"
      ]
     },
     "execution_count": 23,
     "metadata": {},
     "output_type": "execute_result"
    }
   ],
   "source": [
    "train_dataset"
   ]
  },
  {
   "cell_type": "code",
   "execution_count": 24,
   "id": "6e6bac4a",
   "metadata": {
    "execution": {
     "iopub.execute_input": "2023-10-13T17:00:13.210931Z",
     "iopub.status.busy": "2023-10-13T17:00:13.210151Z",
     "iopub.status.idle": "2023-10-13T17:00:13.216424Z",
     "shell.execute_reply": "2023-10-13T17:00:13.215529Z"
    },
    "papermill": {
     "duration": 0.018635,
     "end_time": "2023-10-13T17:00:13.218951",
     "exception": false,
     "start_time": "2023-10-13T17:00:13.200316",
     "status": "completed"
    },
    "tags": []
   },
   "outputs": [
    {
     "data": {
      "text/plain": [
       "Dataset({\n",
       "    features: ['labels', 'input_ids', 'attention_mask'],\n",
       "    num_rows: 10367\n",
       "})"
      ]
     },
     "execution_count": 24,
     "metadata": {},
     "output_type": "execute_result"
    }
   ],
   "source": [
    "test_dataset"
   ]
  },
  {
   "cell_type": "code",
   "execution_count": 25,
   "id": "5a31bb86",
   "metadata": {
    "execution": {
     "iopub.execute_input": "2023-10-13T17:00:13.235741Z",
     "iopub.status.busy": "2023-10-13T17:00:13.235442Z",
     "iopub.status.idle": "2023-10-13T17:00:21.289920Z",
     "shell.execute_reply": "2023-10-13T17:00:21.288925Z"
    },
    "papermill": {
     "duration": 8.06487,
     "end_time": "2023-10-13T17:00:21.292049",
     "exception": false,
     "start_time": "2023-10-13T17:00:13.227179",
     "status": "completed"
    },
    "tags": []
   },
   "outputs": [],
   "source": [
    "trainer = Trainer(\n",
    "    model=model,\n",
    "    args=args,\n",
    "    train_dataset=train_dataset,\n",
    "    eval_dataset=test_dataset,\n",
    "    tokenizer=tokenizer,\n",
    "    compute_metrics=compute_metrics\n",
    ")"
   ]
  },
  {
   "cell_type": "code",
   "execution_count": 26,
   "id": "90ba6fd5",
   "metadata": {
    "execution": {
     "iopub.execute_input": "2023-10-13T17:00:21.308224Z",
     "iopub.status.busy": "2023-10-13T17:00:21.307952Z",
     "iopub.status.idle": "2023-10-13T18:49:32.923592Z",
     "shell.execute_reply": "2023-10-13T18:49:32.922669Z"
    },
    "papermill": {
     "duration": 6551.625592,
     "end_time": "2023-10-13T18:49:32.925464",
     "exception": false,
     "start_time": "2023-10-13T17:00:21.299872",
     "status": "completed"
    },
    "tags": []
   },
   "outputs": [
    {
     "name": "stderr",
     "output_type": "stream",
     "text": [
      "\u001b[34m\u001b[1mwandb\u001b[0m: Currently logged in as: \u001b[33mqixyqix\u001b[0m. Use \u001b[1m`wandb login --relogin`\u001b[0m to force relogin\n",
      "\u001b[34m\u001b[1mwandb\u001b[0m: wandb version 0.15.12 is available!  To upgrade, please run:\n",
      "\u001b[34m\u001b[1mwandb\u001b[0m:  $ pip install wandb --upgrade\n",
      "\u001b[34m\u001b[1mwandb\u001b[0m: Tracking run with wandb version 0.15.9\n",
      "\u001b[34m\u001b[1mwandb\u001b[0m: Run data is saved locally in \u001b[35m\u001b[1m/kaggle/working/wandb/run-20231013_170021-8fg5v9k4\u001b[0m\n",
      "\u001b[34m\u001b[1mwandb\u001b[0m: Run \u001b[1m`wandb offline`\u001b[0m to turn off syncing.\n",
      "\u001b[34m\u001b[1mwandb\u001b[0m: Syncing run \u001b[33mmisunderstood-hill-45\u001b[0m\n",
      "\u001b[34m\u001b[1mwandb\u001b[0m: ⭐️ View project at \u001b[34m\u001b[4mhttps://wandb.ai/qixyqix/huggingface\u001b[0m\n",
      "\u001b[34m\u001b[1mwandb\u001b[0m: 🚀 View run at \u001b[34m\u001b[4mhttps://wandb.ai/qixyqix/huggingface/runs/8fg5v9k4\u001b[0m\n",
      "/opt/conda/lib/python3.10/site-packages/torch/nn/parallel/_functions.py:68: UserWarning: Was asked to gather along dimension 0, but all input tensors were scalars; will instead unsqueeze and return a vector.\n",
      "  warnings.warn('Was asked to gather along dimension 0, but all '\n"
     ]
    },
    {
     "data": {
      "text/html": [
       "\n",
       "    <div>\n",
       "      \n",
       "      <progress value='19440' max='19440' style='width:300px; height:20px; vertical-align: middle;'></progress>\n",
       "      [19440/19440 1:47:21, Epoch 10/10]\n",
       "    </div>\n",
       "    <table border=\"1\" class=\"dataframe\">\n",
       "  <thead>\n",
       " <tr style=\"text-align: left;\">\n",
       "      <th>Epoch</th>\n",
       "      <th>Training Loss</th>\n",
       "      <th>Validation Loss</th>\n",
       "      <th>Accuracy</th>\n",
       "    </tr>\n",
       "  </thead>\n",
       "  <tbody>\n",
       "    <tr>\n",
       "      <td>1</td>\n",
       "      <td>0.857100</td>\n",
       "      <td>0.701218</td>\n",
       "      <td>0.697116</td>\n",
       "    </tr>\n",
       "    <tr>\n",
       "      <td>2</td>\n",
       "      <td>0.484400</td>\n",
       "      <td>0.464676</td>\n",
       "      <td>0.818559</td>\n",
       "    </tr>\n",
       "    <tr>\n",
       "      <td>3</td>\n",
       "      <td>0.313000</td>\n",
       "      <td>0.370864</td>\n",
       "      <td>0.861966</td>\n",
       "    </tr>\n",
       "    <tr>\n",
       "      <td>4</td>\n",
       "      <td>0.206000</td>\n",
       "      <td>0.330238</td>\n",
       "      <td>0.897077</td>\n",
       "    </tr>\n",
       "    <tr>\n",
       "      <td>5</td>\n",
       "      <td>0.148800</td>\n",
       "      <td>0.348010</td>\n",
       "      <td>0.907206</td>\n",
       "    </tr>\n",
       "    <tr>\n",
       "      <td>6</td>\n",
       "      <td>0.112400</td>\n",
       "      <td>0.348505</td>\n",
       "      <td>0.916562</td>\n",
       "    </tr>\n",
       "    <tr>\n",
       "      <td>7</td>\n",
       "      <td>0.083800</td>\n",
       "      <td>0.367540</td>\n",
       "      <td>0.919745</td>\n",
       "    </tr>\n",
       "    <tr>\n",
       "      <td>8</td>\n",
       "      <td>0.057100</td>\n",
       "      <td>0.374796</td>\n",
       "      <td>0.926401</td>\n",
       "    </tr>\n",
       "    <tr>\n",
       "      <td>9</td>\n",
       "      <td>0.047000</td>\n",
       "      <td>0.370868</td>\n",
       "      <td>0.930163</td>\n",
       "    </tr>\n",
       "    <tr>\n",
       "      <td>10</td>\n",
       "      <td>0.024100</td>\n",
       "      <td>0.379278</td>\n",
       "      <td>0.929391</td>\n",
       "    </tr>\n",
       "  </tbody>\n",
       "</table><p>"
      ],
      "text/plain": [
       "<IPython.core.display.HTML object>"
      ]
     },
     "metadata": {},
     "output_type": "display_data"
    },
    {
     "name": "stdout",
     "output_type": "stream",
     "text": [
      "=============================\n",
      "Predictions:\n",
      "[0 2 2 ... 2 0 1]\n",
      "Labels:\n",
      "[0 2 2 ... 2 1 0]\n"
     ]
    },
    {
     "name": "stderr",
     "output_type": "stream",
     "text": [
      "/opt/conda/lib/python3.10/site-packages/torch/nn/parallel/_functions.py:68: UserWarning: Was asked to gather along dimension 0, but all input tensors were scalars; will instead unsqueeze and return a vector.\n",
      "  warnings.warn('Was asked to gather along dimension 0, but all '\n"
     ]
    },
    {
     "name": "stdout",
     "output_type": "stream",
     "text": [
      "=============================\n",
      "Predictions:\n",
      "[0 2 2 ... 2 0 1]\n",
      "Labels:\n",
      "[0 2 2 ... 2 1 0]\n"
     ]
    },
    {
     "name": "stderr",
     "output_type": "stream",
     "text": [
      "/opt/conda/lib/python3.10/site-packages/torch/nn/parallel/_functions.py:68: UserWarning: Was asked to gather along dimension 0, but all input tensors were scalars; will instead unsqueeze and return a vector.\n",
      "  warnings.warn('Was asked to gather along dimension 0, but all '\n"
     ]
    },
    {
     "name": "stdout",
     "output_type": "stream",
     "text": [
      "=============================\n",
      "Predictions:\n",
      "[0 2 2 ... 2 1 0]\n",
      "Labels:\n",
      "[0 2 2 ... 2 1 0]\n"
     ]
    },
    {
     "name": "stderr",
     "output_type": "stream",
     "text": [
      "/opt/conda/lib/python3.10/site-packages/torch/nn/parallel/_functions.py:68: UserWarning: Was asked to gather along dimension 0, but all input tensors were scalars; will instead unsqueeze and return a vector.\n",
      "  warnings.warn('Was asked to gather along dimension 0, but all '\n"
     ]
    },
    {
     "name": "stdout",
     "output_type": "stream",
     "text": [
      "=============================\n",
      "Predictions:\n",
      "[0 2 2 ... 2 1 0]\n",
      "Labels:\n",
      "[0 2 2 ... 2 1 0]\n"
     ]
    },
    {
     "name": "stderr",
     "output_type": "stream",
     "text": [
      "/opt/conda/lib/python3.10/site-packages/torch/nn/parallel/_functions.py:68: UserWarning: Was asked to gather along dimension 0, but all input tensors were scalars; will instead unsqueeze and return a vector.\n",
      "  warnings.warn('Was asked to gather along dimension 0, but all '\n"
     ]
    },
    {
     "name": "stdout",
     "output_type": "stream",
     "text": [
      "=============================\n",
      "Predictions:\n",
      "[0 2 2 ... 2 1 0]\n",
      "Labels:\n",
      "[0 2 2 ... 2 1 0]\n"
     ]
    },
    {
     "name": "stderr",
     "output_type": "stream",
     "text": [
      "/opt/conda/lib/python3.10/site-packages/torch/nn/parallel/_functions.py:68: UserWarning: Was asked to gather along dimension 0, but all input tensors were scalars; will instead unsqueeze and return a vector.\n",
      "  warnings.warn('Was asked to gather along dimension 0, but all '\n"
     ]
    },
    {
     "name": "stdout",
     "output_type": "stream",
     "text": [
      "=============================\n",
      "Predictions:\n",
      "[0 2 2 ... 2 1 0]\n",
      "Labels:\n",
      "[0 2 2 ... 2 1 0]\n"
     ]
    },
    {
     "name": "stderr",
     "output_type": "stream",
     "text": [
      "/opt/conda/lib/python3.10/site-packages/torch/nn/parallel/_functions.py:68: UserWarning: Was asked to gather along dimension 0, but all input tensors were scalars; will instead unsqueeze and return a vector.\n",
      "  warnings.warn('Was asked to gather along dimension 0, but all '\n"
     ]
    },
    {
     "name": "stdout",
     "output_type": "stream",
     "text": [
      "=============================\n",
      "Predictions:\n",
      "[0 2 2 ... 2 1 0]\n",
      "Labels:\n",
      "[0 2 2 ... 2 1 0]\n"
     ]
    },
    {
     "name": "stderr",
     "output_type": "stream",
     "text": [
      "/opt/conda/lib/python3.10/site-packages/torch/nn/parallel/_functions.py:68: UserWarning: Was asked to gather along dimension 0, but all input tensors were scalars; will instead unsqueeze and return a vector.\n",
      "  warnings.warn('Was asked to gather along dimension 0, but all '\n"
     ]
    },
    {
     "name": "stdout",
     "output_type": "stream",
     "text": [
      "=============================\n",
      "Predictions:\n",
      "[0 2 2 ... 2 1 0]\n",
      "Labels:\n",
      "[0 2 2 ... 2 1 0]\n"
     ]
    },
    {
     "name": "stderr",
     "output_type": "stream",
     "text": [
      "/opt/conda/lib/python3.10/site-packages/torch/nn/parallel/_functions.py:68: UserWarning: Was asked to gather along dimension 0, but all input tensors were scalars; will instead unsqueeze and return a vector.\n",
      "  warnings.warn('Was asked to gather along dimension 0, but all '\n"
     ]
    },
    {
     "name": "stdout",
     "output_type": "stream",
     "text": [
      "=============================\n",
      "Predictions:\n",
      "[0 2 2 ... 2 1 0]\n",
      "Labels:\n",
      "[0 2 2 ... 2 1 0]\n"
     ]
    },
    {
     "name": "stderr",
     "output_type": "stream",
     "text": [
      "/opt/conda/lib/python3.10/site-packages/torch/nn/parallel/_functions.py:68: UserWarning: Was asked to gather along dimension 0, but all input tensors were scalars; will instead unsqueeze and return a vector.\n",
      "  warnings.warn('Was asked to gather along dimension 0, but all '\n"
     ]
    },
    {
     "name": "stdout",
     "output_type": "stream",
     "text": [
      "=============================\n",
      "Predictions:\n",
      "[0 2 2 ... 2 1 0]\n",
      "Labels:\n",
      "[0 2 2 ... 2 1 0]\n"
     ]
    },
    {
     "name": "stderr",
     "output_type": "stream",
     "text": [
      "/opt/conda/lib/python3.10/site-packages/torch/nn/parallel/_functions.py:68: UserWarning: Was asked to gather along dimension 0, but all input tensors were scalars; will instead unsqueeze and return a vector.\n",
      "  warnings.warn('Was asked to gather along dimension 0, but all '\n"
     ]
    },
    {
     "data": {
      "text/html": [
       "\n",
       "    <div>\n",
       "      \n",
       "      <progress value='648' max='648' style='width:300px; height:20px; vertical-align: middle;'></progress>\n",
       "      [648/648 01:10]\n",
       "    </div>\n",
       "    "
      ],
      "text/plain": [
       "<IPython.core.display.HTML object>"
      ]
     },
     "metadata": {},
     "output_type": "display_data"
    },
    {
     "name": "stdout",
     "output_type": "stream",
     "text": [
      "=============================\n",
      "Predictions:\n",
      "[0 2 2 ... 2 1 0]\n",
      "Labels:\n",
      "[0 2 2 ... 2 1 0]\n",
      "{'eval_loss': 0.37086814641952515, 'eval_accuracy': 0.9301630172663259, 'eval_runtime': 70.3804, 'eval_samples_per_second': 147.3, 'eval_steps_per_second': 9.207, 'epoch': 10.0}\n"
     ]
    }
   ],
   "source": [
    "trainer.train()\n",
    "results = trainer.evaluate()\n",
    "print(results)"
   ]
  }
 ],
 "metadata": {
  "kernelspec": {
   "display_name": "Python 3",
   "language": "python",
   "name": "python3"
  },
  "language_info": {
   "codemirror_mode": {
    "name": "ipython",
    "version": 3
   },
   "file_extension": ".py",
   "mimetype": "text/x-python",
   "name": "python",
   "nbconvert_exporter": "python",
   "pygments_lexer": "ipython3",
   "version": "3.10.12"
  },
  "papermill": {
   "default_parameters": {},
   "duration": 6634.951327,
   "end_time": "2023-10-13T18:49:36.165080",
   "environment_variables": {},
   "exception": null,
   "input_path": "__notebook__.ipynb",
   "output_path": "__notebook__.ipynb",
   "parameters": {},
   "start_time": "2023-10-13T16:59:01.213753",
   "version": "2.4.0"
  },
  "widgets": {
   "application/vnd.jupyter.widget-state+json": {
    "state": {
     "041b391eae4c4867b71513225c90d46d": {
      "model_module": "@jupyter-widgets/controls",
      "model_module_version": "1.5.0",
      "model_name": "HTMLModel",
      "state": {
       "_dom_classes": [],
       "_model_module": "@jupyter-widgets/controls",
       "_model_module_version": "1.5.0",
       "_model_name": "HTMLModel",
       "_view_count": null,
       "_view_module": "@jupyter-widgets/controls",
       "_view_module_version": "1.5.0",
       "_view_name": "HTMLView",
       "description": "",
       "description_tooltip": null,
       "layout": "IPY_MODEL_e5e50d1903d44e5491132e7cbebd812c",
       "placeholder": "​",
       "style": "IPY_MODEL_f8f3eee59965443983638957548aec0c",
       "value": "Downloading model.safetensors: 100%"
      }
     },
     "08c79cf711d94934b9a0a7e10665c3d7": {
      "model_module": "@jupyter-widgets/controls",
      "model_module_version": "1.5.0",
      "model_name": "HBoxModel",
      "state": {
       "_dom_classes": [],
       "_model_module": "@jupyter-widgets/controls",
       "_model_module_version": "1.5.0",
       "_model_name": "HBoxModel",
       "_view_count": null,
       "_view_module": "@jupyter-widgets/controls",
       "_view_module_version": "1.5.0",
       "_view_name": "HBoxView",
       "box_style": "",
       "children": [
        "IPY_MODEL_889a2f915dd34e7b9e03729f5f4dc662",
        "IPY_MODEL_65f580cb12fa40eaae74bc3f83b1ac0e",
        "IPY_MODEL_f63147dfa19543d1ad2a78103d1ab721"
       ],
       "layout": "IPY_MODEL_e0da882378974a23bf6b3449e802a8a5"
      }
     },
     "11d075d0ee0a4124afac5f8c077dce90": {
      "model_module": "@jupyter-widgets/controls",
      "model_module_version": "1.5.0",
      "model_name": "HTMLModel",
      "state": {
       "_dom_classes": [],
       "_model_module": "@jupyter-widgets/controls",
       "_model_module_version": "1.5.0",
       "_model_name": "HTMLModel",
       "_view_count": null,
       "_view_module": "@jupyter-widgets/controls",
       "_view_module_version": "1.5.0",
       "_view_name": "HTMLView",
       "description": "",
       "description_tooltip": null,
       "layout": "IPY_MODEL_3311f9946e224cf9a8d54ef13ca0e137",
       "placeholder": "​",
       "style": "IPY_MODEL_b37e7797451a48e997ff25f6cdafccd3",
       "value": " 11/11 [00:05&lt;00:00,  2.32ba/s]"
      }
     },
     "12a9b0c75ca74dfc8ed8ebc74bc29f63": {
      "model_module": "@jupyter-widgets/controls",
      "model_module_version": "1.5.0",
      "model_name": "DescriptionStyleModel",
      "state": {
       "_model_module": "@jupyter-widgets/controls",
       "_model_module_version": "1.5.0",
       "_model_name": "DescriptionStyleModel",
       "_view_count": null,
       "_view_module": "@jupyter-widgets/base",
       "_view_module_version": "1.2.0",
       "_view_name": "StyleView",
       "description_width": ""
      }
     },
     "133bc55daf7a49ab8ffe11f21a9af141": {
      "model_module": "@jupyter-widgets/controls",
      "model_module_version": "1.5.0",
      "model_name": "DescriptionStyleModel",
      "state": {
       "_model_module": "@jupyter-widgets/controls",
       "_model_module_version": "1.5.0",
       "_model_name": "DescriptionStyleModel",
       "_view_count": null,
       "_view_module": "@jupyter-widgets/base",
       "_view_module_version": "1.2.0",
       "_view_name": "StyleView",
       "description_width": ""
      }
     },
     "230b1edcaf42480388889bbf28af2ef0": {
      "model_module": "@jupyter-widgets/controls",
      "model_module_version": "1.5.0",
      "model_name": "HTMLModel",
      "state": {
       "_dom_classes": [],
       "_model_module": "@jupyter-widgets/controls",
       "_model_module_version": "1.5.0",
       "_model_name": "HTMLModel",
       "_view_count": null,
       "_view_module": "@jupyter-widgets/controls",
       "_view_module_version": "1.5.0",
       "_view_name": "HTMLView",
       "description": "",
       "description_tooltip": null,
       "layout": "IPY_MODEL_bc376685425d4a1ea1981730a490f5ac",
       "placeholder": "​",
       "style": "IPY_MODEL_b1599a10a17e4078b8eae38b4310f69f",
       "value": "100%"
      }
     },
     "29846bef4f594731922cea52d62d3fbd": {
      "model_module": "@jupyter-widgets/controls",
      "model_module_version": "1.5.0",
      "model_name": "HTMLModel",
      "state": {
       "_dom_classes": [],
       "_model_module": "@jupyter-widgets/controls",
       "_model_module_version": "1.5.0",
       "_model_name": "HTMLModel",
       "_view_count": null,
       "_view_module": "@jupyter-widgets/controls",
       "_view_module_version": "1.5.0",
       "_view_name": "HTMLView",
       "description": "",
       "description_tooltip": null,
       "layout": "IPY_MODEL_eb6a4a1e299a4d6a8a36792b0d288945",
       "placeholder": "​",
       "style": "IPY_MODEL_ec8bd93edebd4d658fb63e2301dc9d1b",
       "value": " 93.0/93.0 [00:00&lt;00:00, 8.77kB/s]"
      }
     },
     "2df2b0b637bf47868d582af80dca7d33": {
      "model_module": "@jupyter-widgets/controls",
      "model_module_version": "1.5.0",
      "model_name": "ProgressStyleModel",
      "state": {
       "_model_module": "@jupyter-widgets/controls",
       "_model_module_version": "1.5.0",
       "_model_name": "ProgressStyleModel",
       "_view_count": null,
       "_view_module": "@jupyter-widgets/base",
       "_view_module_version": "1.2.0",
       "_view_name": "StyleView",
       "bar_color": null,
       "description_width": ""
      }
     },
     "3311f9946e224cf9a8d54ef13ca0e137": {
      "model_module": "@jupyter-widgets/base",
      "model_module_version": "1.2.0",
      "model_name": "LayoutModel",
      "state": {
       "_model_module": "@jupyter-widgets/base",
       "_model_module_version": "1.2.0",
       "_model_name": "LayoutModel",
       "_view_count": null,
       "_view_module": "@jupyter-widgets/base",
       "_view_module_version": "1.2.0",
       "_view_name": "LayoutView",
       "align_content": null,
       "align_items": null,
       "align_self": null,
       "border": null,
       "bottom": null,
       "display": null,
       "flex": null,
       "flex_flow": null,
       "grid_area": null,
       "grid_auto_columns": null,
       "grid_auto_flow": null,
       "grid_auto_rows": null,
       "grid_column": null,
       "grid_gap": null,
       "grid_row": null,
       "grid_template_areas": null,
       "grid_template_columns": null,
       "grid_template_rows": null,
       "height": null,
       "justify_content": null,
       "justify_items": null,
       "left": null,
       "margin": null,
       "max_height": null,
       "max_width": null,
       "min_height": null,
       "min_width": null,
       "object_fit": null,
       "object_position": null,
       "order": null,
       "overflow": null,
       "overflow_x": null,
       "overflow_y": null,
       "padding": null,
       "right": null,
       "top": null,
       "visibility": null,
       "width": null
      }
     },
     "340c896de58b42b2abe0f0a7362120cb": {
      "model_module": "@jupyter-widgets/controls",
      "model_module_version": "1.5.0",
      "model_name": "HBoxModel",
      "state": {
       "_dom_classes": [],
       "_model_module": "@jupyter-widgets/controls",
       "_model_module_version": "1.5.0",
       "_model_name": "HBoxModel",
       "_view_count": null,
       "_view_module": "@jupyter-widgets/controls",
       "_view_module_version": "1.5.0",
       "_view_name": "HBoxView",
       "box_style": "",
       "children": [
        "IPY_MODEL_041b391eae4c4867b71513225c90d46d",
        "IPY_MODEL_5aad2f14efb244c4bd29480ce59e5ab9",
        "IPY_MODEL_60ff9b1c5eb94743b3640e8eeb096810"
       ],
       "layout": "IPY_MODEL_a9d5f0b30d8d48c8ac39a487e1d7f7a2"
      }
     },
     "34f2dc8bc9f3497fb36b2f7fc1661f41": {
      "model_module": "@jupyter-widgets/base",
      "model_module_version": "1.2.0",
      "model_name": "LayoutModel",
      "state": {
       "_model_module": "@jupyter-widgets/base",
       "_model_module_version": "1.2.0",
       "_model_name": "LayoutModel",
       "_view_count": null,
       "_view_module": "@jupyter-widgets/base",
       "_view_module_version": "1.2.0",
       "_view_name": "LayoutView",
       "align_content": null,
       "align_items": null,
       "align_self": null,
       "border": null,
       "bottom": null,
       "display": null,
       "flex": null,
       "flex_flow": null,
       "grid_area": null,
       "grid_auto_columns": null,
       "grid_auto_flow": null,
       "grid_auto_rows": null,
       "grid_column": null,
       "grid_gap": null,
       "grid_row": null,
       "grid_template_areas": null,
       "grid_template_columns": null,
       "grid_template_rows": null,
       "height": null,
       "justify_content": null,
       "justify_items": null,
       "left": null,
       "margin": null,
       "max_height": null,
       "max_width": null,
       "min_height": null,
       "min_width": null,
       "object_fit": null,
       "object_position": null,
       "order": null,
       "overflow": null,
       "overflow_x": null,
       "overflow_y": null,
       "padding": null,
       "right": null,
       "top": null,
       "visibility": null,
       "width": null
      }
     },
     "3607d84ca5394a5e927b32056e60bb70": {
      "model_module": "@jupyter-widgets/base",
      "model_module_version": "1.2.0",
      "model_name": "LayoutModel",
      "state": {
       "_model_module": "@jupyter-widgets/base",
       "_model_module_version": "1.2.0",
       "_model_name": "LayoutModel",
       "_view_count": null,
       "_view_module": "@jupyter-widgets/base",
       "_view_module_version": "1.2.0",
       "_view_name": "LayoutView",
       "align_content": null,
       "align_items": null,
       "align_self": null,
       "border": null,
       "bottom": null,
       "display": null,
       "flex": null,
       "flex_flow": null,
       "grid_area": null,
       "grid_auto_columns": null,
       "grid_auto_flow": null,
       "grid_auto_rows": null,
       "grid_column": null,
       "grid_gap": null,
       "grid_row": null,
       "grid_template_areas": null,
       "grid_template_columns": null,
       "grid_template_rows": null,
       "height": null,
       "justify_content": null,
       "justify_items": null,
       "left": null,
       "margin": null,
       "max_height": null,
       "max_width": null,
       "min_height": null,
       "min_width": null,
       "object_fit": null,
       "object_position": null,
       "order": null,
       "overflow": null,
       "overflow_x": null,
       "overflow_y": null,
       "padding": null,
       "right": null,
       "top": null,
       "visibility": null,
       "width": null
      }
     },
     "3751967f81b04e649bf5cd760cbcdfb8": {
      "model_module": "@jupyter-widgets/controls",
      "model_module_version": "1.5.0",
      "model_name": "DescriptionStyleModel",
      "state": {
       "_model_module": "@jupyter-widgets/controls",
       "_model_module_version": "1.5.0",
       "_model_name": "DescriptionStyleModel",
       "_view_count": null,
       "_view_module": "@jupyter-widgets/base",
       "_view_module_version": "1.2.0",
       "_view_name": "StyleView",
       "description_width": ""
      }
     },
     "39879d8fa474463fbf15f267d0f21463": {
      "model_module": "@jupyter-widgets/base",
      "model_module_version": "1.2.0",
      "model_name": "LayoutModel",
      "state": {
       "_model_module": "@jupyter-widgets/base",
       "_model_module_version": "1.2.0",
       "_model_name": "LayoutModel",
       "_view_count": null,
       "_view_module": "@jupyter-widgets/base",
       "_view_module_version": "1.2.0",
       "_view_name": "LayoutView",
       "align_content": null,
       "align_items": null,
       "align_self": null,
       "border": null,
       "bottom": null,
       "display": null,
       "flex": null,
       "flex_flow": null,
       "grid_area": null,
       "grid_auto_columns": null,
       "grid_auto_flow": null,
       "grid_auto_rows": null,
       "grid_column": null,
       "grid_gap": null,
       "grid_row": null,
       "grid_template_areas": null,
       "grid_template_columns": null,
       "grid_template_rows": null,
       "height": null,
       "justify_content": null,
       "justify_items": null,
       "left": null,
       "margin": null,
       "max_height": null,
       "max_width": null,
       "min_height": null,
       "min_width": null,
       "object_fit": null,
       "object_position": null,
       "order": null,
       "overflow": null,
       "overflow_x": null,
       "overflow_y": null,
       "padding": null,
       "right": null,
       "top": null,
       "visibility": null,
       "width": null
      }
     },
     "3ab7daf2b26f44ae8e60f49924f3d932": {
      "model_module": "@jupyter-widgets/base",
      "model_module_version": "1.2.0",
      "model_name": "LayoutModel",
      "state": {
       "_model_module": "@jupyter-widgets/base",
       "_model_module_version": "1.2.0",
       "_model_name": "LayoutModel",
       "_view_count": null,
       "_view_module": "@jupyter-widgets/base",
       "_view_module_version": "1.2.0",
       "_view_name": "LayoutView",
       "align_content": null,
       "align_items": null,
       "align_self": null,
       "border": null,
       "bottom": null,
       "display": null,
       "flex": null,
       "flex_flow": null,
       "grid_area": null,
       "grid_auto_columns": null,
       "grid_auto_flow": null,
       "grid_auto_rows": null,
       "grid_column": null,
       "grid_gap": null,
       "grid_row": null,
       "grid_template_areas": null,
       "grid_template_columns": null,
       "grid_template_rows": null,
       "height": null,
       "justify_content": null,
       "justify_items": null,
       "left": null,
       "margin": null,
       "max_height": null,
       "max_width": null,
       "min_height": null,
       "min_width": null,
       "object_fit": null,
       "object_position": null,
       "order": null,
       "overflow": null,
       "overflow_x": null,
       "overflow_y": null,
       "padding": null,
       "right": null,
       "top": null,
       "visibility": null,
       "width": null
      }
     },
     "3c0002be82f741f79abbcde87214181a": {
      "model_module": "@jupyter-widgets/base",
      "model_module_version": "1.2.0",
      "model_name": "LayoutModel",
      "state": {
       "_model_module": "@jupyter-widgets/base",
       "_model_module_version": "1.2.0",
       "_model_name": "LayoutModel",
       "_view_count": null,
       "_view_module": "@jupyter-widgets/base",
       "_view_module_version": "1.2.0",
       "_view_name": "LayoutView",
       "align_content": null,
       "align_items": null,
       "align_self": null,
       "border": null,
       "bottom": null,
       "display": null,
       "flex": null,
       "flex_flow": null,
       "grid_area": null,
       "grid_auto_columns": null,
       "grid_auto_flow": null,
       "grid_auto_rows": null,
       "grid_column": null,
       "grid_gap": null,
       "grid_row": null,
       "grid_template_areas": null,
       "grid_template_columns": null,
       "grid_template_rows": null,
       "height": null,
       "justify_content": null,
       "justify_items": null,
       "left": null,
       "margin": null,
       "max_height": null,
       "max_width": null,
       "min_height": null,
       "min_width": null,
       "object_fit": null,
       "object_position": null,
       "order": null,
       "overflow": null,
       "overflow_x": null,
       "overflow_y": null,
       "padding": null,
       "right": null,
       "top": null,
       "visibility": null,
       "width": null
      }
     },
     "43228ae956ee459bbc3eb2dd1c8f0cce": {
      "model_module": "@jupyter-widgets/base",
      "model_module_version": "1.2.0",
      "model_name": "LayoutModel",
      "state": {
       "_model_module": "@jupyter-widgets/base",
       "_model_module_version": "1.2.0",
       "_model_name": "LayoutModel",
       "_view_count": null,
       "_view_module": "@jupyter-widgets/base",
       "_view_module_version": "1.2.0",
       "_view_name": "LayoutView",
       "align_content": null,
       "align_items": null,
       "align_self": null,
       "border": null,
       "bottom": null,
       "display": null,
       "flex": null,
       "flex_flow": null,
       "grid_area": null,
       "grid_auto_columns": null,
       "grid_auto_flow": null,
       "grid_auto_rows": null,
       "grid_column": null,
       "grid_gap": null,
       "grid_row": null,
       "grid_template_areas": null,
       "grid_template_columns": null,
       "grid_template_rows": null,
       "height": null,
       "justify_content": null,
       "justify_items": null,
       "left": null,
       "margin": null,
       "max_height": null,
       "max_width": null,
       "min_height": null,
       "min_width": null,
       "object_fit": null,
       "object_position": null,
       "order": null,
       "overflow": null,
       "overflow_x": null,
       "overflow_y": null,
       "padding": null,
       "right": null,
       "top": null,
       "visibility": null,
       "width": null
      }
     },
     "48c765f0874743358ec2b76fb14d090d": {
      "model_module": "@jupyter-widgets/controls",
      "model_module_version": "1.5.0",
      "model_name": "HBoxModel",
      "state": {
       "_dom_classes": [],
       "_model_module": "@jupyter-widgets/controls",
       "_model_module_version": "1.5.0",
       "_model_name": "HBoxModel",
       "_view_count": null,
       "_view_module": "@jupyter-widgets/controls",
       "_view_module_version": "1.5.0",
       "_view_name": "HBoxView",
       "box_style": "",
       "children": [
        "IPY_MODEL_230b1edcaf42480388889bbf28af2ef0",
        "IPY_MODEL_bd33dc5bf09f47198b7ca7eb15f819bd",
        "IPY_MODEL_11d075d0ee0a4124afac5f8c077dce90"
       ],
       "layout": "IPY_MODEL_ab5a88f75fa044868f4878200675e5a6"
      }
     },
     "4bedf63092d449ef9072944ec9492457": {
      "model_module": "@jupyter-widgets/base",
      "model_module_version": "1.2.0",
      "model_name": "LayoutModel",
      "state": {
       "_model_module": "@jupyter-widgets/base",
       "_model_module_version": "1.2.0",
       "_model_name": "LayoutModel",
       "_view_count": null,
       "_view_module": "@jupyter-widgets/base",
       "_view_module_version": "1.2.0",
       "_view_name": "LayoutView",
       "align_content": null,
       "align_items": null,
       "align_self": null,
       "border": null,
       "bottom": null,
       "display": null,
       "flex": null,
       "flex_flow": null,
       "grid_area": null,
       "grid_auto_columns": null,
       "grid_auto_flow": null,
       "grid_auto_rows": null,
       "grid_column": null,
       "grid_gap": null,
       "grid_row": null,
       "grid_template_areas": null,
       "grid_template_columns": null,
       "grid_template_rows": null,
       "height": null,
       "justify_content": null,
       "justify_items": null,
       "left": null,
       "margin": null,
       "max_height": null,
       "max_width": null,
       "min_height": null,
       "min_width": null,
       "object_fit": null,
       "object_position": null,
       "order": null,
       "overflow": null,
       "overflow_x": null,
       "overflow_y": null,
       "padding": null,
       "right": null,
       "top": null,
       "visibility": null,
       "width": null
      }
     },
     "54198897de3d4722be78c2885756b512": {
      "model_module": "@jupyter-widgets/base",
      "model_module_version": "1.2.0",
      "model_name": "LayoutModel",
      "state": {
       "_model_module": "@jupyter-widgets/base",
       "_model_module_version": "1.2.0",
       "_model_name": "LayoutModel",
       "_view_count": null,
       "_view_module": "@jupyter-widgets/base",
       "_view_module_version": "1.2.0",
       "_view_name": "LayoutView",
       "align_content": null,
       "align_items": null,
       "align_self": null,
       "border": null,
       "bottom": null,
       "display": null,
       "flex": null,
       "flex_flow": null,
       "grid_area": null,
       "grid_auto_columns": null,
       "grid_auto_flow": null,
       "grid_auto_rows": null,
       "grid_column": null,
       "grid_gap": null,
       "grid_row": null,
       "grid_template_areas": null,
       "grid_template_columns": null,
       "grid_template_rows": null,
       "height": null,
       "justify_content": null,
       "justify_items": null,
       "left": null,
       "margin": null,
       "max_height": null,
       "max_width": null,
       "min_height": null,
       "min_width": null,
       "object_fit": null,
       "object_position": null,
       "order": null,
       "overflow": null,
       "overflow_x": null,
       "overflow_y": null,
       "padding": null,
       "right": null,
       "top": null,
       "visibility": null,
       "width": null
      }
     },
     "556fce40f2d9462b8ae55fe7240662ba": {
      "model_module": "@jupyter-widgets/controls",
      "model_module_version": "1.5.0",
      "model_name": "HTMLModel",
      "state": {
       "_dom_classes": [],
       "_model_module": "@jupyter-widgets/controls",
       "_model_module_version": "1.5.0",
       "_model_name": "HTMLModel",
       "_view_count": null,
       "_view_module": "@jupyter-widgets/controls",
       "_view_module_version": "1.5.0",
       "_view_name": "HTMLView",
       "description": "",
       "description_tooltip": null,
       "layout": "IPY_MODEL_4bedf63092d449ef9072944ec9492457",
       "placeholder": "​",
       "style": "IPY_MODEL_cca667659b6849e790f4ccf13f4d0e14",
       "value": " 95.0/95.0 [00:00&lt;00:00, 8.42kB/s]"
      }
     },
     "58b2e3d4ad064d4fb7a0408652a4ee19": {
      "model_module": "@jupyter-widgets/controls",
      "model_module_version": "1.5.0",
      "model_name": "DescriptionStyleModel",
      "state": {
       "_model_module": "@jupyter-widgets/controls",
       "_model_module_version": "1.5.0",
       "_model_name": "DescriptionStyleModel",
       "_view_count": null,
       "_view_module": "@jupyter-widgets/base",
       "_view_module_version": "1.2.0",
       "_view_name": "StyleView",
       "description_width": ""
      }
     },
     "5aad2f14efb244c4bd29480ce59e5ab9": {
      "model_module": "@jupyter-widgets/controls",
      "model_module_version": "1.5.0",
      "model_name": "FloatProgressModel",
      "state": {
       "_dom_classes": [],
       "_model_module": "@jupyter-widgets/controls",
       "_model_module_version": "1.5.0",
       "_model_name": "FloatProgressModel",
       "_view_count": null,
       "_view_module": "@jupyter-widgets/controls",
       "_view_module_version": "1.5.0",
       "_view_name": "ProgressView",
       "bar_style": "success",
       "description": "",
       "description_tooltip": null,
       "layout": "IPY_MODEL_c3e8c8a0f30c4ee3ba4016c26c1a3eca",
       "max": 136008798,
       "min": 0,
       "orientation": "horizontal",
       "style": "IPY_MODEL_bf71bfc8f6d54475a05519e80281f459",
       "value": 136008798
      }
     },
     "5d76cd5b081f408bb52ada542243a5e0": {
      "model_module": "@jupyter-widgets/controls",
      "model_module_version": "1.5.0",
      "model_name": "HTMLModel",
      "state": {
       "_dom_classes": [],
       "_model_module": "@jupyter-widgets/controls",
       "_model_module_version": "1.5.0",
       "_model_name": "HTMLModel",
       "_view_count": null,
       "_view_module": "@jupyter-widgets/controls",
       "_view_module_version": "1.5.0",
       "_view_name": "HTMLView",
       "description": "",
       "description_tooltip": null,
       "layout": "IPY_MODEL_b66a966bb58e4bc58847b06c88b4d51f",
       "placeholder": "​",
       "style": "IPY_MODEL_fd58ea4cbc774474b4da790ff2cf1178",
       "value": " 125/125 [00:00&lt;00:00, 11.4kB/s]"
      }
     },
     "60ff9b1c5eb94743b3640e8eeb096810": {
      "model_module": "@jupyter-widgets/controls",
      "model_module_version": "1.5.0",
      "model_name": "HTMLModel",
      "state": {
       "_dom_classes": [],
       "_model_module": "@jupyter-widgets/controls",
       "_model_module_version": "1.5.0",
       "_model_name": "HTMLModel",
       "_view_count": null,
       "_view_module": "@jupyter-widgets/controls",
       "_view_module_version": "1.5.0",
       "_view_name": "HTMLView",
       "description": "",
       "description_tooltip": null,
       "layout": "IPY_MODEL_c66cb87f780946fb955eaa55f9ad5d6a",
       "placeholder": "​",
       "style": "IPY_MODEL_ef26ce18d1934907ab9e906f08e62f54",
       "value": " 136M/136M [00:00&lt;00:00, 198MB/s]"
      }
     },
     "6155cb3828cb483785ac80e1441facdb": {
      "model_module": "@jupyter-widgets/controls",
      "model_module_version": "1.5.0",
      "model_name": "HTMLModel",
      "state": {
       "_dom_classes": [],
       "_model_module": "@jupyter-widgets/controls",
       "_model_module_version": "1.5.0",
       "_model_name": "HTMLModel",
       "_view_count": null,
       "_view_module": "@jupyter-widgets/controls",
       "_view_module_version": "1.5.0",
       "_view_name": "HTMLView",
       "description": "",
       "description_tooltip": null,
       "layout": "IPY_MODEL_3ab7daf2b26f44ae8e60f49924f3d932",
       "placeholder": "​",
       "style": "IPY_MODEL_58b2e3d4ad064d4fb7a0408652a4ee19",
       "value": " 32/32 [00:17&lt;00:00,  1.79ba/s]"
      }
     },
     "63955ebebee04e1fba29699d88389f86": {
      "model_module": "@jupyter-widgets/controls",
      "model_module_version": "1.5.0",
      "model_name": "HBoxModel",
      "state": {
       "_dom_classes": [],
       "_model_module": "@jupyter-widgets/controls",
       "_model_module_version": "1.5.0",
       "_model_name": "HBoxModel",
       "_view_count": null,
       "_view_module": "@jupyter-widgets/controls",
       "_view_module_version": "1.5.0",
       "_view_name": "HBoxView",
       "box_style": "",
       "children": [
        "IPY_MODEL_87f8d28ce97e4ba2bf61ab05398a771c",
        "IPY_MODEL_dbb6da3800d94039834133aa5e1250a2",
        "IPY_MODEL_5d76cd5b081f408bb52ada542243a5e0"
       ],
       "layout": "IPY_MODEL_65fb643834f04ba7b2ddde834a8948d6"
      }
     },
     "65f580cb12fa40eaae74bc3f83b1ac0e": {
      "model_module": "@jupyter-widgets/controls",
      "model_module_version": "1.5.0",
      "model_name": "FloatProgressModel",
      "state": {
       "_dom_classes": [],
       "_model_module": "@jupyter-widgets/controls",
       "_model_module_version": "1.5.0",
       "_model_name": "FloatProgressModel",
       "_view_count": null,
       "_view_module": "@jupyter-widgets/controls",
       "_view_module_version": "1.5.0",
       "_view_name": "ProgressView",
       "bar_style": "success",
       "description": "",
       "description_tooltip": null,
       "layout": "IPY_MODEL_39879d8fa474463fbf15f267d0f21463",
       "max": 4203,
       "min": 0,
       "orientation": "horizontal",
       "style": "IPY_MODEL_d8235edc30744418bd9dd44ecd43b8d5",
       "value": 4203
      }
     },
     "65fb643834f04ba7b2ddde834a8948d6": {
      "model_module": "@jupyter-widgets/base",
      "model_module_version": "1.2.0",
      "model_name": "LayoutModel",
      "state": {
       "_model_module": "@jupyter-widgets/base",
       "_model_module_version": "1.2.0",
       "_model_name": "LayoutModel",
       "_view_count": null,
       "_view_module": "@jupyter-widgets/base",
       "_view_module_version": "1.2.0",
       "_view_name": "LayoutView",
       "align_content": null,
       "align_items": null,
       "align_self": null,
       "border": null,
       "bottom": null,
       "display": null,
       "flex": null,
       "flex_flow": null,
       "grid_area": null,
       "grid_auto_columns": null,
       "grid_auto_flow": null,
       "grid_auto_rows": null,
       "grid_column": null,
       "grid_gap": null,
       "grid_row": null,
       "grid_template_areas": null,
       "grid_template_columns": null,
       "grid_template_rows": null,
       "height": null,
       "justify_content": null,
       "justify_items": null,
       "left": null,
       "margin": null,
       "max_height": null,
       "max_width": null,
       "min_height": null,
       "min_width": null,
       "object_fit": null,
       "object_position": null,
       "order": null,
       "overflow": null,
       "overflow_x": null,
       "overflow_y": null,
       "padding": null,
       "right": null,
       "top": null,
       "visibility": null,
       "width": null
      }
     },
     "6da36f32ac3842a5b772af3439bb0c85": {
      "model_module": "@jupyter-widgets/controls",
      "model_module_version": "1.5.0",
      "model_name": "HBoxModel",
      "state": {
       "_dom_classes": [],
       "_model_module": "@jupyter-widgets/controls",
       "_model_module_version": "1.5.0",
       "_model_name": "HBoxModel",
       "_view_count": null,
       "_view_module": "@jupyter-widgets/controls",
       "_view_module_version": "1.5.0",
       "_view_name": "HBoxView",
       "box_style": "",
       "children": [
        "IPY_MODEL_f0c69b1325354870a62390d935711a06",
        "IPY_MODEL_b874c5ef7cb44406b09e4c5382aaebbe",
        "IPY_MODEL_a6407b9e37af4ab585a2cc7ca5612633"
       ],
       "layout": "IPY_MODEL_43228ae956ee459bbc3eb2dd1c8f0cce"
      }
     },
     "70d70643b29e4926ac171a74a125d12a": {
      "model_module": "@jupyter-widgets/base",
      "model_module_version": "1.2.0",
      "model_name": "LayoutModel",
      "state": {
       "_model_module": "@jupyter-widgets/base",
       "_model_module_version": "1.2.0",
       "_model_name": "LayoutModel",
       "_view_count": null,
       "_view_module": "@jupyter-widgets/base",
       "_view_module_version": "1.2.0",
       "_view_name": "LayoutView",
       "align_content": null,
       "align_items": null,
       "align_self": null,
       "border": null,
       "bottom": null,
       "display": null,
       "flex": null,
       "flex_flow": null,
       "grid_area": null,
       "grid_auto_columns": null,
       "grid_auto_flow": null,
       "grid_auto_rows": null,
       "grid_column": null,
       "grid_gap": null,
       "grid_row": null,
       "grid_template_areas": null,
       "grid_template_columns": null,
       "grid_template_rows": null,
       "height": null,
       "justify_content": null,
       "justify_items": null,
       "left": null,
       "margin": null,
       "max_height": null,
       "max_width": null,
       "min_height": null,
       "min_width": null,
       "object_fit": null,
       "object_position": null,
       "order": null,
       "overflow": null,
       "overflow_x": null,
       "overflow_y": null,
       "padding": null,
       "right": null,
       "top": null,
       "visibility": null,
       "width": null
      }
     },
     "792d6ad149d84e51a025ec440f185261": {
      "model_module": "@jupyter-widgets/controls",
      "model_module_version": "1.5.0",
      "model_name": "HTMLModel",
      "state": {
       "_dom_classes": [],
       "_model_module": "@jupyter-widgets/controls",
       "_model_module_version": "1.5.0",
       "_model_name": "HTMLModel",
       "_view_count": null,
       "_view_module": "@jupyter-widgets/controls",
       "_view_module_version": "1.5.0",
       "_view_name": "HTMLView",
       "description": "",
       "description_tooltip": null,
       "layout": "IPY_MODEL_9a6533a35cd74d3696ba2dbf4a4a137e",
       "placeholder": "​",
       "style": "IPY_MODEL_133bc55daf7a49ab8ffe11f21a9af141",
       "value": "Downloading (…)okenizer_config.json: 100%"
      }
     },
     "7e0b4849902c42bf871b76e0c15a6c92": {
      "model_module": "@jupyter-widgets/controls",
      "model_module_version": "1.5.0",
      "model_name": "DescriptionStyleModel",
      "state": {
       "_model_module": "@jupyter-widgets/controls",
       "_model_module_version": "1.5.0",
       "_model_name": "DescriptionStyleModel",
       "_view_count": null,
       "_view_module": "@jupyter-widgets/base",
       "_view_module_version": "1.2.0",
       "_view_name": "StyleView",
       "description_width": ""
      }
     },
     "7edc61f9f5174b2eb3c06e904f6c6fa9": {
      "model_module": "@jupyter-widgets/controls",
      "model_module_version": "1.5.0",
      "model_name": "HTMLModel",
      "state": {
       "_dom_classes": [],
       "_model_module": "@jupyter-widgets/controls",
       "_model_module_version": "1.5.0",
       "_model_name": "HTMLModel",
       "_view_count": null,
       "_view_module": "@jupyter-widgets/controls",
       "_view_module_version": "1.5.0",
       "_view_name": "HTMLView",
       "description": "",
       "description_tooltip": null,
       "layout": "IPY_MODEL_fe3798726c9d464380423e83ea8e04e1",
       "placeholder": "​",
       "style": "IPY_MODEL_12a9b0c75ca74dfc8ed8ebc74bc29f63",
       "value": "Downloading (…)solve/main/vocab.txt: 100%"
      }
     },
     "82382009bb574aaf94a89426c4ffcb1b": {
      "model_module": "@jupyter-widgets/base",
      "model_module_version": "1.2.0",
      "model_name": "LayoutModel",
      "state": {
       "_model_module": "@jupyter-widgets/base",
       "_model_module_version": "1.2.0",
       "_model_name": "LayoutModel",
       "_view_count": null,
       "_view_module": "@jupyter-widgets/base",
       "_view_module_version": "1.2.0",
       "_view_name": "LayoutView",
       "align_content": null,
       "align_items": null,
       "align_self": null,
       "border": null,
       "bottom": null,
       "display": null,
       "flex": null,
       "flex_flow": null,
       "grid_area": null,
       "grid_auto_columns": null,
       "grid_auto_flow": null,
       "grid_auto_rows": null,
       "grid_column": null,
       "grid_gap": null,
       "grid_row": null,
       "grid_template_areas": null,
       "grid_template_columns": null,
       "grid_template_rows": null,
       "height": null,
       "justify_content": null,
       "justify_items": null,
       "left": null,
       "margin": null,
       "max_height": null,
       "max_width": null,
       "min_height": null,
       "min_width": null,
       "object_fit": null,
       "object_position": null,
       "order": null,
       "overflow": null,
       "overflow_x": null,
       "overflow_y": null,
       "padding": null,
       "right": null,
       "top": null,
       "visibility": null,
       "width": null
      }
     },
     "86a1bf94f3b849a1acf2ac56e639f374": {
      "model_module": "@jupyter-widgets/base",
      "model_module_version": "1.2.0",
      "model_name": "LayoutModel",
      "state": {
       "_model_module": "@jupyter-widgets/base",
       "_model_module_version": "1.2.0",
       "_model_name": "LayoutModel",
       "_view_count": null,
       "_view_module": "@jupyter-widgets/base",
       "_view_module_version": "1.2.0",
       "_view_name": "LayoutView",
       "align_content": null,
       "align_items": null,
       "align_self": null,
       "border": null,
       "bottom": null,
       "display": null,
       "flex": null,
       "flex_flow": null,
       "grid_area": null,
       "grid_auto_columns": null,
       "grid_auto_flow": null,
       "grid_auto_rows": null,
       "grid_column": null,
       "grid_gap": null,
       "grid_row": null,
       "grid_template_areas": null,
       "grid_template_columns": null,
       "grid_template_rows": null,
       "height": null,
       "justify_content": null,
       "justify_items": null,
       "left": null,
       "margin": null,
       "max_height": null,
       "max_width": null,
       "min_height": null,
       "min_width": null,
       "object_fit": null,
       "object_position": null,
       "order": null,
       "overflow": null,
       "overflow_x": null,
       "overflow_y": null,
       "padding": null,
       "right": null,
       "top": null,
       "visibility": null,
       "width": null
      }
     },
     "87f8d28ce97e4ba2bf61ab05398a771c": {
      "model_module": "@jupyter-widgets/controls",
      "model_module_version": "1.5.0",
      "model_name": "HTMLModel",
      "state": {
       "_dom_classes": [],
       "_model_module": "@jupyter-widgets/controls",
       "_model_module_version": "1.5.0",
       "_model_name": "HTMLModel",
       "_view_count": null,
       "_view_module": "@jupyter-widgets/controls",
       "_view_module_version": "1.5.0",
       "_view_name": "HTMLView",
       "description": "",
       "description_tooltip": null,
       "layout": "IPY_MODEL_54198897de3d4722be78c2885756b512",
       "placeholder": "​",
       "style": "IPY_MODEL_d86c421ad21b43aaa23f9b297ce63578",
       "value": "Downloading (…)cial_tokens_map.json: 100%"
      }
     },
     "889a2f915dd34e7b9e03729f5f4dc662": {
      "model_module": "@jupyter-widgets/controls",
      "model_module_version": "1.5.0",
      "model_name": "HTMLModel",
      "state": {
       "_dom_classes": [],
       "_model_module": "@jupyter-widgets/controls",
       "_model_module_version": "1.5.0",
       "_model_name": "HTMLModel",
       "_view_count": null,
       "_view_module": "@jupyter-widgets/controls",
       "_view_module_version": "1.5.0",
       "_view_name": "HTMLView",
       "description": "",
       "description_tooltip": null,
       "layout": "IPY_MODEL_86a1bf94f3b849a1acf2ac56e639f374",
       "placeholder": "​",
       "style": "IPY_MODEL_7e0b4849902c42bf871b76e0c15a6c92",
       "value": "Downloading builder script: 100%"
      }
     },
     "91013565c274436aa22efaacafb19670": {
      "model_module": "@jupyter-widgets/controls",
      "model_module_version": "1.5.0",
      "model_name": "FloatProgressModel",
      "state": {
       "_dom_classes": [],
       "_model_module": "@jupyter-widgets/controls",
       "_model_module_version": "1.5.0",
       "_model_name": "FloatProgressModel",
       "_view_count": null,
       "_view_module": "@jupyter-widgets/controls",
       "_view_module_version": "1.5.0",
       "_view_name": "ProgressView",
       "bar_style": "success",
       "description": "",
       "description_tooltip": null,
       "layout": "IPY_MODEL_d74f6bfa842347e09f859d7f1adf61e9",
       "max": 95,
       "min": 0,
       "orientation": "horizontal",
       "style": "IPY_MODEL_cabcd10399784b5c8170d631cb5753c7",
       "value": 95
      }
     },
     "91cdd75b09db4a22a1d8cab344d19ed6": {
      "model_module": "@jupyter-widgets/base",
      "model_module_version": "1.2.0",
      "model_name": "LayoutModel",
      "state": {
       "_model_module": "@jupyter-widgets/base",
       "_model_module_version": "1.2.0",
       "_model_name": "LayoutModel",
       "_view_count": null,
       "_view_module": "@jupyter-widgets/base",
       "_view_module_version": "1.2.0",
       "_view_name": "LayoutView",
       "align_content": null,
       "align_items": null,
       "align_self": null,
       "border": null,
       "bottom": null,
       "display": null,
       "flex": null,
       "flex_flow": null,
       "grid_area": null,
       "grid_auto_columns": null,
       "grid_auto_flow": null,
       "grid_auto_rows": null,
       "grid_column": null,
       "grid_gap": null,
       "grid_row": null,
       "grid_template_areas": null,
       "grid_template_columns": null,
       "grid_template_rows": null,
       "height": null,
       "justify_content": null,
       "justify_items": null,
       "left": null,
       "margin": null,
       "max_height": null,
       "max_width": null,
       "min_height": null,
       "min_width": null,
       "object_fit": null,
       "object_position": null,
       "order": null,
       "overflow": null,
       "overflow_x": null,
       "overflow_y": null,
       "padding": null,
       "right": null,
       "top": null,
       "visibility": null,
       "width": null
      }
     },
     "93cc81e025294b7685c6cafd30a02a81": {
      "model_module": "@jupyter-widgets/base",
      "model_module_version": "1.2.0",
      "model_name": "LayoutModel",
      "state": {
       "_model_module": "@jupyter-widgets/base",
       "_model_module_version": "1.2.0",
       "_model_name": "LayoutModel",
       "_view_count": null,
       "_view_module": "@jupyter-widgets/base",
       "_view_module_version": "1.2.0",
       "_view_name": "LayoutView",
       "align_content": null,
       "align_items": null,
       "align_self": null,
       "border": null,
       "bottom": null,
       "display": null,
       "flex": null,
       "flex_flow": null,
       "grid_area": null,
       "grid_auto_columns": null,
       "grid_auto_flow": null,
       "grid_auto_rows": null,
       "grid_column": null,
       "grid_gap": null,
       "grid_row": null,
       "grid_template_areas": null,
       "grid_template_columns": null,
       "grid_template_rows": null,
       "height": null,
       "justify_content": null,
       "justify_items": null,
       "left": null,
       "margin": null,
       "max_height": null,
       "max_width": null,
       "min_height": null,
       "min_width": null,
       "object_fit": null,
       "object_position": null,
       "order": null,
       "overflow": null,
       "overflow_x": null,
       "overflow_y": null,
       "padding": null,
       "right": null,
       "top": null,
       "visibility": null,
       "width": null
      }
     },
     "93d309fc2884406c99835ce6b6633a9f": {
      "model_module": "@jupyter-widgets/controls",
      "model_module_version": "1.5.0",
      "model_name": "HBoxModel",
      "state": {
       "_dom_classes": [],
       "_model_module": "@jupyter-widgets/controls",
       "_model_module_version": "1.5.0",
       "_model_name": "HBoxModel",
       "_view_count": null,
       "_view_module": "@jupyter-widgets/controls",
       "_view_module_version": "1.5.0",
       "_view_name": "HBoxView",
       "box_style": "",
       "children": [
        "IPY_MODEL_7edc61f9f5174b2eb3c06e904f6c6fa9",
        "IPY_MODEL_9c2e0d2665b642ea88bfcafd12a1fcfd",
        "IPY_MODEL_29846bef4f594731922cea52d62d3fbd"
       ],
       "layout": "IPY_MODEL_9447299715324525ae2fa18120d84de5"
      }
     },
     "9447299715324525ae2fa18120d84de5": {
      "model_module": "@jupyter-widgets/base",
      "model_module_version": "1.2.0",
      "model_name": "LayoutModel",
      "state": {
       "_model_module": "@jupyter-widgets/base",
       "_model_module_version": "1.2.0",
       "_model_name": "LayoutModel",
       "_view_count": null,
       "_view_module": "@jupyter-widgets/base",
       "_view_module_version": "1.2.0",
       "_view_name": "LayoutView",
       "align_content": null,
       "align_items": null,
       "align_self": null,
       "border": null,
       "bottom": null,
       "display": null,
       "flex": null,
       "flex_flow": null,
       "grid_area": null,
       "grid_auto_columns": null,
       "grid_auto_flow": null,
       "grid_auto_rows": null,
       "grid_column": null,
       "grid_gap": null,
       "grid_row": null,
       "grid_template_areas": null,
       "grid_template_columns": null,
       "grid_template_rows": null,
       "height": null,
       "justify_content": null,
       "justify_items": null,
       "left": null,
       "margin": null,
       "max_height": null,
       "max_width": null,
       "min_height": null,
       "min_width": null,
       "object_fit": null,
       "object_position": null,
       "order": null,
       "overflow": null,
       "overflow_x": null,
       "overflow_y": null,
       "padding": null,
       "right": null,
       "top": null,
       "visibility": null,
       "width": null
      }
     },
     "97d70a063d234d59975fb8d2a4bb9444": {
      "model_module": "@jupyter-widgets/controls",
      "model_module_version": "1.5.0",
      "model_name": "ProgressStyleModel",
      "state": {
       "_model_module": "@jupyter-widgets/controls",
       "_model_module_version": "1.5.0",
       "_model_name": "ProgressStyleModel",
       "_view_count": null,
       "_view_module": "@jupyter-widgets/base",
       "_view_module_version": "1.2.0",
       "_view_name": "StyleView",
       "bar_color": null,
       "description_width": ""
      }
     },
     "9a6533a35cd74d3696ba2dbf4a4a137e": {
      "model_module": "@jupyter-widgets/base",
      "model_module_version": "1.2.0",
      "model_name": "LayoutModel",
      "state": {
       "_model_module": "@jupyter-widgets/base",
       "_model_module_version": "1.2.0",
       "_model_name": "LayoutModel",
       "_view_count": null,
       "_view_module": "@jupyter-widgets/base",
       "_view_module_version": "1.2.0",
       "_view_name": "LayoutView",
       "align_content": null,
       "align_items": null,
       "align_self": null,
       "border": null,
       "bottom": null,
       "display": null,
       "flex": null,
       "flex_flow": null,
       "grid_area": null,
       "grid_auto_columns": null,
       "grid_auto_flow": null,
       "grid_auto_rows": null,
       "grid_column": null,
       "grid_gap": null,
       "grid_row": null,
       "grid_template_areas": null,
       "grid_template_columns": null,
       "grid_template_rows": null,
       "height": null,
       "justify_content": null,
       "justify_items": null,
       "left": null,
       "margin": null,
       "max_height": null,
       "max_width": null,
       "min_height": null,
       "min_width": null,
       "object_fit": null,
       "object_position": null,
       "order": null,
       "overflow": null,
       "overflow_x": null,
       "overflow_y": null,
       "padding": null,
       "right": null,
       "top": null,
       "visibility": null,
       "width": null
      }
     },
     "9ae950ddf2064cb6add7b68c8da938cb": {
      "model_module": "@jupyter-widgets/controls",
      "model_module_version": "1.5.0",
      "model_name": "FloatProgressModel",
      "state": {
       "_dom_classes": [],
       "_model_module": "@jupyter-widgets/controls",
       "_model_module_version": "1.5.0",
       "_model_name": "FloatProgressModel",
       "_view_count": null,
       "_view_module": "@jupyter-widgets/controls",
       "_view_module_version": "1.5.0",
       "_view_name": "ProgressView",
       "bar_style": "success",
       "description": "",
       "description_tooltip": null,
       "layout": "IPY_MODEL_c07d6d928b5b442c9ecb738cf225cd9a",
       "max": 32,
       "min": 0,
       "orientation": "horizontal",
       "style": "IPY_MODEL_bb1ce43e99dc433c8d74ce08338e7a26",
       "value": 32
      }
     },
     "9c2e0d2665b642ea88bfcafd12a1fcfd": {
      "model_module": "@jupyter-widgets/controls",
      "model_module_version": "1.5.0",
      "model_name": "FloatProgressModel",
      "state": {
       "_dom_classes": [],
       "_model_module": "@jupyter-widgets/controls",
       "_model_module_version": "1.5.0",
       "_model_name": "FloatProgressModel",
       "_view_count": null,
       "_view_module": "@jupyter-widgets/controls",
       "_view_module_version": "1.5.0",
       "_view_name": "ProgressView",
       "bar_style": "success",
       "description": "",
       "description_tooltip": null,
       "layout": "IPY_MODEL_34f2dc8bc9f3497fb36b2f7fc1661f41",
       "max": 93,
       "min": 0,
       "orientation": "horizontal",
       "style": "IPY_MODEL_97d70a063d234d59975fb8d2a4bb9444",
       "value": 93
      }
     },
     "a4b58d3e8ff443d2ab05fe8bcb73a759": {
      "model_module": "@jupyter-widgets/base",
      "model_module_version": "1.2.0",
      "model_name": "LayoutModel",
      "state": {
       "_model_module": "@jupyter-widgets/base",
       "_model_module_version": "1.2.0",
       "_model_name": "LayoutModel",
       "_view_count": null,
       "_view_module": "@jupyter-widgets/base",
       "_view_module_version": "1.2.0",
       "_view_name": "LayoutView",
       "align_content": null,
       "align_items": null,
       "align_self": null,
       "border": null,
       "bottom": null,
       "display": null,
       "flex": null,
       "flex_flow": null,
       "grid_area": null,
       "grid_auto_columns": null,
       "grid_auto_flow": null,
       "grid_auto_rows": null,
       "grid_column": null,
       "grid_gap": null,
       "grid_row": null,
       "grid_template_areas": null,
       "grid_template_columns": null,
       "grid_template_rows": null,
       "height": null,
       "justify_content": null,
       "justify_items": null,
       "left": null,
       "margin": null,
       "max_height": null,
       "max_width": null,
       "min_height": null,
       "min_width": null,
       "object_fit": null,
       "object_position": null,
       "order": null,
       "overflow": null,
       "overflow_x": null,
       "overflow_y": null,
       "padding": null,
       "right": null,
       "top": null,
       "visibility": null,
       "width": null
      }
     },
     "a6407b9e37af4ab585a2cc7ca5612633": {
      "model_module": "@jupyter-widgets/controls",
      "model_module_version": "1.5.0",
      "model_name": "HTMLModel",
      "state": {
       "_dom_classes": [],
       "_model_module": "@jupyter-widgets/controls",
       "_model_module_version": "1.5.0",
       "_model_name": "HTMLModel",
       "_view_count": null,
       "_view_module": "@jupyter-widgets/controls",
       "_view_module_version": "1.5.0",
       "_view_name": "HTMLView",
       "description": "",
       "description_tooltip": null,
       "layout": "IPY_MODEL_a4b58d3e8ff443d2ab05fe8bcb73a759",
       "placeholder": "​",
       "style": "IPY_MODEL_bf0c612e4f0e4127b8e617213ef86030",
       "value": " 778/778 [00:00&lt;00:00, 67.4kB/s]"
      }
     },
     "a9d5f0b30d8d48c8ac39a487e1d7f7a2": {
      "model_module": "@jupyter-widgets/base",
      "model_module_version": "1.2.0",
      "model_name": "LayoutModel",
      "state": {
       "_model_module": "@jupyter-widgets/base",
       "_model_module_version": "1.2.0",
       "_model_name": "LayoutModel",
       "_view_count": null,
       "_view_module": "@jupyter-widgets/base",
       "_view_module_version": "1.2.0",
       "_view_name": "LayoutView",
       "align_content": null,
       "align_items": null,
       "align_self": null,
       "border": null,
       "bottom": null,
       "display": null,
       "flex": null,
       "flex_flow": null,
       "grid_area": null,
       "grid_auto_columns": null,
       "grid_auto_flow": null,
       "grid_auto_rows": null,
       "grid_column": null,
       "grid_gap": null,
       "grid_row": null,
       "grid_template_areas": null,
       "grid_template_columns": null,
       "grid_template_rows": null,
       "height": null,
       "justify_content": null,
       "justify_items": null,
       "left": null,
       "margin": null,
       "max_height": null,
       "max_width": null,
       "min_height": null,
       "min_width": null,
       "object_fit": null,
       "object_position": null,
       "order": null,
       "overflow": null,
       "overflow_x": null,
       "overflow_y": null,
       "padding": null,
       "right": null,
       "top": null,
       "visibility": null,
       "width": null
      }
     },
     "ab5a88f75fa044868f4878200675e5a6": {
      "model_module": "@jupyter-widgets/base",
      "model_module_version": "1.2.0",
      "model_name": "LayoutModel",
      "state": {
       "_model_module": "@jupyter-widgets/base",
       "_model_module_version": "1.2.0",
       "_model_name": "LayoutModel",
       "_view_count": null,
       "_view_module": "@jupyter-widgets/base",
       "_view_module_version": "1.2.0",
       "_view_name": "LayoutView",
       "align_content": null,
       "align_items": null,
       "align_self": null,
       "border": null,
       "bottom": null,
       "display": null,
       "flex": null,
       "flex_flow": null,
       "grid_area": null,
       "grid_auto_columns": null,
       "grid_auto_flow": null,
       "grid_auto_rows": null,
       "grid_column": null,
       "grid_gap": null,
       "grid_row": null,
       "grid_template_areas": null,
       "grid_template_columns": null,
       "grid_template_rows": null,
       "height": null,
       "justify_content": null,
       "justify_items": null,
       "left": null,
       "margin": null,
       "max_height": null,
       "max_width": null,
       "min_height": null,
       "min_width": null,
       "object_fit": null,
       "object_position": null,
       "order": null,
       "overflow": null,
       "overflow_x": null,
       "overflow_y": null,
       "padding": null,
       "right": null,
       "top": null,
       "visibility": null,
       "width": null
      }
     },
     "b1599a10a17e4078b8eae38b4310f69f": {
      "model_module": "@jupyter-widgets/controls",
      "model_module_version": "1.5.0",
      "model_name": "DescriptionStyleModel",
      "state": {
       "_model_module": "@jupyter-widgets/controls",
       "_model_module_version": "1.5.0",
       "_model_name": "DescriptionStyleModel",
       "_view_count": null,
       "_view_module": "@jupyter-widgets/base",
       "_view_module_version": "1.2.0",
       "_view_name": "StyleView",
       "description_width": ""
      }
     },
     "b37e7797451a48e997ff25f6cdafccd3": {
      "model_module": "@jupyter-widgets/controls",
      "model_module_version": "1.5.0",
      "model_name": "DescriptionStyleModel",
      "state": {
       "_model_module": "@jupyter-widgets/controls",
       "_model_module_version": "1.5.0",
       "_model_name": "DescriptionStyleModel",
       "_view_count": null,
       "_view_module": "@jupyter-widgets/base",
       "_view_module_version": "1.2.0",
       "_view_name": "StyleView",
       "description_width": ""
      }
     },
     "b66a966bb58e4bc58847b06c88b4d51f": {
      "model_module": "@jupyter-widgets/base",
      "model_module_version": "1.2.0",
      "model_name": "LayoutModel",
      "state": {
       "_model_module": "@jupyter-widgets/base",
       "_model_module_version": "1.2.0",
       "_model_name": "LayoutModel",
       "_view_count": null,
       "_view_module": "@jupyter-widgets/base",
       "_view_module_version": "1.2.0",
       "_view_name": "LayoutView",
       "align_content": null,
       "align_items": null,
       "align_self": null,
       "border": null,
       "bottom": null,
       "display": null,
       "flex": null,
       "flex_flow": null,
       "grid_area": null,
       "grid_auto_columns": null,
       "grid_auto_flow": null,
       "grid_auto_rows": null,
       "grid_column": null,
       "grid_gap": null,
       "grid_row": null,
       "grid_template_areas": null,
       "grid_template_columns": null,
       "grid_template_rows": null,
       "height": null,
       "justify_content": null,
       "justify_items": null,
       "left": null,
       "margin": null,
       "max_height": null,
       "max_width": null,
       "min_height": null,
       "min_width": null,
       "object_fit": null,
       "object_position": null,
       "order": null,
       "overflow": null,
       "overflow_x": null,
       "overflow_y": null,
       "padding": null,
       "right": null,
       "top": null,
       "visibility": null,
       "width": null
      }
     },
     "b874c5ef7cb44406b09e4c5382aaebbe": {
      "model_module": "@jupyter-widgets/controls",
      "model_module_version": "1.5.0",
      "model_name": "FloatProgressModel",
      "state": {
       "_dom_classes": [],
       "_model_module": "@jupyter-widgets/controls",
       "_model_module_version": "1.5.0",
       "_model_name": "FloatProgressModel",
       "_view_count": null,
       "_view_module": "@jupyter-widgets/controls",
       "_view_module_version": "1.5.0",
       "_view_name": "ProgressView",
       "bar_style": "success",
       "description": "",
       "description_tooltip": null,
       "layout": "IPY_MODEL_70d70643b29e4926ac171a74a125d12a",
       "max": 778,
       "min": 0,
       "orientation": "horizontal",
       "style": "IPY_MODEL_d6a85d6d67554c9ba6824e2c2fdfde40",
       "value": 778
      }
     },
     "b8c131dcaa1b49f08d4e5ac733af0bfa": {
      "model_module": "@jupyter-widgets/controls",
      "model_module_version": "1.5.0",
      "model_name": "ProgressStyleModel",
      "state": {
       "_model_module": "@jupyter-widgets/controls",
       "_model_module_version": "1.5.0",
       "_model_name": "ProgressStyleModel",
       "_view_count": null,
       "_view_module": "@jupyter-widgets/base",
       "_view_module_version": "1.2.0",
       "_view_name": "StyleView",
       "bar_color": null,
       "description_width": ""
      }
     },
     "bb1ce43e99dc433c8d74ce08338e7a26": {
      "model_module": "@jupyter-widgets/controls",
      "model_module_version": "1.5.0",
      "model_name": "ProgressStyleModel",
      "state": {
       "_model_module": "@jupyter-widgets/controls",
       "_model_module_version": "1.5.0",
       "_model_name": "ProgressStyleModel",
       "_view_count": null,
       "_view_module": "@jupyter-widgets/base",
       "_view_module_version": "1.2.0",
       "_view_name": "StyleView",
       "bar_color": null,
       "description_width": ""
      }
     },
     "bc376685425d4a1ea1981730a490f5ac": {
      "model_module": "@jupyter-widgets/base",
      "model_module_version": "1.2.0",
      "model_name": "LayoutModel",
      "state": {
       "_model_module": "@jupyter-widgets/base",
       "_model_module_version": "1.2.0",
       "_model_name": "LayoutModel",
       "_view_count": null,
       "_view_module": "@jupyter-widgets/base",
       "_view_module_version": "1.2.0",
       "_view_name": "LayoutView",
       "align_content": null,
       "align_items": null,
       "align_self": null,
       "border": null,
       "bottom": null,
       "display": null,
       "flex": null,
       "flex_flow": null,
       "grid_area": null,
       "grid_auto_columns": null,
       "grid_auto_flow": null,
       "grid_auto_rows": null,
       "grid_column": null,
       "grid_gap": null,
       "grid_row": null,
       "grid_template_areas": null,
       "grid_template_columns": null,
       "grid_template_rows": null,
       "height": null,
       "justify_content": null,
       "justify_items": null,
       "left": null,
       "margin": null,
       "max_height": null,
       "max_width": null,
       "min_height": null,
       "min_width": null,
       "object_fit": null,
       "object_position": null,
       "order": null,
       "overflow": null,
       "overflow_x": null,
       "overflow_y": null,
       "padding": null,
       "right": null,
       "top": null,
       "visibility": null,
       "width": null
      }
     },
     "bd33dc5bf09f47198b7ca7eb15f819bd": {
      "model_module": "@jupyter-widgets/controls",
      "model_module_version": "1.5.0",
      "model_name": "FloatProgressModel",
      "state": {
       "_dom_classes": [],
       "_model_module": "@jupyter-widgets/controls",
       "_model_module_version": "1.5.0",
       "_model_name": "FloatProgressModel",
       "_view_count": null,
       "_view_module": "@jupyter-widgets/controls",
       "_view_module_version": "1.5.0",
       "_view_name": "ProgressView",
       "bar_style": "success",
       "description": "",
       "description_tooltip": null,
       "layout": "IPY_MODEL_3607d84ca5394a5e927b32056e60bb70",
       "max": 11,
       "min": 0,
       "orientation": "horizontal",
       "style": "IPY_MODEL_b8c131dcaa1b49f08d4e5ac733af0bfa",
       "value": 11
      }
     },
     "bf0c612e4f0e4127b8e617213ef86030": {
      "model_module": "@jupyter-widgets/controls",
      "model_module_version": "1.5.0",
      "model_name": "DescriptionStyleModel",
      "state": {
       "_model_module": "@jupyter-widgets/controls",
       "_model_module_version": "1.5.0",
       "_model_name": "DescriptionStyleModel",
       "_view_count": null,
       "_view_module": "@jupyter-widgets/base",
       "_view_module_version": "1.2.0",
       "_view_name": "StyleView",
       "description_width": ""
      }
     },
     "bf71bfc8f6d54475a05519e80281f459": {
      "model_module": "@jupyter-widgets/controls",
      "model_module_version": "1.5.0",
      "model_name": "ProgressStyleModel",
      "state": {
       "_model_module": "@jupyter-widgets/controls",
       "_model_module_version": "1.5.0",
       "_model_name": "ProgressStyleModel",
       "_view_count": null,
       "_view_module": "@jupyter-widgets/base",
       "_view_module_version": "1.2.0",
       "_view_name": "StyleView",
       "bar_color": null,
       "description_width": ""
      }
     },
     "c07d6d928b5b442c9ecb738cf225cd9a": {
      "model_module": "@jupyter-widgets/base",
      "model_module_version": "1.2.0",
      "model_name": "LayoutModel",
      "state": {
       "_model_module": "@jupyter-widgets/base",
       "_model_module_version": "1.2.0",
       "_model_name": "LayoutModel",
       "_view_count": null,
       "_view_module": "@jupyter-widgets/base",
       "_view_module_version": "1.2.0",
       "_view_name": "LayoutView",
       "align_content": null,
       "align_items": null,
       "align_self": null,
       "border": null,
       "bottom": null,
       "display": null,
       "flex": null,
       "flex_flow": null,
       "grid_area": null,
       "grid_auto_columns": null,
       "grid_auto_flow": null,
       "grid_auto_rows": null,
       "grid_column": null,
       "grid_gap": null,
       "grid_row": null,
       "grid_template_areas": null,
       "grid_template_columns": null,
       "grid_template_rows": null,
       "height": null,
       "justify_content": null,
       "justify_items": null,
       "left": null,
       "margin": null,
       "max_height": null,
       "max_width": null,
       "min_height": null,
       "min_width": null,
       "object_fit": null,
       "object_position": null,
       "order": null,
       "overflow": null,
       "overflow_x": null,
       "overflow_y": null,
       "padding": null,
       "right": null,
       "top": null,
       "visibility": null,
       "width": null
      }
     },
     "c3e8c8a0f30c4ee3ba4016c26c1a3eca": {
      "model_module": "@jupyter-widgets/base",
      "model_module_version": "1.2.0",
      "model_name": "LayoutModel",
      "state": {
       "_model_module": "@jupyter-widgets/base",
       "_model_module_version": "1.2.0",
       "_model_name": "LayoutModel",
       "_view_count": null,
       "_view_module": "@jupyter-widgets/base",
       "_view_module_version": "1.2.0",
       "_view_name": "LayoutView",
       "align_content": null,
       "align_items": null,
       "align_self": null,
       "border": null,
       "bottom": null,
       "display": null,
       "flex": null,
       "flex_flow": null,
       "grid_area": null,
       "grid_auto_columns": null,
       "grid_auto_flow": null,
       "grid_auto_rows": null,
       "grid_column": null,
       "grid_gap": null,
       "grid_row": null,
       "grid_template_areas": null,
       "grid_template_columns": null,
       "grid_template_rows": null,
       "height": null,
       "justify_content": null,
       "justify_items": null,
       "left": null,
       "margin": null,
       "max_height": null,
       "max_width": null,
       "min_height": null,
       "min_width": null,
       "object_fit": null,
       "object_position": null,
       "order": null,
       "overflow": null,
       "overflow_x": null,
       "overflow_y": null,
       "padding": null,
       "right": null,
       "top": null,
       "visibility": null,
       "width": null
      }
     },
     "c435490f9d2547da92bffb61b429dbcd": {
      "model_module": "@jupyter-widgets/base",
      "model_module_version": "1.2.0",
      "model_name": "LayoutModel",
      "state": {
       "_model_module": "@jupyter-widgets/base",
       "_model_module_version": "1.2.0",
       "_model_name": "LayoutModel",
       "_view_count": null,
       "_view_module": "@jupyter-widgets/base",
       "_view_module_version": "1.2.0",
       "_view_name": "LayoutView",
       "align_content": null,
       "align_items": null,
       "align_self": null,
       "border": null,
       "bottom": null,
       "display": null,
       "flex": null,
       "flex_flow": null,
       "grid_area": null,
       "grid_auto_columns": null,
       "grid_auto_flow": null,
       "grid_auto_rows": null,
       "grid_column": null,
       "grid_gap": null,
       "grid_row": null,
       "grid_template_areas": null,
       "grid_template_columns": null,
       "grid_template_rows": null,
       "height": null,
       "justify_content": null,
       "justify_items": null,
       "left": null,
       "margin": null,
       "max_height": null,
       "max_width": null,
       "min_height": null,
       "min_width": null,
       "object_fit": null,
       "object_position": null,
       "order": null,
       "overflow": null,
       "overflow_x": null,
       "overflow_y": null,
       "padding": null,
       "right": null,
       "top": null,
       "visibility": null,
       "width": null
      }
     },
     "c66cb87f780946fb955eaa55f9ad5d6a": {
      "model_module": "@jupyter-widgets/base",
      "model_module_version": "1.2.0",
      "model_name": "LayoutModel",
      "state": {
       "_model_module": "@jupyter-widgets/base",
       "_model_module_version": "1.2.0",
       "_model_name": "LayoutModel",
       "_view_count": null,
       "_view_module": "@jupyter-widgets/base",
       "_view_module_version": "1.2.0",
       "_view_name": "LayoutView",
       "align_content": null,
       "align_items": null,
       "align_self": null,
       "border": null,
       "bottom": null,
       "display": null,
       "flex": null,
       "flex_flow": null,
       "grid_area": null,
       "grid_auto_columns": null,
       "grid_auto_flow": null,
       "grid_auto_rows": null,
       "grid_column": null,
       "grid_gap": null,
       "grid_row": null,
       "grid_template_areas": null,
       "grid_template_columns": null,
       "grid_template_rows": null,
       "height": null,
       "justify_content": null,
       "justify_items": null,
       "left": null,
       "margin": null,
       "max_height": null,
       "max_width": null,
       "min_height": null,
       "min_width": null,
       "object_fit": null,
       "object_position": null,
       "order": null,
       "overflow": null,
       "overflow_x": null,
       "overflow_y": null,
       "padding": null,
       "right": null,
       "top": null,
       "visibility": null,
       "width": null
      }
     },
     "c6a917c0f06541f88c17f50f3b147a9a": {
      "model_module": "@jupyter-widgets/controls",
      "model_module_version": "1.5.0",
      "model_name": "HBoxModel",
      "state": {
       "_dom_classes": [],
       "_model_module": "@jupyter-widgets/controls",
       "_model_module_version": "1.5.0",
       "_model_name": "HBoxModel",
       "_view_count": null,
       "_view_module": "@jupyter-widgets/controls",
       "_view_module_version": "1.5.0",
       "_view_name": "HBoxView",
       "box_style": "",
       "children": [
        "IPY_MODEL_792d6ad149d84e51a025ec440f185261",
        "IPY_MODEL_91013565c274436aa22efaacafb19670",
        "IPY_MODEL_556fce40f2d9462b8ae55fe7240662ba"
       ],
       "layout": "IPY_MODEL_93cc81e025294b7685c6cafd30a02a81"
      }
     },
     "cabcd10399784b5c8170d631cb5753c7": {
      "model_module": "@jupyter-widgets/controls",
      "model_module_version": "1.5.0",
      "model_name": "ProgressStyleModel",
      "state": {
       "_model_module": "@jupyter-widgets/controls",
       "_model_module_version": "1.5.0",
       "_model_name": "ProgressStyleModel",
       "_view_count": null,
       "_view_module": "@jupyter-widgets/base",
       "_view_module_version": "1.2.0",
       "_view_name": "StyleView",
       "bar_color": null,
       "description_width": ""
      }
     },
     "cca667659b6849e790f4ccf13f4d0e14": {
      "model_module": "@jupyter-widgets/controls",
      "model_module_version": "1.5.0",
      "model_name": "DescriptionStyleModel",
      "state": {
       "_model_module": "@jupyter-widgets/controls",
       "_model_module_version": "1.5.0",
       "_model_name": "DescriptionStyleModel",
       "_view_count": null,
       "_view_module": "@jupyter-widgets/base",
       "_view_module_version": "1.2.0",
       "_view_name": "StyleView",
       "description_width": ""
      }
     },
     "cd2e9a2755444359855dbc9a2363b815": {
      "model_module": "@jupyter-widgets/controls",
      "model_module_version": "1.5.0",
      "model_name": "DescriptionStyleModel",
      "state": {
       "_model_module": "@jupyter-widgets/controls",
       "_model_module_version": "1.5.0",
       "_model_name": "DescriptionStyleModel",
       "_view_count": null,
       "_view_module": "@jupyter-widgets/base",
       "_view_module_version": "1.2.0",
       "_view_name": "StyleView",
       "description_width": ""
      }
     },
     "cd3a75b4b2b44bcfa9e27b74e902e18c": {
      "model_module": "@jupyter-widgets/base",
      "model_module_version": "1.2.0",
      "model_name": "LayoutModel",
      "state": {
       "_model_module": "@jupyter-widgets/base",
       "_model_module_version": "1.2.0",
       "_model_name": "LayoutModel",
       "_view_count": null,
       "_view_module": "@jupyter-widgets/base",
       "_view_module_version": "1.2.0",
       "_view_name": "LayoutView",
       "align_content": null,
       "align_items": null,
       "align_self": null,
       "border": null,
       "bottom": null,
       "display": null,
       "flex": null,
       "flex_flow": null,
       "grid_area": null,
       "grid_auto_columns": null,
       "grid_auto_flow": null,
       "grid_auto_rows": null,
       "grid_column": null,
       "grid_gap": null,
       "grid_row": null,
       "grid_template_areas": null,
       "grid_template_columns": null,
       "grid_template_rows": null,
       "height": null,
       "justify_content": null,
       "justify_items": null,
       "left": null,
       "margin": null,
       "max_height": null,
       "max_width": null,
       "min_height": null,
       "min_width": null,
       "object_fit": null,
       "object_position": null,
       "order": null,
       "overflow": null,
       "overflow_x": null,
       "overflow_y": null,
       "padding": null,
       "right": null,
       "top": null,
       "visibility": null,
       "width": null
      }
     },
     "d560c84688494dc985a722d89bb14281": {
      "model_module": "@jupyter-widgets/controls",
      "model_module_version": "1.5.0",
      "model_name": "HTMLModel",
      "state": {
       "_dom_classes": [],
       "_model_module": "@jupyter-widgets/controls",
       "_model_module_version": "1.5.0",
       "_model_name": "HTMLModel",
       "_view_count": null,
       "_view_module": "@jupyter-widgets/controls",
       "_view_module_version": "1.5.0",
       "_view_name": "HTMLView",
       "description": "",
       "description_tooltip": null,
       "layout": "IPY_MODEL_82382009bb574aaf94a89426c4ffcb1b",
       "placeholder": "​",
       "style": "IPY_MODEL_cd2e9a2755444359855dbc9a2363b815",
       "value": "100%"
      }
     },
     "d6a85d6d67554c9ba6824e2c2fdfde40": {
      "model_module": "@jupyter-widgets/controls",
      "model_module_version": "1.5.0",
      "model_name": "ProgressStyleModel",
      "state": {
       "_model_module": "@jupyter-widgets/controls",
       "_model_module_version": "1.5.0",
       "_model_name": "ProgressStyleModel",
       "_view_count": null,
       "_view_module": "@jupyter-widgets/base",
       "_view_module_version": "1.2.0",
       "_view_name": "StyleView",
       "bar_color": null,
       "description_width": ""
      }
     },
     "d74f6bfa842347e09f859d7f1adf61e9": {
      "model_module": "@jupyter-widgets/base",
      "model_module_version": "1.2.0",
      "model_name": "LayoutModel",
      "state": {
       "_model_module": "@jupyter-widgets/base",
       "_model_module_version": "1.2.0",
       "_model_name": "LayoutModel",
       "_view_count": null,
       "_view_module": "@jupyter-widgets/base",
       "_view_module_version": "1.2.0",
       "_view_name": "LayoutView",
       "align_content": null,
       "align_items": null,
       "align_self": null,
       "border": null,
       "bottom": null,
       "display": null,
       "flex": null,
       "flex_flow": null,
       "grid_area": null,
       "grid_auto_columns": null,
       "grid_auto_flow": null,
       "grid_auto_rows": null,
       "grid_column": null,
       "grid_gap": null,
       "grid_row": null,
       "grid_template_areas": null,
       "grid_template_columns": null,
       "grid_template_rows": null,
       "height": null,
       "justify_content": null,
       "justify_items": null,
       "left": null,
       "margin": null,
       "max_height": null,
       "max_width": null,
       "min_height": null,
       "min_width": null,
       "object_fit": null,
       "object_position": null,
       "order": null,
       "overflow": null,
       "overflow_x": null,
       "overflow_y": null,
       "padding": null,
       "right": null,
       "top": null,
       "visibility": null,
       "width": null
      }
     },
     "d8235edc30744418bd9dd44ecd43b8d5": {
      "model_module": "@jupyter-widgets/controls",
      "model_module_version": "1.5.0",
      "model_name": "ProgressStyleModel",
      "state": {
       "_model_module": "@jupyter-widgets/controls",
       "_model_module_version": "1.5.0",
       "_model_name": "ProgressStyleModel",
       "_view_count": null,
       "_view_module": "@jupyter-widgets/base",
       "_view_module_version": "1.2.0",
       "_view_name": "StyleView",
       "bar_color": null,
       "description_width": ""
      }
     },
     "d86c421ad21b43aaa23f9b297ce63578": {
      "model_module": "@jupyter-widgets/controls",
      "model_module_version": "1.5.0",
      "model_name": "DescriptionStyleModel",
      "state": {
       "_model_module": "@jupyter-widgets/controls",
       "_model_module_version": "1.5.0",
       "_model_name": "DescriptionStyleModel",
       "_view_count": null,
       "_view_module": "@jupyter-widgets/base",
       "_view_module_version": "1.2.0",
       "_view_name": "StyleView",
       "description_width": ""
      }
     },
     "dbb6da3800d94039834133aa5e1250a2": {
      "model_module": "@jupyter-widgets/controls",
      "model_module_version": "1.5.0",
      "model_name": "FloatProgressModel",
      "state": {
       "_dom_classes": [],
       "_model_module": "@jupyter-widgets/controls",
       "_model_module_version": "1.5.0",
       "_model_name": "FloatProgressModel",
       "_view_count": null,
       "_view_module": "@jupyter-widgets/controls",
       "_view_module_version": "1.5.0",
       "_view_name": "ProgressView",
       "bar_style": "success",
       "description": "",
       "description_tooltip": null,
       "layout": "IPY_MODEL_3c0002be82f741f79abbcde87214181a",
       "max": 125,
       "min": 0,
       "orientation": "horizontal",
       "style": "IPY_MODEL_2df2b0b637bf47868d582af80dca7d33",
       "value": 125
      }
     },
     "e0da882378974a23bf6b3449e802a8a5": {
      "model_module": "@jupyter-widgets/base",
      "model_module_version": "1.2.0",
      "model_name": "LayoutModel",
      "state": {
       "_model_module": "@jupyter-widgets/base",
       "_model_module_version": "1.2.0",
       "_model_name": "LayoutModel",
       "_view_count": null,
       "_view_module": "@jupyter-widgets/base",
       "_view_module_version": "1.2.0",
       "_view_name": "LayoutView",
       "align_content": null,
       "align_items": null,
       "align_self": null,
       "border": null,
       "bottom": null,
       "display": null,
       "flex": null,
       "flex_flow": null,
       "grid_area": null,
       "grid_auto_columns": null,
       "grid_auto_flow": null,
       "grid_auto_rows": null,
       "grid_column": null,
       "grid_gap": null,
       "grid_row": null,
       "grid_template_areas": null,
       "grid_template_columns": null,
       "grid_template_rows": null,
       "height": null,
       "justify_content": null,
       "justify_items": null,
       "left": null,
       "margin": null,
       "max_height": null,
       "max_width": null,
       "min_height": null,
       "min_width": null,
       "object_fit": null,
       "object_position": null,
       "order": null,
       "overflow": null,
       "overflow_x": null,
       "overflow_y": null,
       "padding": null,
       "right": null,
       "top": null,
       "visibility": null,
       "width": null
      }
     },
     "e37087eeb6cd47dab2e2fe57a130f7e0": {
      "model_module": "@jupyter-widgets/controls",
      "model_module_version": "1.5.0",
      "model_name": "HBoxModel",
      "state": {
       "_dom_classes": [],
       "_model_module": "@jupyter-widgets/controls",
       "_model_module_version": "1.5.0",
       "_model_name": "HBoxModel",
       "_view_count": null,
       "_view_module": "@jupyter-widgets/controls",
       "_view_module_version": "1.5.0",
       "_view_name": "HBoxView",
       "box_style": "",
       "children": [
        "IPY_MODEL_d560c84688494dc985a722d89bb14281",
        "IPY_MODEL_9ae950ddf2064cb6add7b68c8da938cb",
        "IPY_MODEL_6155cb3828cb483785ac80e1441facdb"
       ],
       "layout": "IPY_MODEL_c435490f9d2547da92bffb61b429dbcd"
      }
     },
     "e5e50d1903d44e5491132e7cbebd812c": {
      "model_module": "@jupyter-widgets/base",
      "model_module_version": "1.2.0",
      "model_name": "LayoutModel",
      "state": {
       "_model_module": "@jupyter-widgets/base",
       "_model_module_version": "1.2.0",
       "_model_name": "LayoutModel",
       "_view_count": null,
       "_view_module": "@jupyter-widgets/base",
       "_view_module_version": "1.2.0",
       "_view_name": "LayoutView",
       "align_content": null,
       "align_items": null,
       "align_self": null,
       "border": null,
       "bottom": null,
       "display": null,
       "flex": null,
       "flex_flow": null,
       "grid_area": null,
       "grid_auto_columns": null,
       "grid_auto_flow": null,
       "grid_auto_rows": null,
       "grid_column": null,
       "grid_gap": null,
       "grid_row": null,
       "grid_template_areas": null,
       "grid_template_columns": null,
       "grid_template_rows": null,
       "height": null,
       "justify_content": null,
       "justify_items": null,
       "left": null,
       "margin": null,
       "max_height": null,
       "max_width": null,
       "min_height": null,
       "min_width": null,
       "object_fit": null,
       "object_position": null,
       "order": null,
       "overflow": null,
       "overflow_x": null,
       "overflow_y": null,
       "padding": null,
       "right": null,
       "top": null,
       "visibility": null,
       "width": null
      }
     },
     "eb6a4a1e299a4d6a8a36792b0d288945": {
      "model_module": "@jupyter-widgets/base",
      "model_module_version": "1.2.0",
      "model_name": "LayoutModel",
      "state": {
       "_model_module": "@jupyter-widgets/base",
       "_model_module_version": "1.2.0",
       "_model_name": "LayoutModel",
       "_view_count": null,
       "_view_module": "@jupyter-widgets/base",
       "_view_module_version": "1.2.0",
       "_view_name": "LayoutView",
       "align_content": null,
       "align_items": null,
       "align_self": null,
       "border": null,
       "bottom": null,
       "display": null,
       "flex": null,
       "flex_flow": null,
       "grid_area": null,
       "grid_auto_columns": null,
       "grid_auto_flow": null,
       "grid_auto_rows": null,
       "grid_column": null,
       "grid_gap": null,
       "grid_row": null,
       "grid_template_areas": null,
       "grid_template_columns": null,
       "grid_template_rows": null,
       "height": null,
       "justify_content": null,
       "justify_items": null,
       "left": null,
       "margin": null,
       "max_height": null,
       "max_width": null,
       "min_height": null,
       "min_width": null,
       "object_fit": null,
       "object_position": null,
       "order": null,
       "overflow": null,
       "overflow_x": null,
       "overflow_y": null,
       "padding": null,
       "right": null,
       "top": null,
       "visibility": null,
       "width": null
      }
     },
     "ec8bd93edebd4d658fb63e2301dc9d1b": {
      "model_module": "@jupyter-widgets/controls",
      "model_module_version": "1.5.0",
      "model_name": "DescriptionStyleModel",
      "state": {
       "_model_module": "@jupyter-widgets/controls",
       "_model_module_version": "1.5.0",
       "_model_name": "DescriptionStyleModel",
       "_view_count": null,
       "_view_module": "@jupyter-widgets/base",
       "_view_module_version": "1.2.0",
       "_view_name": "StyleView",
       "description_width": ""
      }
     },
     "ef26ce18d1934907ab9e906f08e62f54": {
      "model_module": "@jupyter-widgets/controls",
      "model_module_version": "1.5.0",
      "model_name": "DescriptionStyleModel",
      "state": {
       "_model_module": "@jupyter-widgets/controls",
       "_model_module_version": "1.5.0",
       "_model_name": "DescriptionStyleModel",
       "_view_count": null,
       "_view_module": "@jupyter-widgets/base",
       "_view_module_version": "1.2.0",
       "_view_name": "StyleView",
       "description_width": ""
      }
     },
     "f0c69b1325354870a62390d935711a06": {
      "model_module": "@jupyter-widgets/controls",
      "model_module_version": "1.5.0",
      "model_name": "HTMLModel",
      "state": {
       "_dom_classes": [],
       "_model_module": "@jupyter-widgets/controls",
       "_model_module_version": "1.5.0",
       "_model_name": "HTMLModel",
       "_view_count": null,
       "_view_module": "@jupyter-widgets/controls",
       "_view_module_version": "1.5.0",
       "_view_name": "HTMLView",
       "description": "",
       "description_tooltip": null,
       "layout": "IPY_MODEL_91cdd75b09db4a22a1d8cab344d19ed6",
       "placeholder": "​",
       "style": "IPY_MODEL_3751967f81b04e649bf5cd760cbcdfb8",
       "value": "Downloading (…)lve/main/config.json: 100%"
      }
     },
     "f3922c75afd34bfd8c0ea9f401127f4b": {
      "model_module": "@jupyter-widgets/controls",
      "model_module_version": "1.5.0",
      "model_name": "DescriptionStyleModel",
      "state": {
       "_model_module": "@jupyter-widgets/controls",
       "_model_module_version": "1.5.0",
       "_model_name": "DescriptionStyleModel",
       "_view_count": null,
       "_view_module": "@jupyter-widgets/base",
       "_view_module_version": "1.2.0",
       "_view_name": "StyleView",
       "description_width": ""
      }
     },
     "f63147dfa19543d1ad2a78103d1ab721": {
      "model_module": "@jupyter-widgets/controls",
      "model_module_version": "1.5.0",
      "model_name": "HTMLModel",
      "state": {
       "_dom_classes": [],
       "_model_module": "@jupyter-widgets/controls",
       "_model_module_version": "1.5.0",
       "_model_name": "HTMLModel",
       "_view_count": null,
       "_view_module": "@jupyter-widgets/controls",
       "_view_module_version": "1.5.0",
       "_view_name": "HTMLView",
       "description": "",
       "description_tooltip": null,
       "layout": "IPY_MODEL_cd3a75b4b2b44bcfa9e27b74e902e18c",
       "placeholder": "​",
       "style": "IPY_MODEL_f3922c75afd34bfd8c0ea9f401127f4b",
       "value": " 4.20k/4.20k [00:00&lt;00:00, 333kB/s]"
      }
     },
     "f8f3eee59965443983638957548aec0c": {
      "model_module": "@jupyter-widgets/controls",
      "model_module_version": "1.5.0",
      "model_name": "DescriptionStyleModel",
      "state": {
       "_model_module": "@jupyter-widgets/controls",
       "_model_module_version": "1.5.0",
       "_model_name": "DescriptionStyleModel",
       "_view_count": null,
       "_view_module": "@jupyter-widgets/base",
       "_view_module_version": "1.2.0",
       "_view_name": "StyleView",
       "description_width": ""
      }
     },
     "fd58ea4cbc774474b4da790ff2cf1178": {
      "model_module": "@jupyter-widgets/controls",
      "model_module_version": "1.5.0",
      "model_name": "DescriptionStyleModel",
      "state": {
       "_model_module": "@jupyter-widgets/controls",
       "_model_module_version": "1.5.0",
       "_model_name": "DescriptionStyleModel",
       "_view_count": null,
       "_view_module": "@jupyter-widgets/base",
       "_view_module_version": "1.2.0",
       "_view_name": "StyleView",
       "description_width": ""
      }
     },
     "fe3798726c9d464380423e83ea8e04e1": {
      "model_module": "@jupyter-widgets/base",
      "model_module_version": "1.2.0",
      "model_name": "LayoutModel",
      "state": {
       "_model_module": "@jupyter-widgets/base",
       "_model_module_version": "1.2.0",
       "_model_name": "LayoutModel",
       "_view_count": null,
       "_view_module": "@jupyter-widgets/base",
       "_view_module_version": "1.2.0",
       "_view_name": "LayoutView",
       "align_content": null,
       "align_items": null,
       "align_self": null,
       "border": null,
       "bottom": null,
       "display": null,
       "flex": null,
       "flex_flow": null,
       "grid_area": null,
       "grid_auto_columns": null,
       "grid_auto_flow": null,
       "grid_auto_rows": null,
       "grid_column": null,
       "grid_gap": null,
       "grid_row": null,
       "grid_template_areas": null,
       "grid_template_columns": null,
       "grid_template_rows": null,
       "height": null,
       "justify_content": null,
       "justify_items": null,
       "left": null,
       "margin": null,
       "max_height": null,
       "max_width": null,
       "min_height": null,
       "min_width": null,
       "object_fit": null,
       "object_position": null,
       "order": null,
       "overflow": null,
       "overflow_x": null,
       "overflow_y": null,
       "padding": null,
       "right": null,
       "top": null,
       "visibility": null,
       "width": null
      }
     }
    },
    "version_major": 2,
    "version_minor": 0
   }
  }
 },
 "nbformat": 4,
 "nbformat_minor": 5
}
