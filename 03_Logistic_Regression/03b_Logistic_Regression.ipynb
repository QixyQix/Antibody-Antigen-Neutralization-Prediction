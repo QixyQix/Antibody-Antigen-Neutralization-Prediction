{
 "cells": [
  {
   "cell_type": "markdown",
   "id": "3fb934a0",
   "metadata": {
    "papermill": {
     "duration": 0.004853,
     "end_time": "2023-10-15T06:14:58.919464",
     "exception": false,
     "start_time": "2023-10-15T06:14:58.914611",
     "status": "completed"
    },
    "tags": []
   },
   "source": [
    "# Predicting antibody-antigen interactions with Transformer-based machine learning\n",
    "### Part 3b: Logistic Regression\n",
    "This workbook contains all of the code for Logistic Regression, which is used to compare against our transformer model\n",
    "\n",
    "*Special Thanks to Teng Ann's work which this code is based off*"
   ]
  },
  {
   "cell_type": "markdown",
   "id": "2a5abffc",
   "metadata": {
    "papermill": {
     "duration": 0.004796,
     "end_time": "2023-10-15T06:14:58.929336",
     "exception": false,
     "start_time": "2023-10-15T06:14:58.924540",
     "status": "completed"
    },
    "tags": []
   },
   "source": [
    "### Step 0: Imports"
   ]
  },
  {
   "cell_type": "code",
   "execution_count": 3,
   "id": "fd622e1e",
   "metadata": {
    "execution": {
     "iopub.execute_input": "2023-10-15T06:14:58.941177Z",
     "iopub.status.busy": "2023-10-15T06:14:58.940612Z",
     "iopub.status.idle": "2023-10-15T06:14:58.948094Z",
     "shell.execute_reply": "2023-10-15T06:14:58.947486Z"
    },
    "papermill": {
     "duration": 0.015644,
     "end_time": "2023-10-15T06:14:58.949932",
     "exception": false,
     "start_time": "2023-10-15T06:14:58.934288",
     "status": "completed"
    },
    "tags": []
   },
   "outputs": [],
   "source": [
    "import os\n",
    "from pathlib import Path\n",
    "import numpy as np\n",
    "from numpy import arange, logspace\n",
    "import pandas as pd"
   ]
  },
  {
   "cell_type": "code",
   "execution_count": 6,
   "id": "62150a00",
   "metadata": {
    "execution": {
     "iopub.execute_input": "2023-10-15T06:14:59.377269Z",
     "iopub.status.busy": "2023-10-15T06:14:59.376273Z",
     "iopub.status.idle": "2023-10-15T06:15:01.094773Z",
     "shell.execute_reply": "2023-10-15T06:15:01.093858Z"
    },
    "papermill": {
     "duration": 1.727025,
     "end_time": "2023-10-15T06:15:01.097401",
     "exception": false,
     "start_time": "2023-10-15T06:14:59.370376",
     "status": "completed"
    },
    "tags": []
   },
   "outputs": [],
   "source": [
    "from sklearn.metrics import accuracy_score"
   ]
  },
  {
   "cell_type": "code",
   "execution_count": 7,
   "id": "61bdd9d6",
   "metadata": {
    "execution": {
     "iopub.execute_input": "2023-10-15T06:15:01.118983Z",
     "iopub.status.busy": "2023-10-15T06:15:01.118628Z",
     "iopub.status.idle": "2023-10-15T06:15:01.122714Z",
     "shell.execute_reply": "2023-10-15T06:15:01.121785Z"
    },
    "papermill": {
     "duration": 0.012393,
     "end_time": "2023-10-15T06:15:01.124882",
     "exception": false,
     "start_time": "2023-10-15T06:15:01.112489",
     "status": "completed"
    },
    "tags": []
   },
   "outputs": [],
   "source": [
    "from sklearn.linear_model import LogisticRegression"
   ]
  },
  {
   "cell_type": "markdown",
   "id": "745bb091",
   "metadata": {
    "papermill": {
     "duration": 0.004851,
     "end_time": "2023-10-15T06:15:01.203298",
     "exception": false,
     "start_time": "2023-10-15T06:15:01.198447",
     "status": "completed"
    },
    "tags": []
   },
   "source": [
    "### Step 1: Logistic Regression Function"
   ]
  },
  {
   "cell_type": "code",
   "execution_count": 12,
   "id": "5e4156b2",
   "metadata": {
    "execution": {
     "iopub.execute_input": "2023-10-15T06:15:01.224408Z",
     "iopub.status.busy": "2023-10-15T06:15:01.224038Z",
     "iopub.status.idle": "2023-10-15T06:15:01.230667Z",
     "shell.execute_reply": "2023-10-15T06:15:01.229860Z"
    },
    "papermill": {
     "duration": 0.014533,
     "end_time": "2023-10-15T06:15:01.232528",
     "exception": false,
     "start_time": "2023-10-15T06:15:01.217995",
     "status": "completed"
    },
    "tags": []
   },
   "outputs": [],
   "source": [
    "def run_LR(X_train, X_test, y_train, y_test, test_name, pred_export_name):\n",
    "    # Logistic Regression\n",
    "    LR = LogisticRegression(random_state = 1001, max_iter=1000)\n",
    "\n",
    "    # Model fitting and training\n",
    "    LR.fit(X_train, y_train)\n",
    "\n",
    "    # Make predictions for validation data\n",
    "    y_pred = LR.predict(X_test)\n",
    "    predictions = [round(value) for value in y_pred]\n",
    "\n",
    "    # Evaluate predictions: Accuracy score\n",
    "    accuracy = accuracy_score(y_test, predictions) * 100 # y_validate must match exactly with predictions in order to score accuracy points\n",
    "    print(\">>>Test result: \"+ test_name)\n",
    "    print(\"Accuracy: %.2f%%\" % (accuracy))\n",
    "    \n",
    "    # Save predictions\n",
    "    prediction_df = pd.DataFrame({'pred_label': np.asarray(predictions), 'true_label': y_test}, columns=['pred_label', 'true_label'])\n",
    "    prediction_df.to_csv(pred_export_name, index=False)\n",
    "    "
   ]
  },
  {
   "cell_type": "markdown",
   "metadata": {},
   "source": [
    "### Step 2: Perform Logistic Regression and save the predictions"
   ]
  },
  {
   "cell_type": "code",
   "execution_count": 13,
   "id": "56f2a516",
   "metadata": {
    "execution": {
     "iopub.execute_input": "2023-10-15T06:15:01.244470Z",
     "iopub.status.busy": "2023-10-15T06:15:01.243612Z",
     "iopub.status.idle": "2023-10-15T06:16:08.765333Z",
     "shell.execute_reply": "2023-10-15T06:16:08.763957Z"
    },
    "papermill": {
     "duration": 67.531733,
     "end_time": "2023-10-15T06:16:08.769345",
     "exception": false,
     "start_time": "2023-10-15T06:15:01.237612",
     "status": "completed"
    },
    "tags": []
   },
   "outputs": [
    {
     "name": "stdout",
     "output_type": "stream",
     "text": [
      ">>>Test result: Imbalanced (Full Sequence)\n",
      "Accuracy: 60.20%\n",
      ">>>Test result: Imbalanced (CDR3)\n",
      "Accuracy: 59.77%\n",
      ">>>Test result: Balanced (Full Sequence)\n",
      "Accuracy: 44.50%\n",
      ">>>Test result: Balanced (CDR3)\n",
      "Accuracy: 44.74%\n"
     ]
    }
   ],
   "source": [
    "# Imbalanced (Full Sequence)\n",
    "X_train = np.load(\"/kaggle/input/1024-dataset-featurized/XMatrix(train).npy\",allow_pickle=True)\n",
    "X_test = np.load(\"/kaggle/input/1024-dataset-featurized/XMatrix(test).npy\",allow_pickle=True)\n",
    "y_train = np.load(\"/kaggle/input/1024-dataset-featurized/YMatrix(train).npy\",allow_pickle=True)\n",
    "y_test = np.load(\"/kaggle/input/1024-dataset-featurized/YMatrix(test).npy\",allow_pickle=True)\n",
    "run_LR(X_train, X_test, y_train, y_test, \"Imbalanced (Full Sequence)\", \"LR_pred_imbalanced_fullseq.csv\")\n",
    "\n",
    "# Imbalanced (CDR3 Sequence)\n",
    "X_train = np.load(\"/kaggle/input/1024-dataset-featurized/XMatrixCDR3(train).npy\",allow_pickle=True)\n",
    "X_test = np.load(\"/kaggle/input/1024-dataset-featurized/XMatrixCDR3(test).npy\",allow_pickle=True)\n",
    "y_train = np.load(\"/kaggle/input/1024-dataset-featurized/YMatrix(train).npy\",allow_pickle=True)\n",
    "y_test = np.load(\"/kaggle/input/1024-dataset-featurized/YMatrix(test).npy\",allow_pickle=True)\n",
    "run_LR(X_train, X_test, y_train, y_test, \"Imbalanced (CDR3)\", \"LR_pred_imbalanced_cdr3.csv\")\n",
    "\n",
    "# Balanced (Full Sequence)\n",
    "X_train = np.load(\"/kaggle/input/1024-dataset-featurized/XMatrix_balanced(train).npy\",allow_pickle=True)\n",
    "X_test = np.load(\"/kaggle/input/1024-dataset-featurized/XMatrix_balanced(test).npy\",allow_pickle=True)\n",
    "y_train = np.load(\"/kaggle/input/1024-dataset-featurized/YMatrix_balanced(train).npy\",allow_pickle=True)\n",
    "y_test = np.load(\"/kaggle/input/1024-dataset-featurized/YMatrix_balanced(test).npy\",allow_pickle=True)\n",
    "run_LR(X_train, X_test, y_train, y_test, \"Balanced (Full Sequence)\", \"LR_pred_balanced_fullseq.csv\")\n",
    "\n",
    "# Balanced (CDR3 Sequence)\n",
    "X_train = np.load(\"/kaggle/input/1024-dataset-featurized/XMatrixCDR3_balanced(train).npy\",allow_pickle=True)\n",
    "X_test = np.load(\"/kaggle/input/1024-dataset-featurized/XMatrixCDR3_balanced(test).npy\",allow_pickle=True)\n",
    "y_train = np.load(\"/kaggle/input/1024-dataset-featurized/YMatrix_balanced(train).npy\",allow_pickle=True)\n",
    "y_test = np.load(\"/kaggle/input/1024-dataset-featurized/YMatrix_balanced(test).npy\",allow_pickle=True)\n",
    "run_LR(X_train, X_test, y_train, y_test, \"Balanced (CDR3)\", \"LR_pred_balanced_cdr3.csv\")\n",
    "\n"
   ]
  }
 ],
 "metadata": {
  "kernelspec": {
   "display_name": "Python 3",
   "language": "python",
   "name": "python3"
  },
  "language_info": {
   "codemirror_mode": {
    "name": "ipython",
    "version": 3
   },
   "file_extension": ".py",
   "mimetype": "text/x-python",
   "name": "python",
   "nbconvert_exporter": "python",
   "pygments_lexer": "ipython3",
   "version": "3.10.12"
  },
  "papermill": {
   "default_parameters": {},
   "duration": 73.832834,
   "end_time": "2023-10-15T06:16:09.525601",
   "environment_variables": {},
   "exception": null,
   "input_path": "__notebook__.ipynb",
   "output_path": "__notebook__.ipynb",
   "parameters": {},
   "start_time": "2023-10-15T06:14:55.692767",
   "version": "2.4.0"
  }
 },
 "nbformat": 4,
 "nbformat_minor": 5
}
