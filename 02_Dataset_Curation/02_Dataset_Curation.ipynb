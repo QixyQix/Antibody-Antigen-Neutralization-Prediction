{
 "cells": [
  {
   "cell_type": "markdown",
   "id": "affc3bab",
   "metadata": {},
   "source": [
    "# Predicting antibody-antigen interactions with Transformer-based machine learning\n",
    "### Part 2: Dataset Curation\n",
    "This notebook provides the code for the selection of usable data rows in the project\n",
    "- Examples where the combined sequence length of the antibody heavy and light chain as well as the virus sequence is not 1024 characters long are filtered out"
   ]
  },
  {
   "cell_type": "code",
   "execution_count": 1,
   "id": "a8cb7ca4",
   "metadata": {},
   "outputs": [
    {
     "name": "stdout",
     "output_type": "stream",
     "text": [
      "Requirement already satisfied: imbalanced-learn in /Users/qixyqix/anaconda3/lib/python3.11/site-packages (0.10.1)\n",
      "Requirement already satisfied: numpy>=1.17.3 in /Users/qixyqix/anaconda3/lib/python3.11/site-packages (from imbalanced-learn) (1.24.3)\n",
      "Requirement already satisfied: scipy>=1.3.2 in /Users/qixyqix/anaconda3/lib/python3.11/site-packages (from imbalanced-learn) (1.11.1)\n",
      "Requirement already satisfied: scikit-learn>=1.0.2 in /Users/qixyqix/anaconda3/lib/python3.11/site-packages (from imbalanced-learn) (1.3.0)\n",
      "Requirement already satisfied: joblib>=1.1.1 in /Users/qixyqix/anaconda3/lib/python3.11/site-packages (from imbalanced-learn) (1.2.0)\n",
      "Requirement already satisfied: threadpoolctl>=2.0.0 in /Users/qixyqix/anaconda3/lib/python3.11/site-packages (from imbalanced-learn) (2.2.0)\n",
      "Note: you may need to restart the kernel to use updated packages.\n"
     ]
    }
   ],
   "source": [
    "# import sys\n",
    "# %pip install imbalanced-learn"
   ]
  },
  {
   "cell_type": "code",
   "execution_count": 1,
   "metadata": {},
   "outputs": [],
   "source": [
    "import pandas as pd # pandas package\n",
    "from sklearn.model_selection import train_test_split\n",
    "from imblearn.under_sampling import RandomUnderSampler"
   ]
  },
  {
   "cell_type": "markdown",
   "id": "8ec3dd71",
   "metadata": {},
   "source": [
    "### Step 1: Import dataset\n",
    "- We import the full generated dataset\n",
    "- Generate few computed rows for the virus sequence length"
   ]
  },
  {
   "cell_type": "code",
   "execution_count": 2,
   "id": "90fa8be5",
   "metadata": {},
   "outputs": [
    {
     "name": "stdout",
     "output_type": "stream",
     "text": [
      "(188038, 8)\n",
      "(184328, 8)\n"
     ]
    },
    {
     "data": {
      "text/html": [
       "<div>\n",
       "<style scoped>\n",
       "    .dataframe tbody tr th:only-of-type {\n",
       "        vertical-align: middle;\n",
       "    }\n",
       "\n",
       "    .dataframe tbody tr th {\n",
       "        vertical-align: top;\n",
       "    }\n",
       "\n",
       "    .dataframe thead th {\n",
       "        text-align: right;\n",
       "    }\n",
       "</style>\n",
       "<table border=\"1\" class=\"dataframe\">\n",
       "  <thead>\n",
       "    <tr style=\"text-align: right;\">\n",
       "      <th></th>\n",
       "      <th>heavy_chain</th>\n",
       "      <th>light_chain</th>\n",
       "      <th>cdrh3</th>\n",
       "      <th>cdrl3</th>\n",
       "      <th>virus_type</th>\n",
       "      <th>virus_sequence</th>\n",
       "      <th>neutralising</th>\n",
       "      <th>weak_neutralisation</th>\n",
       "    </tr>\n",
       "  </thead>\n",
       "  <tbody>\n",
       "    <tr>\n",
       "      <th>0</th>\n",
       "      <td>EVQLVESGGGLAQPGRSLRLSCAASGFTFDDYAMHWVRQAPGKGLE...</td>\n",
       "      <td>QSALTQPRSVSGSPGQSVTISCTGTSSDVGGYNYVSWYQQHPGKAP...</td>\n",
       "      <td>AKAEVPGYGSGWYQGFAS</td>\n",
       "      <td>CSYAGSYTGL</td>\n",
       "      <td>SARS-CoV2_WT</td>\n",
       "      <td>MFVFLVLLPLVSSQCVNLTTRTQLPPAYTNSFTRGVYYPDKVFRSS...</td>\n",
       "      <td>True</td>\n",
       "      <td>True</td>\n",
       "    </tr>\n",
       "    <tr>\n",
       "      <th>1</th>\n",
       "      <td>EVQLVESGGGLIQPGGSLRLSCAASGITVSSNYMSWVRQAPGKGLE...</td>\n",
       "      <td>AIQLTQSPSSLSASVGDRVTITCRASQGISTYLAWYQQKPGKAPKL...</td>\n",
       "      <td>ARDLDYYGMDV</td>\n",
       "      <td>QQVNSYPPIT</td>\n",
       "      <td>SARS-CoV2_WT</td>\n",
       "      <td>MFVFLVLLPLVSSQCVNLTTRTQLPPAYTNSFTRGVYYPDKVFRSS...</td>\n",
       "      <td>True</td>\n",
       "      <td>False</td>\n",
       "    </tr>\n",
       "    <tr>\n",
       "      <th>2</th>\n",
       "      <td>EVQLVESGGGLVQPGGSLRLSCAASGFTVSSHYMSWVRQAPGKGLE...</td>\n",
       "      <td>AIQLTQSPSSLSASVGDRVTITCRASQGISSYLAWYQQKPGKAPKL...</td>\n",
       "      <td>ARDSSWGPGYYGLDV</td>\n",
       "      <td>QQLNSLFT</td>\n",
       "      <td>SARS-CoV2_WT</td>\n",
       "      <td>MFVFLVLLPLVSSQCVNLTTRTQLPPAYTNSFTRGVYYPDKVFRSS...</td>\n",
       "      <td>True</td>\n",
       "      <td>True</td>\n",
       "    </tr>\n",
       "    <tr>\n",
       "      <th>3</th>\n",
       "      <td>QVQLVQSGAEVKKPGSSVKVSCKASGGTFSSYTITWVRQAPGQGLE...</td>\n",
       "      <td>QSLLTQPPSVSGAPGQRVTISCTGSNSNIGAGYDVHWYQQLPGTAP...</td>\n",
       "      <td>ARERGYSSSSSAWYFDL</td>\n",
       "      <td>QSYDSSLTGSL</td>\n",
       "      <td>SARS-CoV2_WT</td>\n",
       "      <td>MFVFLVLLPLVSSQCVNLTTRTQLPPAYTNSFTRGVYYPDKVFRSS...</td>\n",
       "      <td>True</td>\n",
       "      <td>True</td>\n",
       "    </tr>\n",
       "    <tr>\n",
       "      <th>4</th>\n",
       "      <td>QVQLVESGGGVVQPGRSLRLSCAASGFTFSNFAMYWVRQAPGKGLE...</td>\n",
       "      <td>SYELTQPPSVSVSPGQTARITCSGDALPKQYAYWYQKKPGQAPVLV...</td>\n",
       "      <td>ARDLEGEQWLLRDDYYYYYGMDV</td>\n",
       "      <td>QSADSSGTYRV</td>\n",
       "      <td>SARS-CoV2_WT</td>\n",
       "      <td>MFVFLVLLPLVSSQCVNLTTRTQLPPAYTNSFTRGVYYPDKVFRSS...</td>\n",
       "      <td>True</td>\n",
       "      <td>True</td>\n",
       "    </tr>\n",
       "  </tbody>\n",
       "</table>\n",
       "</div>"
      ],
      "text/plain": [
       "                                         heavy_chain  \\\n",
       "0  EVQLVESGGGLAQPGRSLRLSCAASGFTFDDYAMHWVRQAPGKGLE...   \n",
       "1  EVQLVESGGGLIQPGGSLRLSCAASGITVSSNYMSWVRQAPGKGLE...   \n",
       "2  EVQLVESGGGLVQPGGSLRLSCAASGFTVSSHYMSWVRQAPGKGLE...   \n",
       "3  QVQLVQSGAEVKKPGSSVKVSCKASGGTFSSYTITWVRQAPGQGLE...   \n",
       "4  QVQLVESGGGVVQPGRSLRLSCAASGFTFSNFAMYWVRQAPGKGLE...   \n",
       "\n",
       "                                         light_chain                    cdrh3  \\\n",
       "0  QSALTQPRSVSGSPGQSVTISCTGTSSDVGGYNYVSWYQQHPGKAP...       AKAEVPGYGSGWYQGFAS   \n",
       "1  AIQLTQSPSSLSASVGDRVTITCRASQGISTYLAWYQQKPGKAPKL...              ARDLDYYGMDV   \n",
       "2  AIQLTQSPSSLSASVGDRVTITCRASQGISSYLAWYQQKPGKAPKL...          ARDSSWGPGYYGLDV   \n",
       "3  QSLLTQPPSVSGAPGQRVTISCTGSNSNIGAGYDVHWYQQLPGTAP...        ARERGYSSSSSAWYFDL   \n",
       "4  SYELTQPPSVSVSPGQTARITCSGDALPKQYAYWYQKKPGQAPVLV...  ARDLEGEQWLLRDDYYYYYGMDV   \n",
       "\n",
       "         cdrl3    virus_type  \\\n",
       "0   CSYAGSYTGL  SARS-CoV2_WT   \n",
       "1   QQVNSYPPIT  SARS-CoV2_WT   \n",
       "2     QQLNSLFT  SARS-CoV2_WT   \n",
       "3  QSYDSSLTGSL  SARS-CoV2_WT   \n",
       "4  QSADSSGTYRV  SARS-CoV2_WT   \n",
       "\n",
       "                                      virus_sequence  neutralising  \\\n",
       "0  MFVFLVLLPLVSSQCVNLTTRTQLPPAYTNSFTRGVYYPDKVFRSS...          True   \n",
       "1  MFVFLVLLPLVSSQCVNLTTRTQLPPAYTNSFTRGVYYPDKVFRSS...          True   \n",
       "2  MFVFLVLLPLVSSQCVNLTTRTQLPPAYTNSFTRGVYYPDKVFRSS...          True   \n",
       "3  MFVFLVLLPLVSSQCVNLTTRTQLPPAYTNSFTRGVYYPDKVFRSS...          True   \n",
       "4  MFVFLVLLPLVSSQCVNLTTRTQLPPAYTNSFTRGVYYPDKVFRSS...          True   \n",
       "\n",
       "   weak_neutralisation  \n",
       "0                 True  \n",
       "1                False  \n",
       "2                 True  \n",
       "3                 True  \n",
       "4                 True  "
      ]
     },
     "execution_count": 2,
     "metadata": {},
     "output_type": "execute_result"
    }
   ],
   "source": [
    "# Import the dataset\n",
    "dataset_df = pd.read_csv(\"training_combined.csv\")\n",
    "print(dataset_df.shape)\n",
    "dataset_df = dataset_df.dropna()\n",
    "print(dataset_df.shape)\n",
    "\n",
    "dataset_df.head()"
   ]
  },
  {
   "cell_type": "code",
   "execution_count": 3,
   "id": "0356cc20",
   "metadata": {},
   "outputs": [
    {
     "data": {
      "text/html": [
       "<div>\n",
       "<style scoped>\n",
       "    .dataframe tbody tr th:only-of-type {\n",
       "        vertical-align: middle;\n",
       "    }\n",
       "\n",
       "    .dataframe tbody tr th {\n",
       "        vertical-align: top;\n",
       "    }\n",
       "\n",
       "    .dataframe thead th {\n",
       "        text-align: right;\n",
       "    }\n",
       "</style>\n",
       "<table border=\"1\" class=\"dataframe\">\n",
       "  <thead>\n",
       "    <tr style=\"text-align: right;\">\n",
       "      <th></th>\n",
       "      <th>heavy_chain</th>\n",
       "      <th>light_chain</th>\n",
       "      <th>cdrh3</th>\n",
       "      <th>cdrl3</th>\n",
       "      <th>virus_type</th>\n",
       "      <th>virus_sequence</th>\n",
       "      <th>neutralising</th>\n",
       "      <th>weak_neutralisation</th>\n",
       "      <th>comb_len</th>\n",
       "      <th>label</th>\n",
       "    </tr>\n",
       "  </thead>\n",
       "  <tbody>\n",
       "    <tr>\n",
       "      <th>0</th>\n",
       "      <td>EVQLVESGGGLAQPGRSLRLSCAASGFTFDDYAMHWVRQAPGKGLE...</td>\n",
       "      <td>QSALTQPRSVSGSPGQSVTISCTGTSSDVGGYNYVSWYQQHPGKAP...</td>\n",
       "      <td>AKAEVPGYGSGWYQGFAS</td>\n",
       "      <td>CSYAGSYTGL</td>\n",
       "      <td>SARS-CoV2_WT</td>\n",
       "      <td>MFVFLVLLPLVSSQCVNLTTRTQLPPAYTNSFTRGVYYPDKVFRSS...</td>\n",
       "      <td>True</td>\n",
       "      <td>True</td>\n",
       "      <td>1443</td>\n",
       "      <td>1</td>\n",
       "    </tr>\n",
       "    <tr>\n",
       "      <th>1</th>\n",
       "      <td>EVQLVESGGGLIQPGGSLRLSCAASGITVSSNYMSWVRQAPGKGLE...</td>\n",
       "      <td>AIQLTQSPSSLSASVGDRVTITCRASQGISTYLAWYQQKPGKAPKL...</td>\n",
       "      <td>ARDLDYYGMDV</td>\n",
       "      <td>QQVNSYPPIT</td>\n",
       "      <td>SARS-CoV2_WT</td>\n",
       "      <td>MFVFLVLLPLVSSQCVNLTTRTQLPPAYTNSFTRGVYYPDKVFRSS...</td>\n",
       "      <td>True</td>\n",
       "      <td>False</td>\n",
       "      <td>1433</td>\n",
       "      <td>2</td>\n",
       "    </tr>\n",
       "    <tr>\n",
       "      <th>2</th>\n",
       "      <td>EVQLVESGGGLVQPGGSLRLSCAASGFTVSSHYMSWVRQAPGKGLE...</td>\n",
       "      <td>AIQLTQSPSSLSASVGDRVTITCRASQGISSYLAWYQQKPGKAPKL...</td>\n",
       "      <td>ARDSSWGPGYYGLDV</td>\n",
       "      <td>QQLNSLFT</td>\n",
       "      <td>SARS-CoV2_WT</td>\n",
       "      <td>MFVFLVLLPLVSSQCVNLTTRTQLPPAYTNSFTRGVYYPDKVFRSS...</td>\n",
       "      <td>True</td>\n",
       "      <td>True</td>\n",
       "      <td>1435</td>\n",
       "      <td>1</td>\n",
       "    </tr>\n",
       "    <tr>\n",
       "      <th>3</th>\n",
       "      <td>QVQLVQSGAEVKKPGSSVKVSCKASGGTFSSYTITWVRQAPGQGLE...</td>\n",
       "      <td>QSLLTQPPSVSGAPGQRVTISCTGSNSNIGAGYDVHWYQQLPGTAP...</td>\n",
       "      <td>ARERGYSSSSSAWYFDL</td>\n",
       "      <td>QSYDSSLTGSL</td>\n",
       "      <td>SARS-CoV2_WT</td>\n",
       "      <td>MFVFLVLLPLVSSQCVNLTTRTQLPPAYTNSFTRGVYYPDKVFRSS...</td>\n",
       "      <td>True</td>\n",
       "      <td>True</td>\n",
       "      <td>1443</td>\n",
       "      <td>1</td>\n",
       "    </tr>\n",
       "    <tr>\n",
       "      <th>4</th>\n",
       "      <td>QVQLVESGGGVVQPGRSLRLSCAASGFTFSNFAMYWVRQAPGKGLE...</td>\n",
       "      <td>SYELTQPPSVSVSPGQTARITCSGDALPKQYAYWYQKKPGQAPVLV...</td>\n",
       "      <td>ARDLEGEQWLLRDDYYYYYGMDV</td>\n",
       "      <td>QSADSSGTYRV</td>\n",
       "      <td>SARS-CoV2_WT</td>\n",
       "      <td>MFVFLVLLPLVSSQCVNLTTRTQLPPAYTNSFTRGVYYPDKVFRSS...</td>\n",
       "      <td>True</td>\n",
       "      <td>True</td>\n",
       "      <td>1446</td>\n",
       "      <td>1</td>\n",
       "    </tr>\n",
       "    <tr>\n",
       "      <th>...</th>\n",
       "      <td>...</td>\n",
       "      <td>...</td>\n",
       "      <td>...</td>\n",
       "      <td>...</td>\n",
       "      <td>...</td>\n",
       "      <td>...</td>\n",
       "      <td>...</td>\n",
       "      <td>...</td>\n",
       "      <td>...</td>\n",
       "      <td>...</td>\n",
       "    </tr>\n",
       "    <tr>\n",
       "      <th>188033</th>\n",
       "      <td>QVQLVQSGAEVKKPGTSMRVSCKASGYTFSTYGIIWVRQAPGQGLE...</td>\n",
       "      <td>SYELTQPPSVSVSPGQTARITCSGDAVATQFLYWYQQKSGQAPVMV...</td>\n",
       "      <td>ARQLLFFGDLSGDNGMDV</td>\n",
       "      <td>QSADSRGVV</td>\n",
       "      <td>SARS-CoV2_Omicron-BA5</td>\n",
       "      <td>PSKPSKRSFIEDLLFNKVTLADAGF</td>\n",
       "      <td>False</td>\n",
       "      <td>False</td>\n",
       "      <td>255</td>\n",
       "      <td>0</td>\n",
       "    </tr>\n",
       "    <tr>\n",
       "      <th>188034</th>\n",
       "      <td>QMQLVQSGTEVKKPGESLKISCKGSGYGFITYWIGWVRQMPGKGLE...</td>\n",
       "      <td>DIQLTQSPDSLAVSLGERATINCKSSQSVLYSSINKNYLAWYQQKP...</td>\n",
       "      <td>AGGSGISTPMDV</td>\n",
       "      <td>QQYYSTPYT</td>\n",
       "      <td>SARS-CoV2_Iota</td>\n",
       "      <td>RVQPTESIVRFPNITNLCPFGEVFNATRFASVYAWNRKRISNCVAD...</td>\n",
       "      <td>False</td>\n",
       "      <td>False</td>\n",
       "      <td>455</td>\n",
       "      <td>0</td>\n",
       "    </tr>\n",
       "    <tr>\n",
       "      <th>188035</th>\n",
       "      <td>QVQLLESGGGLVQPGRSLRLSCAASGFTFDDYAMHWVRQAPGKGLE...</td>\n",
       "      <td>DIVMTQSPLSLPVTPGEPASISCRSSQSLLHSNGYNYLDWYLQKPG...</td>\n",
       "      <td>AKAVEMVRGLMGLGADPEYGMDV</td>\n",
       "      <td>MQALQTPFT</td>\n",
       "      <td>SARS-CoV2_Omicron-BA4/5</td>\n",
       "      <td>HHHHHHTNLCPFDEVFNATRFASVYAWNRKRISNCVADYSVLYNFA...</td>\n",
       "      <td>False</td>\n",
       "      <td>False</td>\n",
       "      <td>444</td>\n",
       "      <td>0</td>\n",
       "    </tr>\n",
       "    <tr>\n",
       "      <th>188036</th>\n",
       "      <td>QVQLLESGGGLVQPGRSLRLSCAASGFTFDDYAMHWVRQAPGKGLE...</td>\n",
       "      <td>DIVMTQSPLSLPVTPGEPASISCRSSQSLLHSNGYNYLDWYLQKPG...</td>\n",
       "      <td>AKAVEMVRGLMGLGADPEYGMDV</td>\n",
       "      <td>MQALQTPFT</td>\n",
       "      <td>SARS-CoV2_Omicron-BA4/5</td>\n",
       "      <td>DPSKPSKRSFIEDLLFNKVTLADAGF</td>\n",
       "      <td>False</td>\n",
       "      <td>False</td>\n",
       "      <td>268</td>\n",
       "      <td>0</td>\n",
       "    </tr>\n",
       "    <tr>\n",
       "      <th>188037</th>\n",
       "      <td>QVQLLESGGGLVQPGRSLRLSCAASGFTFDDYAMHWVRQAPGKGLE...</td>\n",
       "      <td>DIVMTQSPLSLPVTPGEPASISCRSSQSLLHSNGYNYLDWYLQKPG...</td>\n",
       "      <td>AKAVEMVRGLMGLGADPEYGMDV</td>\n",
       "      <td>MQALQTPFT</td>\n",
       "      <td>SARS-CoV2_Omicron-BA4/5</td>\n",
       "      <td>PSKPSKRSFIEDLLFNKVTLADAGF</td>\n",
       "      <td>False</td>\n",
       "      <td>False</td>\n",
       "      <td>267</td>\n",
       "      <td>0</td>\n",
       "    </tr>\n",
       "  </tbody>\n",
       "</table>\n",
       "<p>184328 rows × 10 columns</p>\n",
       "</div>"
      ],
      "text/plain": [
       "                                              heavy_chain  \\\n",
       "0       EVQLVESGGGLAQPGRSLRLSCAASGFTFDDYAMHWVRQAPGKGLE...   \n",
       "1       EVQLVESGGGLIQPGGSLRLSCAASGITVSSNYMSWVRQAPGKGLE...   \n",
       "2       EVQLVESGGGLVQPGGSLRLSCAASGFTVSSHYMSWVRQAPGKGLE...   \n",
       "3       QVQLVQSGAEVKKPGSSVKVSCKASGGTFSSYTITWVRQAPGQGLE...   \n",
       "4       QVQLVESGGGVVQPGRSLRLSCAASGFTFSNFAMYWVRQAPGKGLE...   \n",
       "...                                                   ...   \n",
       "188033  QVQLVQSGAEVKKPGTSMRVSCKASGYTFSTYGIIWVRQAPGQGLE...   \n",
       "188034  QMQLVQSGTEVKKPGESLKISCKGSGYGFITYWIGWVRQMPGKGLE...   \n",
       "188035  QVQLLESGGGLVQPGRSLRLSCAASGFTFDDYAMHWVRQAPGKGLE...   \n",
       "188036  QVQLLESGGGLVQPGRSLRLSCAASGFTFDDYAMHWVRQAPGKGLE...   \n",
       "188037  QVQLLESGGGLVQPGRSLRLSCAASGFTFDDYAMHWVRQAPGKGLE...   \n",
       "\n",
       "                                              light_chain  \\\n",
       "0       QSALTQPRSVSGSPGQSVTISCTGTSSDVGGYNYVSWYQQHPGKAP...   \n",
       "1       AIQLTQSPSSLSASVGDRVTITCRASQGISTYLAWYQQKPGKAPKL...   \n",
       "2       AIQLTQSPSSLSASVGDRVTITCRASQGISSYLAWYQQKPGKAPKL...   \n",
       "3       QSLLTQPPSVSGAPGQRVTISCTGSNSNIGAGYDVHWYQQLPGTAP...   \n",
       "4       SYELTQPPSVSVSPGQTARITCSGDALPKQYAYWYQKKPGQAPVLV...   \n",
       "...                                                   ...   \n",
       "188033  SYELTQPPSVSVSPGQTARITCSGDAVATQFLYWYQQKSGQAPVMV...   \n",
       "188034  DIQLTQSPDSLAVSLGERATINCKSSQSVLYSSINKNYLAWYQQKP...   \n",
       "188035  DIVMTQSPLSLPVTPGEPASISCRSSQSLLHSNGYNYLDWYLQKPG...   \n",
       "188036  DIVMTQSPLSLPVTPGEPASISCRSSQSLLHSNGYNYLDWYLQKPG...   \n",
       "188037  DIVMTQSPLSLPVTPGEPASISCRSSQSLLHSNGYNYLDWYLQKPG...   \n",
       "\n",
       "                          cdrh3        cdrl3               virus_type  \\\n",
       "0            AKAEVPGYGSGWYQGFAS   CSYAGSYTGL             SARS-CoV2_WT   \n",
       "1                   ARDLDYYGMDV   QQVNSYPPIT             SARS-CoV2_WT   \n",
       "2               ARDSSWGPGYYGLDV     QQLNSLFT             SARS-CoV2_WT   \n",
       "3             ARERGYSSSSSAWYFDL  QSYDSSLTGSL             SARS-CoV2_WT   \n",
       "4       ARDLEGEQWLLRDDYYYYYGMDV  QSADSSGTYRV             SARS-CoV2_WT   \n",
       "...                         ...          ...                      ...   \n",
       "188033       ARQLLFFGDLSGDNGMDV    QSADSRGVV    SARS-CoV2_Omicron-BA5   \n",
       "188034             AGGSGISTPMDV    QQYYSTPYT           SARS-CoV2_Iota   \n",
       "188035  AKAVEMVRGLMGLGADPEYGMDV    MQALQTPFT  SARS-CoV2_Omicron-BA4/5   \n",
       "188036  AKAVEMVRGLMGLGADPEYGMDV    MQALQTPFT  SARS-CoV2_Omicron-BA4/5   \n",
       "188037  AKAVEMVRGLMGLGADPEYGMDV    MQALQTPFT  SARS-CoV2_Omicron-BA4/5   \n",
       "\n",
       "                                           virus_sequence  neutralising  \\\n",
       "0       MFVFLVLLPLVSSQCVNLTTRTQLPPAYTNSFTRGVYYPDKVFRSS...          True   \n",
       "1       MFVFLVLLPLVSSQCVNLTTRTQLPPAYTNSFTRGVYYPDKVFRSS...          True   \n",
       "2       MFVFLVLLPLVSSQCVNLTTRTQLPPAYTNSFTRGVYYPDKVFRSS...          True   \n",
       "3       MFVFLVLLPLVSSQCVNLTTRTQLPPAYTNSFTRGVYYPDKVFRSS...          True   \n",
       "4       MFVFLVLLPLVSSQCVNLTTRTQLPPAYTNSFTRGVYYPDKVFRSS...          True   \n",
       "...                                                   ...           ...   \n",
       "188033                          PSKPSKRSFIEDLLFNKVTLADAGF         False   \n",
       "188034  RVQPTESIVRFPNITNLCPFGEVFNATRFASVYAWNRKRISNCVAD...         False   \n",
       "188035  HHHHHHTNLCPFDEVFNATRFASVYAWNRKRISNCVADYSVLYNFA...         False   \n",
       "188036                         DPSKPSKRSFIEDLLFNKVTLADAGF         False   \n",
       "188037                          PSKPSKRSFIEDLLFNKVTLADAGF         False   \n",
       "\n",
       "        weak_neutralisation  comb_len  label  \n",
       "0                      True      1443      1  \n",
       "1                     False      1433      2  \n",
       "2                      True      1435      1  \n",
       "3                      True      1443      1  \n",
       "4                      True      1446      1  \n",
       "...                     ...       ...    ...  \n",
       "188033                False       255      0  \n",
       "188034                False       455      0  \n",
       "188035                False       444      0  \n",
       "188036                False       268      0  \n",
       "188037                False       267      0  \n",
       "\n",
       "[184328 rows x 10 columns]"
      ]
     },
     "execution_count": 3,
     "metadata": {},
     "output_type": "execute_result"
    }
   ],
   "source": [
    "# Get the combined length of the heavy, light, and virus sequence\n",
    "dataset_df_encoded = dataset_df.copy()\n",
    "dataset_df_encoded[\"comb_len\"] = dataset_df_encoded[\"heavy_chain\"].str.len() + dataset_df_encoded[\"light_chain\"].str.len() + dataset_df_encoded[\"virus_sequence\"].str.len()\n",
    "\n",
    "# Encode the neutralization status 0 > not neutralizing, 1 > weak neutralizing, 2 > neutralizing\n",
    "dataset_df_encoded.loc[dataset_df_encoded[\"neutralising\"] == True, \"label\"] = 2\n",
    "dataset_df_encoded.loc[dataset_df_encoded[\"weak_neutralisation\"] == True, \"label\"] = 1\n",
    "dataset_df_encoded.loc[dataset_df_encoded[\"neutralising\"] == False, \"label\"] = 0\n",
    "dataset_df_encoded[\"label\"] = dataset_df_encoded[\"label\"].astype(int)\n",
    "dataset_df_encoded"
   ]
  },
  {
   "cell_type": "markdown",
   "metadata": {},
   "source": [
    "We describe the data to see the overall combined sequence lengths across the data"
   ]
  },
  {
   "cell_type": "code",
   "execution_count": 6,
   "id": "d2eea9a4",
   "metadata": {},
   "outputs": [
    {
     "data": {
      "text/html": [
       "<div>\n",
       "<style scoped>\n",
       "    .dataframe tbody tr th:only-of-type {\n",
       "        vertical-align: middle;\n",
       "    }\n",
       "\n",
       "    .dataframe tbody tr th {\n",
       "        vertical-align: top;\n",
       "    }\n",
       "\n",
       "    .dataframe thead th {\n",
       "        text-align: right;\n",
       "    }\n",
       "</style>\n",
       "<table border=\"1\" class=\"dataframe\">\n",
       "  <thead>\n",
       "    <tr style=\"text-align: right;\">\n",
       "      <th></th>\n",
       "      <th>comb_len</th>\n",
       "      <th>label</th>\n",
       "    </tr>\n",
       "  </thead>\n",
       "  <tbody>\n",
       "    <tr>\n",
       "      <th>count</th>\n",
       "      <td>184328.000000</td>\n",
       "      <td>184328.000000</td>\n",
       "    </tr>\n",
       "    <tr>\n",
       "      <th>mean</th>\n",
       "      <td>891.060154</td>\n",
       "      <td>0.808439</td>\n",
       "    </tr>\n",
       "    <tr>\n",
       "      <th>std</th>\n",
       "      <td>535.608805</td>\n",
       "      <td>0.910860</td>\n",
       "    </tr>\n",
       "    <tr>\n",
       "      <th>min</th>\n",
       "      <td>233.000000</td>\n",
       "      <td>0.000000</td>\n",
       "    </tr>\n",
       "    <tr>\n",
       "      <th>25%</th>\n",
       "      <td>430.000000</td>\n",
       "      <td>0.000000</td>\n",
       "    </tr>\n",
       "    <tr>\n",
       "      <th>50%</th>\n",
       "      <td>453.000000</td>\n",
       "      <td>0.000000</td>\n",
       "    </tr>\n",
       "    <tr>\n",
       "      <th>75%</th>\n",
       "      <td>1496.000000</td>\n",
       "      <td>2.000000</td>\n",
       "    </tr>\n",
       "    <tr>\n",
       "      <th>max</th>\n",
       "      <td>1729.000000</td>\n",
       "      <td>2.000000</td>\n",
       "    </tr>\n",
       "  </tbody>\n",
       "</table>\n",
       "</div>"
      ],
      "text/plain": [
       "            comb_len          label\n",
       "count  184328.000000  184328.000000\n",
       "mean      891.060154       0.808439\n",
       "std       535.608805       0.910860\n",
       "min       233.000000       0.000000\n",
       "25%       430.000000       0.000000\n",
       "50%       453.000000       0.000000\n",
       "75%      1496.000000       2.000000\n",
       "max      1729.000000       2.000000"
      ]
     },
     "execution_count": 6,
     "metadata": {},
     "output_type": "execute_result"
    }
   ],
   "source": [
    "dataset_df_encoded.describe()"
   ]
  },
  {
   "cell_type": "markdown",
   "metadata": {},
   "source": [
    "Perform value counts on the labels to check the proportion of the data"
   ]
  },
  {
   "cell_type": "code",
   "execution_count": 4,
   "id": "58caa677",
   "metadata": {},
   "outputs": [
    {
     "name": "stdout",
     "output_type": "stream",
     "text": [
      "label\n",
      "0    97502\n",
      "2    62192\n",
      "1    24634\n",
      "Name: count, dtype: int64\n"
     ]
    }
   ],
   "source": [
    "print(dataset_df_encoded[\"label\"].value_counts())"
   ]
  },
  {
   "cell_type": "markdown",
   "metadata": {},
   "source": [
    "### Step 2: Export datasets dependening on length\n",
    "- Examples with maximum lengths of 256, 512, and 1024 are exported\n",
    "- The examples <256 and <512 were used as trial datasets, not included in the actual report"
   ]
  },
  {
   "cell_type": "code",
   "execution_count": 5,
   "id": "82804950",
   "metadata": {},
   "outputs": [
    {
     "name": "stdout",
     "output_type": "stream",
     "text": [
      "(4177, 10)\n",
      "(99834, 10)\n",
      "(101605, 10)\n"
     ]
    }
   ],
   "source": [
    "dataset_256 = dataset_df_encoded[dataset_df_encoded[\"comb_len\"] <= 256]\n",
    "print(dataset_256.shape)\n",
    "dataset_512 = dataset_df_encoded[dataset_df_encoded[\"comb_len\"] <= 512]\n",
    "print(dataset_512.shape)\n",
    "dataset_1024 = dataset_df_encoded[dataset_df_encoded[\"comb_len\"] <= 1024]\n",
    "print(dataset_1024.shape)\n"
   ]
  },
  {
   "cell_type": "code",
   "execution_count": 6,
   "id": "1bc057c2",
   "metadata": {},
   "outputs": [],
   "source": [
    "dataset_1024.to_csv(\"dataset_1024_multiclass.csv\")"
   ]
  },
  {
   "cell_type": "markdown",
   "metadata": {},
   "source": [
    "This dataset is then passed through the graph featurization for comparisons"
   ]
  },
  {
   "cell_type": "markdown",
   "id": "6398c328",
   "metadata": {},
   "source": [
    "### Step 3: Undersample dataset\n",
    "We note that there is a class imbalance in the dataset, undersampling is used to correct the class imbalance"
   ]
  },
  {
   "cell_type": "code",
   "execution_count": 9,
   "id": "cfb1ba2e",
   "metadata": {},
   "outputs": [],
   "source": [
    "def undersample_dataset(df):\n",
    "    X = df.drop(\"label\",axis=1)\n",
    "    y = df[\"label\"]\n",
    "    under_sampler = RandomUnderSampler(sampling_strategy=\"auto\", random_state=42)\n",
    "    X_resampled, y_resampled = under_sampler.fit_resample(X, y)\n",
    "    resampled_df = pd.concat([pd.DataFrame(X_resampled, columns=X.columns), pd.Series(y_resampled, name=\"label\")], axis=1)\n",
    "    print(resampled_df[\"label\"].value_counts())\n",
    "    return resampled_df"
   ]
  },
  {
   "cell_type": "code",
   "execution_count": 12,
   "id": "fcc5c8c4",
   "metadata": {},
   "outputs": [
    {
     "name": "stdout",
     "output_type": "stream",
     "text": [
      "label\n",
      "0    13822\n",
      "1    13822\n",
      "2    13822\n",
      "Name: count, dtype: int64\n"
     ]
    }
   ],
   "source": [
    "dataset_1024_balanced = undersample_dataset(dataset_1024)"
   ]
  },
  {
   "cell_type": "code",
   "execution_count": 13,
   "id": "4c75473a",
   "metadata": {},
   "outputs": [
    {
     "data": {
      "text/plain": [
       "heavy_chain            object\n",
       "light_chain            object\n",
       "cdrh3                  object\n",
       "cdrl3                  object\n",
       "virus_type             object\n",
       "virus_sequence         object\n",
       "neutralising             bool\n",
       "weak_neutralisation      bool\n",
       "comb_len                int64\n",
       "label                   int32\n",
       "dtype: object"
      ]
     },
     "execution_count": 13,
     "metadata": {},
     "output_type": "execute_result"
    }
   ],
   "source": [
    "dataset_1024_balanced.dtypes"
   ]
  },
  {
   "cell_type": "code",
   "execution_count": 14,
   "id": "7e3678f1",
   "metadata": {},
   "outputs": [],
   "source": [
    "dataset_1024_balanced.to_csv(\"dataset_1024_balanced.csv\",index=False)"
   ]
  },
  {
   "cell_type": "code",
   "execution_count": 16,
   "id": "aacfe2fa",
   "metadata": {},
   "outputs": [
    {
     "name": "stdout",
     "output_type": "stream",
     "text": [
      "(31099, 10)\n",
      "(10367, 10)\n"
     ]
    },
    {
     "ename": "",
     "evalue": "",
     "output_type": "error",
     "traceback": [
      "\u001b[1;31mThe Kernel crashed while executing code in the the current cell or a previous cell. Please review the code in the cell(s) to identify a possible cause of the failure. Click <a href='https://aka.ms/vscodeJupyterKernelCrash'>here</a> for more info. View Jupyter <a href='command:jupyter.viewOutput'>log</a> for further details."
     ]
    },
    {
     "ename": "",
     "evalue": "",
     "output_type": "error",
     "traceback": [
      "\u001b[1;31mThe Kernel crashed while executing code in the the current cell or a previous cell. Please review the code in the cell(s) to identify a possible cause of the failure. Click <a href='https://aka.ms/vscodeJupyterKernelCrash'>here</a> for more info. View Jupyter <a href='command:jupyter.viewOutput'>log</a> for further details."
     ]
    }
   ],
   "source": [
    "from sklearn.model_selection import train_test_split\n",
    "train_df, test_df = train_test_split(dataset_1024_balanced, test_size=0.25, shuffle=True)\n",
    "print(train_df.shape)\n",
    "print(test_df.shape)\n",
    "\n",
    "train_df.to_csv(\"dataset_1024_multiclass_balanced(train).csv\",index=False)\n",
    "test_df.to_csv(\"dataset_1024_multiclass_balanced(test).csv\",index=False)\n"
   ]
  },
  {
   "cell_type": "markdown",
   "metadata": {},
   "source": [
    "### Step 4: Perform train-test split\n",
    "- The `dataset_1024_multiclass_balanced.csv` as well as `dataset_1024_multiclass.csv` was put through the Graph Featurization method in notebook `03a Feautremap Encoding`\n",
    "- This returned us a `1024_dataset_multiclass_featurized.csv` and `1024_dataset_multiclass_featurized_balanced.csv` which only included examples which were successfully encoded using that method\n",
    "- We then perform a train-test split on the successfully split dataset and save it for comparison"
   ]
  },
  {
   "cell_type": "code",
   "execution_count": 4,
   "id": "ab3b2760",
   "metadata": {},
   "outputs": [
    {
     "name": "stdout",
     "output_type": "stream",
     "text": [
      "(76203, 4)\n",
      "(25402, 4)\n",
      "(31099, 4)\n",
      "(10367, 4)\n"
     ]
    }
   ],
   "source": [
    "from sklearn.model_selection import train_test_split\n",
    "df_multiclass = pd.read_csv(\"1024_dataset_multiclass_featurized.csv\")\n",
    "train_df, test_df = train_test_split(df_multiclass, test_size=0.25, shuffle=True)\n",
    "print(train_df.shape)\n",
    "print(test_df.shape)\n",
    "train_df.to_csv(\"1024_dataset_multiclass_featurized(train).csv\", index=False)\n",
    "test_df.to_csv(\"1024_dataset_multiclass_featurized(test).csv\", index=False)\n",
    "\n",
    "df_multiclass = pd.read_csv(\"1024_dataset_multiclass_featurized_balanced.csv\")\n",
    "train_df, test_df = train_test_split(df_multiclass, test_size=0.25, shuffle=True)\n",
    "print(train_df.shape)\n",
    "print(test_df.shape)\n",
    "train_df.to_csv(\"1024_dataset_multiclass_featurized_balanced(train).csv\", index=False)\n",
    "test_df.to_csv(\"1024_dataset_multiclass_featurized_balanced(test).csv\", index=False)"
   ]
  }
 ],
 "metadata": {
  "kernelspec": {
   "display_name": "Python 3 (ipykernel)",
   "language": "python",
   "name": "python3"
  },
  "language_info": {
   "codemirror_mode": {
    "name": "ipython",
    "version": 3
   },
   "file_extension": ".py",
   "mimetype": "text/x-python",
   "name": "python",
   "nbconvert_exporter": "python",
   "pygments_lexer": "ipython3",
   "version": "3.11.5"
  }
 },
 "nbformat": 4,
 "nbformat_minor": 5
}
